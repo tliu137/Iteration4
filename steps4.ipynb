{
 "cells": [
  {
   "cell_type": "code",
   "execution_count": 1,
   "metadata": {},
   "outputs": [],
   "source": [
    "import findspark\n",
    "findspark.init('/home/ubuntu/spark-2.1.1-bin-hadoop2.7')\n",
    "import pyspark\n",
    "from pyspark.sql import SparkSession\n",
    "spark = SparkSession.builder.appName('BDAS_Datass transformation').getOrCreate()"
   ]
  },
  {
   "cell_type": "code",
   "execution_count": 2,
   "metadata": {},
   "outputs": [],
   "source": [
    "from pyspark.sql.types import *\n",
    "schema = StructType([\n",
    "               StructField('year',IntegerType(),True),\n",
    "               StructField('month',IntegerType(),True),\n",
    "               StructField('day',IntegerType(),True),\n",
    "               StructField('hour',IntegerType(),True),\n",
    "               StructField('PM25',FloatType(),True),\n",
    "               StructField('SO2',FloatType(),True),\n",
    "               StructField('NO2',FloatType(),True),\n",
    "               StructField('CO',FloatType(),True),\n",
    "               StructField('O3',FloatType(),True),\n",
    "               StructField('TEMP',FloatType(),True),\n",
    "               StructField('PRES',FloatType(),True),\n",
    "               StructField('DewPointTempeature',FloatType(),True),\n",
    "               StructField('RAIN',FloatType(),True),\n",
    "               StructField('WindDirection',StringType(),True),\n",
    "               StructField('WindSpend',FloatType(),True),\n",
    "               StructField('station',StringType(),True),\n",
    "               StructField('NQR',StringType(),True),\n",
    "               StructField('Season',StringType(),True),\n",
    "                ])"
   ]
  },
  {
   "cell_type": "code",
   "execution_count": 3,
   "metadata": {},
   "outputs": [],
   "source": [
    "file = spark.read.format(\"csv\") \\\n",
    "      .option(\"header\", True) \\\n",
    "      .schema(schema) \\\n",
    "      .load(\"../final_dataset/finishedpreprocessing.csv\")"
   ]
  },
  {
   "cell_type": "code",
   "execution_count": 18,
   "metadata": {},
   "outputs": [
    {
     "name": "stdout",
     "output_type": "stream",
     "text": [
      "<class 'pyspark.sql.dataframe.DataFrame'>\n"
     ]
    }
   ],
   "source": [
    "print(type(file))"
   ]
  },
  {
   "cell_type": "code",
   "execution_count": null,
   "metadata": {},
   "outputs": [],
   "source": [
    "df.show()"
   ]
  },
  {
   "cell_type": "code",
   "execution_count": 5,
   "metadata": {},
   "outputs": [
    {
     "name": "stdout",
     "output_type": "stream",
     "text": [
      "+----+-----+----+----+-----+------+----+----+------+------------------+----+-------------+---------+-------------+------------+------+\n",
      "|year|month|hour| SO2|  NO2|    CO|  O3|TEMP|  PRES|DewPointTempeature|RAIN|WindDirection|WindSpend|      station|         NQR|Season|\n",
      "+----+-----+----+----+-----+------+----+----+------+------------------+----+-------------+---------+-------------+------------+------+\n",
      "|2015|    1|   0|10.0| 16.0| 400.0|54.0|-1.0|1027.0|             -23.0| 0.0|           NW|      0.9|Wanshouxigong|        Good|Winter|\n",
      "|2015|    1|   1|11.0| 17.0| 400.0|53.0| 0.0|1025.0|             -22.9| 0.0|           NW|      2.7|Wanshouxigong|        Good|Winter|\n",
      "|2015|    1|   2|10.0| 15.0| 400.0|55.0| 0.0|1027.0|             -22.9| 0.0|           NW|      2.4|Wanshouxigong|        Good|Winter|\n",
      "|2015|    1|   3|13.0| 13.0| 400.0|57.0| 0.0|1028.0|             -24.4| 0.0|           NW|      2.4|Wanshouxigong|        Good|Winter|\n",
      "|2015|    1|   4|15.0| 12.0| 400.0|58.0| 0.0|1030.0|             -24.4| 0.0|           NW|      2.4|Wanshouxigong|        Good|Winter|\n",
      "|2015|    1|   5|13.0| 15.0| 500.0|55.0|-1.0|1024.0|             -24.4| 0.0|          WNW|      3.2|Wanshouxigong|        Good|Winter|\n",
      "|2015|    1|   6|10.0| 30.0| 500.0|39.0|-4.0|1029.0|             -24.3| 0.0|            W|      0.9|Wanshouxigong|        Good|Winter|\n",
      "|2015|    1|   7|10.0| 41.0| 600.0|30.0|-2.0|1029.0|             -23.9| 0.0|          WNW|      4.2|Wanshouxigong|        Good|Winter|\n",
      "|2015|    1|   8|10.0| 55.0| 600.0|16.0|-2.0|1027.0|             -23.9| 0.0|          WNW|      1.9|Wanshouxigong|        Good|Winter|\n",
      "|2015|    1|   9|11.0| 56.0| 600.0|17.0|-1.0|1026.0|             -23.0| 0.0|          SSW|      1.5|Wanshouxigong|        Good|Winter|\n",
      "|2015|    1|  10|15.0| 56.0| 900.0|21.0| 0.0|1025.0|             -22.9| 0.0|           SW|      2.1|Wanshouxigong|        Good|Winter|\n",
      "|2015|    1|  11|26.0| 64.0|1300.0|23.0| 1.0|1029.0|             -22.8| 0.0|           SW|      1.4|Wanshouxigong|        Good|Winter|\n",
      "|2015|    1|  12|42.0| 76.0|1700.0|27.0| 1.0|1025.0|             -22.8| 0.0|           SW|      2.5|Wanshouxigong|        Good|Winter|\n",
      "|2015|    1|  13|37.0| 70.0|1500.0|37.0| 2.0|1025.0|             -22.8| 0.0|          SSW|      1.8|Wanshouxigong|Satisfactory|Winter|\n",
      "|2015|    1|  14|29.0| 59.0|1300.0|49.0| 3.0|1022.0|             -22.8| 0.0|           SW|      2.0|Wanshouxigong|        Good|Winter|\n",
      "|2015|    1|  15|18.0| 33.0| 900.0|64.0| 3.0|1020.0|             -22.8| 0.0|           SW|      2.4|Wanshouxigong|        Good|Winter|\n",
      "|2015|    1|  16|19.0| 39.0|1000.0|60.0| 3.0|1020.0|             -22.0| 0.0|           SW|      2.7|Wanshouxigong|        Good|Winter|\n",
      "|2015|    1|  17|23.0| 58.0|1300.0|46.0| 1.0|1021.0|             -22.1| 0.0|           SW|      1.1|Wanshouxigong|        Good|Winter|\n",
      "|2015|    1|  18|35.0| 89.0|1800.0|25.0|-1.0|1017.0|             -20.1| 0.0|          SSW|      1.2|Wanshouxigong|Satisfactory|Winter|\n",
      "|2015|    1|  19|43.0|106.0|2000.0|11.0|-2.0|1021.0|             -19.9| 0.0|            W|      1.1|Wanshouxigong|Satisfactory|Winter|\n",
      "+----+-----+----+----+-----+------+----+----+------+------------------+----+-------------+---------+-------------+------------+------+\n",
      "only showing top 20 rows\n",
      "\n"
     ]
    }
   ],
   "source": [
    "df = df.drop(*[\"PM25\",\"day\"])\n",
    "df.show()"
   ]
  },
  {
   "cell_type": "code",
   "execution_count": 6,
   "metadata": {},
   "outputs": [],
   "source": [
    "from pyspark.ml.feature import StringIndexer\n",
    "column = ['WindDirection','station','NQR','Season']\n",
    "for i in column:\n",
    "    indexer = StringIndexer(inputCol =i, outputCol= i+\"Index\" )\n",
    "    model = indexer.fit(df)\n",
    "    indexed = model.transform(df)\n",
    "    df = indexed\n",
    "new_df = df.drop(*column)"
   ]
  },
  {
   "cell_type": "code",
   "execution_count": null,
   "metadata": {},
   "outputs": [],
   "source": [
    "new_df.show()"
   ]
  },
  {
   "cell_type": "code",
   "execution_count": 7,
   "metadata": {},
   "outputs": [],
   "source": [
    "from pyspark.ml.feature import RFormula\n",
    "formula = RFormula(\n",
    "    formula=\"NQRIndex ~ .\",\n",
    "    featuresCol=\"features\",\n",
    "    labelCol=\"label\")\n",
    "\n",
    "output = formula.fit(new_df).transform(new_df)\n",
    "vectorformat = output.select(\"features\", \"label\")"
   ]
  },
  {
   "cell_type": "code",
   "execution_count": null,
   "metadata": {},
   "outputs": [],
   "source": [
    "vectorformat.show(truncate = False)"
   ]
  },
  {
   "cell_type": "code",
   "execution_count": 8,
   "metadata": {},
   "outputs": [
    {
     "name": "stdout",
     "output_type": "stream",
     "text": [
      "ChiSqSelector output with top 16 features selected\n"
     ]
    }
   ],
   "source": [
    "from pyspark.ml.feature import ChiSqSelector\n",
    "from pyspark.ml.linalg import Vectors\n",
    "\n",
    "selector = ChiSqSelector(numTopFeatures=16, featuresCol=\"features\",\n",
    "                         outputCol=\"selectedFeatures\", labelCol=\"label\")\n",
    "\n",
    "result = selector.fit(vectorformat).transform(vectorformat)\n",
    "\n",
    "print(\"ChiSqSelector output with top %d features selected\" % selector.getNumTopFeatures())\n"
   ]
  },
  {
   "cell_type": "code",
   "execution_count": 9,
   "metadata": {},
   "outputs": [
    {
     "name": "stdout",
     "output_type": "stream",
     "text": [
      "+-----------------------------------------------------------------------------------------------------------+-----+-----------------------------------------------------------------------------------------------------------+\n",
      "|features                                                                                                   |label|selectedFeatures                                                                                           |\n",
      "+-----------------------------------------------------------------------------------------------------------+-----+-----------------------------------------------------------------------------------------------------------+\n",
      "|[2015.0,1.0,0.0,10.0,16.0,400.0,54.0,-1.0,1027.0,-23.0,0.0,0.8999999761581421,1.0,4.0,0.0]                 |0.0  |[2015.0,1.0,0.0,10.0,16.0,400.0,54.0,-1.0,1027.0,-23.0,0.0,0.8999999761581421,1.0,4.0,0.0]                 |\n",
      "|[2015.0,1.0,1.0,11.0,17.0,400.0,53.0,0.0,1025.0,-22.899999618530273,0.0,2.700000047683716,1.0,4.0,0.0]     |0.0  |[2015.0,1.0,1.0,11.0,17.0,400.0,53.0,0.0,1025.0,-22.899999618530273,0.0,2.700000047683716,1.0,4.0,0.0]     |\n",
      "|[2015.0,1.0,2.0,10.0,15.0,400.0,55.0,0.0,1027.0,-22.899999618530273,0.0,2.4000000953674316,1.0,4.0,0.0]    |0.0  |[2015.0,1.0,2.0,10.0,15.0,400.0,55.0,0.0,1027.0,-22.899999618530273,0.0,2.4000000953674316,1.0,4.0,0.0]    |\n",
      "|[2015.0,1.0,3.0,13.0,13.0,400.0,57.0,0.0,1028.0,-24.399999618530273,0.0,2.4000000953674316,1.0,4.0,0.0]    |0.0  |[2015.0,1.0,3.0,13.0,13.0,400.0,57.0,0.0,1028.0,-24.399999618530273,0.0,2.4000000953674316,1.0,4.0,0.0]    |\n",
      "|[2015.0,1.0,4.0,15.0,12.0,400.0,58.0,0.0,1030.0,-24.399999618530273,0.0,2.4000000953674316,1.0,4.0,0.0]    |0.0  |[2015.0,1.0,4.0,15.0,12.0,400.0,58.0,0.0,1030.0,-24.399999618530273,0.0,2.4000000953674316,1.0,4.0,0.0]    |\n",
      "|[2015.0,1.0,5.0,13.0,15.0,500.0,55.0,-1.0,1024.0,-24.399999618530273,0.0,3.200000047683716,9.0,4.0,0.0]    |0.0  |[2015.0,1.0,5.0,13.0,15.0,500.0,55.0,-1.0,1024.0,-24.399999618530273,0.0,3.200000047683716,9.0,4.0,0.0]    |\n",
      "|[2015.0,1.0,6.0,10.0,30.0,500.0,39.0,-4.0,1029.0,-24.299999237060547,0.0,0.8999999761581421,15.0,4.0,0.0]  |0.0  |[2015.0,1.0,6.0,10.0,30.0,500.0,39.0,-4.0,1029.0,-24.299999237060547,0.0,0.8999999761581421,15.0,4.0,0.0]  |\n",
      "|[2015.0,1.0,7.0,10.0,41.0,600.0,30.0,-2.0,1029.0,-23.899999618530273,0.0,4.199999809265137,9.0,4.0,0.0]    |0.0  |[2015.0,1.0,7.0,10.0,41.0,600.0,30.0,-2.0,1029.0,-23.899999618530273,0.0,4.199999809265137,9.0,4.0,0.0]    |\n",
      "|[2015.0,1.0,8.0,10.0,55.0,600.0,16.0,-2.0,1027.0,-23.899999618530273,0.0,1.899999976158142,9.0,4.0,0.0]    |0.0  |[2015.0,1.0,8.0,10.0,55.0,600.0,16.0,-2.0,1027.0,-23.899999618530273,0.0,1.899999976158142,9.0,4.0,0.0]    |\n",
      "|[2015.0,1.0,9.0,11.0,56.0,600.0,17.0,-1.0,1026.0,-23.0,0.0,1.5,10.0,4.0,0.0]                               |0.0  |[2015.0,1.0,9.0,11.0,56.0,600.0,17.0,-1.0,1026.0,-23.0,0.0,1.5,10.0,4.0,0.0]                               |\n",
      "|[2015.0,1.0,10.0,15.0,56.0,900.0,21.0,0.0,1025.0,-22.899999618530273,0.0,2.0999999046325684,4.0,4.0,0.0]   |0.0  |[2015.0,1.0,10.0,15.0,56.0,900.0,21.0,0.0,1025.0,-22.899999618530273,0.0,2.0999999046325684,4.0,4.0,0.0]   |\n",
      "|[2015.0,1.0,11.0,26.0,64.0,1300.0,23.0,1.0,1029.0,-22.799999237060547,0.0,1.399999976158142,4.0,4.0,0.0]   |0.0  |[2015.0,1.0,11.0,26.0,64.0,1300.0,23.0,1.0,1029.0,-22.799999237060547,0.0,1.399999976158142,4.0,4.0,0.0]   |\n",
      "|[2015.0,1.0,12.0,42.0,76.0,1700.0,27.0,1.0,1025.0,-22.799999237060547,0.0,2.5,4.0,4.0,0.0]                 |0.0  |[2015.0,1.0,12.0,42.0,76.0,1700.0,27.0,1.0,1025.0,-22.799999237060547,0.0,2.5,4.0,4.0,0.0]                 |\n",
      "|[2015.0,1.0,13.0,37.0,70.0,1500.0,37.0,2.0,1025.0,-22.799999237060547,0.0,1.7999999523162842,10.0,4.0,0.0] |1.0  |[2015.0,1.0,13.0,37.0,70.0,1500.0,37.0,2.0,1025.0,-22.799999237060547,0.0,1.7999999523162842,10.0,4.0,0.0] |\n",
      "|[2015.0,1.0,14.0,29.0,59.0,1300.0,49.0,3.0,1022.0,-22.799999237060547,0.0,2.0,4.0,4.0,0.0]                 |0.0  |[2015.0,1.0,14.0,29.0,59.0,1300.0,49.0,3.0,1022.0,-22.799999237060547,0.0,2.0,4.0,4.0,0.0]                 |\n",
      "|[2015.0,1.0,15.0,18.0,33.0,900.0,64.0,3.0,1020.0,-22.799999237060547,0.0,2.4000000953674316,4.0,4.0,0.0]   |0.0  |[2015.0,1.0,15.0,18.0,33.0,900.0,64.0,3.0,1020.0,-22.799999237060547,0.0,2.4000000953674316,4.0,4.0,0.0]   |\n",
      "|[2015.0,1.0,16.0,19.0,39.0,1000.0,60.0,3.0,1020.0,-22.0,0.0,2.700000047683716,4.0,4.0,0.0]                 |0.0  |[2015.0,1.0,16.0,19.0,39.0,1000.0,60.0,3.0,1020.0,-22.0,0.0,2.700000047683716,4.0,4.0,0.0]                 |\n",
      "|[2015.0,1.0,17.0,23.0,58.0,1300.0,46.0,1.0,1021.0,-22.100000381469727,0.0,1.100000023841858,4.0,4.0,0.0]   |0.0  |[2015.0,1.0,17.0,23.0,58.0,1300.0,46.0,1.0,1021.0,-22.100000381469727,0.0,1.100000023841858,4.0,4.0,0.0]   |\n",
      "|[2015.0,1.0,18.0,35.0,89.0,1800.0,25.0,-1.0,1017.0,-20.100000381469727,0.0,1.2000000476837158,10.0,4.0,0.0]|1.0  |[2015.0,1.0,18.0,35.0,89.0,1800.0,25.0,-1.0,1017.0,-20.100000381469727,0.0,1.2000000476837158,10.0,4.0,0.0]|\n",
      "|[2015.0,1.0,19.0,43.0,106.0,2000.0,11.0,-2.0,1021.0,-19.899999618530273,0.0,1.100000023841858,15.0,4.0,0.0]|1.0  |[2015.0,1.0,19.0,43.0,106.0,2000.0,11.0,-2.0,1021.0,-19.899999618530273,0.0,1.100000023841858,15.0,4.0,0.0]|\n",
      "+-----------------------------------------------------------------------------------------------------------+-----+-----------------------------------------------------------------------------------------------------------+\n",
      "only showing top 20 rows\n",
      "\n"
     ]
    }
   ],
   "source": [
    "result.select('features','label','selectedFeatures').show(20,truncate = False)"
   ]
  },
  {
   "cell_type": "code",
   "execution_count": 10,
   "metadata": {},
   "outputs": [],
   "source": [
    "from pyspark.ml.classification import RandomForestClassifier\n",
    "rf = RandomForestClassifier(numTrees=int(9), maxDepth=int(5), labelCol='label', seed=11)\n",
    "model = rf.fit(vectorformat)"
   ]
  },
  {
   "cell_type": "code",
   "execution_count": 11,
   "metadata": {},
   "outputs": [
    {
     "name": "stdout",
     "output_type": "stream",
     "text": [
      "{'NQRIndex': 0.0, 'year': 0.00013154716809603672, 'DewPointTempeature': 0.0884079368264622, 'stationIndex': 0.001036175290576831, 'NO2': 0.1810933064930174, 'CO': 0.39062896097298794, 'WindDirectionIndex': 0.02110121663588012, 'month': 0.009670148938959573, 'TEMP': 0.024795955307260142, 'hour': 0.0005757787124201702, 'PRES': 0.02374150268508552, 'O3': 0.046052694563309626, 'RAIN': 0.0, 'WindSpend': 0.002673793209110729, 'SO2': 0.2100909831968337}\n"
     ]
    }
   ],
   "source": [
    "ff=model.featureImportances\n",
    "importancesList=[float(col) for col in  ff]\n",
    "colList = new_df.columns\n",
    "result=dict(zip(colList,importancesList))\n",
    "print(result)"
   ]
  },
  {
   "cell_type": "code",
   "execution_count": null,
   "metadata": {},
   "outputs": [],
   "source": [
    "def sort_by_value(d): \n",
    "    items=d.items() \n",
    "    backitems=[[v[1],v[0]] for v in items] \n",
    "    backitems.sort() \n",
    "    return [ backitems[i][1] for i in range(0,len(backitems))]"
   ]
  },
  {
   "cell_type": "code",
   "execution_count": null,
   "metadata": {},
   "outputs": [],
   "source": [
    "dic = sort_by_value(result)\n",
    "dic.reverse()\n",
    "print(dic)"
   ]
  },
  {
   "cell_type": "code",
   "execution_count": 12,
   "metadata": {},
   "outputs": [
    {
     "name": "stdout",
     "output_type": "stream",
     "text": [
      "+-----+----+-----+------+----+----+------+------------------+---------+------------------+------------+--------+-----------+\n",
      "|month| SO2|  NO2|    CO|  O3|TEMP|  PRES|DewPointTempeature|WindSpend|WindDirectionIndex|stationIndex|NQRIndex|SeasonIndex|\n",
      "+-----+----+-----+------+----+----+------+------------------+---------+------------------+------------+--------+-----------+\n",
      "|    1|10.0| 16.0| 400.0|54.0|-1.0|1027.0|             -23.0|      0.9|               1.0|         4.0|     0.0|        0.0|\n",
      "|    1|11.0| 17.0| 400.0|53.0| 0.0|1025.0|             -22.9|      2.7|               1.0|         4.0|     0.0|        0.0|\n",
      "|    1|10.0| 15.0| 400.0|55.0| 0.0|1027.0|             -22.9|      2.4|               1.0|         4.0|     0.0|        0.0|\n",
      "|    1|13.0| 13.0| 400.0|57.0| 0.0|1028.0|             -24.4|      2.4|               1.0|         4.0|     0.0|        0.0|\n",
      "|    1|15.0| 12.0| 400.0|58.0| 0.0|1030.0|             -24.4|      2.4|               1.0|         4.0|     0.0|        0.0|\n",
      "|    1|13.0| 15.0| 500.0|55.0|-1.0|1024.0|             -24.4|      3.2|               9.0|         4.0|     0.0|        0.0|\n",
      "|    1|10.0| 30.0| 500.0|39.0|-4.0|1029.0|             -24.3|      0.9|              15.0|         4.0|     0.0|        0.0|\n",
      "|    1|10.0| 41.0| 600.0|30.0|-2.0|1029.0|             -23.9|      4.2|               9.0|         4.0|     0.0|        0.0|\n",
      "|    1|10.0| 55.0| 600.0|16.0|-2.0|1027.0|             -23.9|      1.9|               9.0|         4.0|     0.0|        0.0|\n",
      "|    1|11.0| 56.0| 600.0|17.0|-1.0|1026.0|             -23.0|      1.5|              10.0|         4.0|     0.0|        0.0|\n",
      "|    1|15.0| 56.0| 900.0|21.0| 0.0|1025.0|             -22.9|      2.1|               4.0|         4.0|     0.0|        0.0|\n",
      "|    1|26.0| 64.0|1300.0|23.0| 1.0|1029.0|             -22.8|      1.4|               4.0|         4.0|     0.0|        0.0|\n",
      "|    1|42.0| 76.0|1700.0|27.0| 1.0|1025.0|             -22.8|      2.5|               4.0|         4.0|     0.0|        0.0|\n",
      "|    1|37.0| 70.0|1500.0|37.0| 2.0|1025.0|             -22.8|      1.8|              10.0|         4.0|     1.0|        0.0|\n",
      "|    1|29.0| 59.0|1300.0|49.0| 3.0|1022.0|             -22.8|      2.0|               4.0|         4.0|     0.0|        0.0|\n",
      "|    1|18.0| 33.0| 900.0|64.0| 3.0|1020.0|             -22.8|      2.4|               4.0|         4.0|     0.0|        0.0|\n",
      "|    1|19.0| 39.0|1000.0|60.0| 3.0|1020.0|             -22.0|      2.7|               4.0|         4.0|     0.0|        0.0|\n",
      "|    1|23.0| 58.0|1300.0|46.0| 1.0|1021.0|             -22.1|      1.1|               4.0|         4.0|     0.0|        0.0|\n",
      "|    1|35.0| 89.0|1800.0|25.0|-1.0|1017.0|             -20.1|      1.2|              10.0|         4.0|     1.0|        0.0|\n",
      "|    1|43.0|106.0|2000.0|11.0|-2.0|1021.0|             -19.9|      1.1|              15.0|         4.0|     1.0|        0.0|\n",
      "+-----+----+-----+------+----+----+------+------------------+---------+------------------+------------+--------+-----------+\n",
      "only showing top 20 rows\n",
      "\n",
      "Number of attribute:  13\n"
     ]
    }
   ],
   "source": [
    "after_feature = new_df.drop(*['hour','RAIN','year'])\n",
    "after_feature.show()\n",
    "print(\"Number of attribute: \",len(after_feature.columns))"
   ]
  },
  {
   "cell_type": "code",
   "execution_count": null,
   "metadata": {},
   "outputs": [],
   "source": [
    "formula = RFormula(\n",
    "    formula=\"NQRIndex ~ .\",\n",
    "    featuresCol=\"features\",\n",
    "    labelCol=\"label\")\n",
    "\n",
    "output = formula.fit(after_feature).transform(after_feature)\n",
    "vectorformat2 = output.select(\"features\", \"label\")"
   ]
  },
  {
   "cell_type": "code",
   "execution_count": 13,
   "metadata": {},
   "outputs": [
    {
     "name": "stdout",
     "output_type": "stream",
     "text": [
      "108279 49511 38691 12271 3658 1791\n"
     ]
    }
   ],
   "source": [
    "from pyspark.sql.functions import col, explode, array, lit\n",
    "df_0 = after_feature.filter(col(\"NQRIndex\") == 0)\n",
    "df_1 = after_feature.filter(col(\"NQRIndex\") == 1)\n",
    "df_2 = after_feature.filter(col(\"NQRIndex\") == 2)\n",
    "df_3 = after_feature.filter(col(\"NQRIndex\") == 3)\n",
    "df_4 = after_feature.filter(col(\"NQRIndex\") == 4)\n",
    "df_5 = after_feature.filter(col(\"NQRIndex\") == 5)\n",
    "\n",
    "print(df_0.count(),df_1.count(),df_2.count(),df_3.count(),df_4.count(),df_5.count())"
   ]
  },
  {
   "cell_type": "code",
   "execution_count": 14,
   "metadata": {},
   "outputs": [],
   "source": [
    "count_list = [df_1,df_2,df_3,df_4,df_5]\n",
    "combined_df = df_0\n",
    "for element in count_list:\n",
    "    ratio = int(df_0.count()/element.count())\n",
    "    a = range(ratio)\n",
    "    oversampled_df = element.withColumn(\"dummy\", explode(array([lit(x) for x in a]))).drop('dummy')\n",
    "    combined_df = combined_df.unionAll(oversampled_df)"
   ]
  },
  {
   "cell_type": "code",
   "execution_count": 20,
   "metadata": {},
   "outputs": [
    {
     "name": "stdout",
     "output_type": "stream",
     "text": [
      "108279 99022 77382 98168 106082 107460\n"
     ]
    }
   ],
   "source": [
    "df_0 = combined_df.filter(col(\"NQRIndex\") == 0)\n",
    "df_1 = combined_df.filter(col(\"NQRIndex\") == 1)\n",
    "df_2 = combined_df.filter(col(\"NQRIndex\") == 2)\n",
    "df_3 = combined_df.filter(col(\"NQRIndex\") == 3)\n",
    "df_4 = combined_df.filter(col(\"NQRIndex\") == 4)\n",
    "df_5 = combined_df.filter(col(\"NQRIndex\") == 5)\n",
    "\n",
    "print(df_0.count(),df_1.count(),df_2.count(),df_3.count(),df_4.count(),df_5.count())"
   ]
  },
  {
   "cell_type": "code",
   "execution_count": 19,
   "metadata": {
    "scrolled": false
   },
   "outputs": [],
   "source": [
    "file = combined_df\n",
    "file.write.csv(\"../final_dataset/view2.csv\",header = True)"
   ]
  },
  {
   "cell_type": "code",
   "execution_count": 15,
   "metadata": {},
   "outputs": [
    {
     "name": "stdout",
     "output_type": "stream",
     "text": [
      "596393\n"
     ]
    }
   ],
   "source": [
    "print(combined_df.count())"
   ]
  },
  {
   "cell_type": "code",
   "execution_count": 22,
   "metadata": {},
   "outputs": [
    {
     "name": "stdout",
     "output_type": "stream",
     "text": [
      "root\n",
      " |-- month: integer (nullable = true)\n",
      " |-- SO2: float (nullable = true)\n",
      " |-- NO2: float (nullable = true)\n",
      " |-- CO: float (nullable = true)\n",
      " |-- O3: float (nullable = true)\n",
      " |-- TEMP: float (nullable = true)\n",
      " |-- PRES: float (nullable = true)\n",
      " |-- DewPointTempeature: float (nullable = true)\n",
      " |-- WindSpend: float (nullable = true)\n",
      " |-- WindDirectionIndex: double (nullable = true)\n",
      " |-- stationIndex: double (nullable = true)\n",
      " |-- NQRIndex: double (nullable = true)\n",
      " |-- SeasonIndex: double (nullable = true)\n",
      "\n",
      "+-----+----+----+------+----+----+------+------------------+---------+------------------+------------+--------+-----------+\n",
      "|month| SO2| NO2|    CO|  O3|TEMP|  PRES|DewPointTempeature|WindSpend|WindDirectionIndex|stationIndex|NQRIndex|SeasonIndex|\n",
      "+-----+----+----+------+----+----+------+------------------+---------+------------------+------------+--------+-----------+\n",
      "|    1|10.0|16.0| 400.0|54.0|-1.0|1027.0|             -23.0|      0.9|               1.0|         4.0|     0.0|        0.0|\n",
      "|    1|11.0|17.0| 400.0|53.0| 0.0|1025.0|             -22.9|      2.7|               1.0|         4.0|     0.0|        0.0|\n",
      "|    1|10.0|15.0| 400.0|55.0| 0.0|1027.0|             -22.9|      2.4|               1.0|         4.0|     0.0|        0.0|\n",
      "|    1|13.0|13.0| 400.0|57.0| 0.0|1028.0|             -24.4|      2.4|               1.0|         4.0|     0.0|        0.0|\n",
      "|    1|15.0|12.0| 400.0|58.0| 0.0|1030.0|             -24.4|      2.4|               1.0|         4.0|     0.0|        0.0|\n",
      "|    1|13.0|15.0| 500.0|55.0|-1.0|1024.0|             -24.4|      3.2|               9.0|         4.0|     0.0|        0.0|\n",
      "|    1|10.0|30.0| 500.0|39.0|-4.0|1029.0|             -24.3|      0.9|              15.0|         4.0|     0.0|        0.0|\n",
      "|    1|10.0|41.0| 600.0|30.0|-2.0|1029.0|             -23.9|      4.2|               9.0|         4.0|     0.0|        0.0|\n",
      "|    1|10.0|55.0| 600.0|16.0|-2.0|1027.0|             -23.9|      1.9|               9.0|         4.0|     0.0|        0.0|\n",
      "|    1|11.0|56.0| 600.0|17.0|-1.0|1026.0|             -23.0|      1.5|              10.0|         4.0|     0.0|        0.0|\n",
      "|    1|15.0|56.0| 900.0|21.0| 0.0|1025.0|             -22.9|      2.1|               4.0|         4.0|     0.0|        0.0|\n",
      "|    1|26.0|64.0|1300.0|23.0| 1.0|1029.0|             -22.8|      1.4|               4.0|         4.0|     0.0|        0.0|\n",
      "|    1|42.0|76.0|1700.0|27.0| 1.0|1025.0|             -22.8|      2.5|               4.0|         4.0|     0.0|        0.0|\n",
      "|    1|29.0|59.0|1300.0|49.0| 3.0|1022.0|             -22.8|      2.0|               4.0|         4.0|     0.0|        0.0|\n",
      "|    1|18.0|33.0| 900.0|64.0| 3.0|1020.0|             -22.8|      2.4|               4.0|         4.0|     0.0|        0.0|\n",
      "|    1|19.0|39.0|1000.0|60.0| 3.0|1020.0|             -22.0|      2.7|               4.0|         4.0|     0.0|        0.0|\n",
      "|    1|23.0|58.0|1300.0|46.0| 1.0|1021.0|             -22.1|      1.1|               4.0|         4.0|     0.0|        0.0|\n",
      "|    1|28.0|91.0|1500.0| 4.0|-1.0|1024.0|             -18.1|      1.8|               4.0|         4.0|     0.0|        0.0|\n",
      "|    1|23.0|86.0|1500.0| 3.0|-4.0|1021.0|             -16.6|      0.7|               4.0|         4.0|     0.0|        0.0|\n",
      "|    1|17.0|62.0|1000.0|16.0|-1.0|1020.0|             -18.1|      3.5|              14.0|         4.0|     0.0|        0.0|\n",
      "+-----+----+----+------+----+----+------+------------------+---------+------------------+------------+--------+-----------+\n",
      "only showing top 20 rows\n",
      "\n"
     ]
    }
   ],
   "source": [
    "combined_df.printSchema()\n",
    "combined_df.show()"
   ]
  },
  {
   "cell_type": "code",
   "execution_count": 23,
   "metadata": {},
   "outputs": [
    {
     "data": {
      "text/plain": [
       "596393"
      ]
     },
     "execution_count": 23,
     "metadata": {},
     "output_type": "execute_result"
    }
   ],
   "source": [
    "combined_df.count()"
   ]
  },
  {
   "cell_type": "code",
   "execution_count": 24,
   "metadata": {},
   "outputs": [],
   "source": [
    "formula = RFormula(\n",
    "    formula=\"NQRIndex ~ .\",\n",
    "    featuresCol=\"features\",\n",
    "    labelCol=\"label\")\n",
    "\n",
    "output = formula.fit(combined_df).transform(combined_df)\n",
    "vectorformat3 = output.select(\"features\", \"label\")"
   ]
  },
  {
   "cell_type": "code",
   "execution_count": 25,
   "metadata": {},
   "outputs": [
    {
     "name": "stdout",
     "output_type": "stream",
     "text": [
      "+--------------------+-----+\n",
      "|            features|label|\n",
      "+--------------------+-----+\n",
      "|[1.0,10.0,16.0,40...|  0.0|\n",
      "|[1.0,11.0,17.0,40...|  0.0|\n",
      "|[1.0,10.0,15.0,40...|  0.0|\n",
      "|[1.0,13.0,13.0,40...|  0.0|\n",
      "|[1.0,15.0,12.0,40...|  0.0|\n",
      "|[1.0,13.0,15.0,50...|  0.0|\n",
      "|[1.0,10.0,30.0,50...|  0.0|\n",
      "|[1.0,10.0,41.0,60...|  0.0|\n",
      "|[1.0,10.0,55.0,60...|  0.0|\n",
      "|[1.0,11.0,56.0,60...|  0.0|\n",
      "|[1.0,15.0,56.0,90...|  0.0|\n",
      "|[1.0,26.0,64.0,13...|  0.0|\n",
      "|[1.0,42.0,76.0,17...|  0.0|\n",
      "|[1.0,29.0,59.0,13...|  0.0|\n",
      "|[1.0,18.0,33.0,90...|  0.0|\n",
      "|[1.0,19.0,39.0,10...|  0.0|\n",
      "|[1.0,23.0,58.0,13...|  0.0|\n",
      "|[1.0,28.0,91.0,15...|  0.0|\n",
      "|[1.0,23.0,86.0,15...|  0.0|\n",
      "|[1.0,17.0,62.0,10...|  0.0|\n",
      "+--------------------+-----+\n",
      "only showing top 20 rows\n",
      "\n"
     ]
    },
    {
     "data": {
      "text/plain": [
       "596393"
      ]
     },
     "execution_count": 25,
     "metadata": {},
     "output_type": "execute_result"
    }
   ],
   "source": [
    "vectorformat3.show()\n",
    "vectorformat3.count()"
   ]
  }
 ],
 "metadata": {
  "kernelspec": {
   "display_name": "Python 3",
   "language": "python",
   "name": "python3"
  },
  "language_info": {
   "codemirror_mode": {
    "name": "ipython",
    "version": 3
   },
   "file_extension": ".py",
   "mimetype": "text/x-python",
   "name": "python",
   "nbconvert_exporter": "python",
   "pygments_lexer": "ipython3",
   "version": "3.7.3"
  }
 },
 "nbformat": 4,
 "nbformat_minor": 2
}
