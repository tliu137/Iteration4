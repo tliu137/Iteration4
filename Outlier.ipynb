{
 "cells": [
  {
   "cell_type": "code",
   "execution_count": 1,
   "metadata": {},
   "outputs": [],
   "source": [
    "# Must be included at the beginning of each new notebook. Remember to change the app name.\n",
    "import findspark\n",
    "findspark.init('/home/ubuntu/spark-2.1.1-bin-hadoop2.7')\n",
    "import pyspark\n",
    "from pyspark.sql import SparkSession\n",
    "spark = SparkSession.builder.appName('BDAS').getOrCreate()"
   ]
  },
  {
   "cell_type": "code",
   "execution_count": 2,
   "metadata": {},
   "outputs": [],
   "source": [
    "# create correct data schema.\n",
    "from pyspark.sql.types import *\n",
    "schema = StructType([StructField('No',IntegerType(),True),\n",
    "               StructField('year',IntegerType(),True),\n",
    "               StructField('month',IntegerType(),True),\n",
    "               StructField('day',IntegerType(),True),\n",
    "               StructField('hour',IntegerType(),True),\n",
    "               StructField('PM25',FloatType(),True),\n",
    "               StructField('PM10',FloatType(),True),\n",
    "               StructField('SO2',FloatType(),True),\n",
    "               StructField('NO2',FloatType(),True),\n",
    "               StructField('CO',FloatType(),True),\n",
    "               StructField('O3',FloatType(),True),\n",
    "               StructField('TEMP',FloatType(),True),\n",
    "               StructField('PRES',FloatType(),True),\n",
    "               StructField('DewPointTempeature',FloatType(),True),\n",
    "               StructField('RAIN',FloatType(),True),\n",
    "               StructField('WindDirection',StringType(),True),\n",
    "               StructField('WindSpend',FloatType(),True),\n",
    "               StructField('station',StringType(),True)])"
   ]
  },
  {
   "cell_type": "code",
   "execution_count": 3,
   "metadata": {},
   "outputs": [
    {
     "name": "stdout",
     "output_type": "stream",
     "text": [
      "+---+----+-----+---+----+-----+----+---+---+---+---+----+------+-----+----+---+----+------------+\n",
      "| No|year|month|day|hour|PM2.5|PM10|SO2|NO2| CO| O3|TEMP|  PRES| DEWP|RAIN| wd|WSPM|     station|\n",
      "+---+----+-----+---+----+-----+----+---+---+---+---+----+------+-----+----+---+----+------------+\n",
      "|  1|2013|    3|  1|   0|    4|   4|  4|  7|300| 77|-0.7|  1023|-18.8|   0|NNW| 4.4|Aotizhongxin|\n",
      "|  2|2013|    3|  1|   1|    8|   8|  4|  7|300| 77|-1.1|1023.2|-18.2|   0|  N| 4.7|Aotizhongxin|\n",
      "|  3|2013|    3|  1|   2|    7|   7|  5| 10|300| 73|-1.1|1023.5|-18.2|   0|NNW| 5.6|Aotizhongxin|\n",
      "|  4|2013|    3|  1|   3|    6|   6| 11| 11|300| 72|-1.4|1024.5|-19.4|   0| NW| 3.1|Aotizhongxin|\n",
      "|  5|2013|    3|  1|   4|    3|   3| 12| 12|300| 72|  -2|1025.2|-19.5|   0|  N|   2|Aotizhongxin|\n",
      "|  6|2013|    3|  1|   5|    5|   5| 18| 18|400| 66|-2.2|1025.6|-19.6|   0|  N| 3.7|Aotizhongxin|\n",
      "|  7|2013|    3|  1|   6|    3|   3| 18| 32|500| 50|-2.6|1026.5|-19.1|   0|NNE| 2.5|Aotizhongxin|\n",
      "|  8|2013|    3|  1|   7|    3|   6| 19| 41|500| 43|-1.6|1027.4|-19.1|   0|NNW| 3.8|Aotizhongxin|\n",
      "|  9|2013|    3|  1|   8|    3|   6| 16| 43|500| 45| 0.1|1028.3|-19.2|   0|NNW| 4.1|Aotizhongxin|\n",
      "| 10|2013|    3|  1|   9|    3|   8| 12| 28|400| 59| 1.2|1028.5|-19.3|   0|  N| 2.6|Aotizhongxin|\n",
      "| 11|2013|    3|  1|  10|    3|   6|  9| 12|400| 72| 1.9|1028.2|-19.4|   0|NNW| 3.6|Aotizhongxin|\n",
      "| 12|2013|    3|  1|  11|    3|   6|  9| 14|400| 71| 2.9|1028.2|-20.5|   0|  N| 3.7|Aotizhongxin|\n",
      "| 13|2013|    3|  1|  12|    3|   6|  7| 13|300| 74| 3.9|1027.3|-19.7|   0|NNW| 5.1|Aotizhongxin|\n",
      "| 14|2013|    3|  1|  13|    3|   6|  7| 12|400| 76| 5.3|1026.2|-19.3|   0| NW| 4.3|Aotizhongxin|\n",
      "| 15|2013|    3|  1|  14|    6|   9|  7| 11|400| 77|   6|1025.9|-19.6|   0| NW| 4.4|Aotizhongxin|\n",
      "| 16|2013|    3|  1|  15|    8|  15|  7| 14|400| 76| 6.2|1025.7|-18.6|   0|NNE| 2.8|Aotizhongxin|\n",
      "| 17|2013|    3|  1|  16|    9|  19|  9| 13|400| 76| 5.9|1025.6|-18.1|   0|NNW| 3.9|Aotizhongxin|\n",
      "| 18|2013|    3|  1|  17|   10|  23| 11| 15|400| 74| 4.3|1026.3|-18.7|   0|NNE| 2.8|Aotizhongxin|\n",
      "| 19|2013|    3|  1|  18|   11|  20|  8| 20|500| 70| 3.1|1027.4|-18.4|   0|NNE| 2.1|Aotizhongxin|\n",
      "| 20|2013|    3|  1|  19|    8|  14| 12| 30|500| 60| 2.3|1028.3|-18.4|   0|  N| 2.8|Aotizhongxin|\n",
      "+---+----+-----+---+----+-----+----+---+---+---+---+----+------+-----+----+---+----+------------+\n",
      "only showing top 20 rows\n",
      "\n"
     ]
    }
   ],
   "source": [
    "df_with_schema = spark.read.format(\"csv\") \\\n",
    "      .option(\"header\", True) \\\n",
    "      .load(\"../DataSet/PRSA_Data_Aotizhongxin_20130301-20170228.csv\")\n",
    "df_with_schema.show()"
   ]
  },
  {
   "cell_type": "code",
   "execution_count": 4,
   "metadata": {},
   "outputs": [
    {
     "name": "stdout",
     "output_type": "stream",
     "text": [
      "root\n",
      " |-- No: string (nullable = true)\n",
      " |-- year: string (nullable = true)\n",
      " |-- month: string (nullable = true)\n",
      " |-- day: string (nullable = true)\n",
      " |-- hour: string (nullable = true)\n",
      " |-- PM2.5: string (nullable = true)\n",
      " |-- PM10: string (nullable = true)\n",
      " |-- SO2: string (nullable = true)\n",
      " |-- NO2: string (nullable = true)\n",
      " |-- CO: string (nullable = true)\n",
      " |-- O3: string (nullable = true)\n",
      " |-- TEMP: string (nullable = true)\n",
      " |-- PRES: string (nullable = true)\n",
      " |-- DEWP: string (nullable = true)\n",
      " |-- RAIN: string (nullable = true)\n",
      " |-- wd: string (nullable = true)\n",
      " |-- WSPM: string (nullable = true)\n",
      " |-- station: string (nullable = true)\n",
      "\n"
     ]
    }
   ],
   "source": [
    "df_with_schema.printSchema()"
   ]
  },
  {
   "cell_type": "code",
   "execution_count": 5,
   "metadata": {},
   "outputs": [
    {
     "name": "stdout",
     "output_type": "stream",
     "text": [
      "+---+----+-----+---+----+----+----+---+---+---+---+----+------+------------------+----+-------------+---------+------------+\n",
      "| No|year|month|day|hour|PM25|PM10|SO2|NO2| CO| O3|TEMP|  PRES|DewPointTempeature|RAIN|WindDirection|WindSpend|     station|\n",
      "+---+----+-----+---+----+----+----+---+---+---+---+----+------+------------------+----+-------------+---------+------------+\n",
      "|  1|2013|    3|  1|   0|   4|   4|  4|  7|300| 77|-0.7|  1023|             -18.8|   0|          NNW|      4.4|Aotizhongxin|\n",
      "|  2|2013|    3|  1|   1|   8|   8|  4|  7|300| 77|-1.1|1023.2|             -18.2|   0|            N|      4.7|Aotizhongxin|\n",
      "|  3|2013|    3|  1|   2|   7|   7|  5| 10|300| 73|-1.1|1023.5|             -18.2|   0|          NNW|      5.6|Aotizhongxin|\n",
      "|  4|2013|    3|  1|   3|   6|   6| 11| 11|300| 72|-1.4|1024.5|             -19.4|   0|           NW|      3.1|Aotizhongxin|\n",
      "|  5|2013|    3|  1|   4|   3|   3| 12| 12|300| 72|  -2|1025.2|             -19.5|   0|            N|        2|Aotizhongxin|\n",
      "|  6|2013|    3|  1|   5|   5|   5| 18| 18|400| 66|-2.2|1025.6|             -19.6|   0|            N|      3.7|Aotizhongxin|\n",
      "|  7|2013|    3|  1|   6|   3|   3| 18| 32|500| 50|-2.6|1026.5|             -19.1|   0|          NNE|      2.5|Aotizhongxin|\n",
      "|  8|2013|    3|  1|   7|   3|   6| 19| 41|500| 43|-1.6|1027.4|             -19.1|   0|          NNW|      3.8|Aotizhongxin|\n",
      "|  9|2013|    3|  1|   8|   3|   6| 16| 43|500| 45| 0.1|1028.3|             -19.2|   0|          NNW|      4.1|Aotizhongxin|\n",
      "| 10|2013|    3|  1|   9|   3|   8| 12| 28|400| 59| 1.2|1028.5|             -19.3|   0|            N|      2.6|Aotizhongxin|\n",
      "| 11|2013|    3|  1|  10|   3|   6|  9| 12|400| 72| 1.9|1028.2|             -19.4|   0|          NNW|      3.6|Aotizhongxin|\n",
      "| 12|2013|    3|  1|  11|   3|   6|  9| 14|400| 71| 2.9|1028.2|             -20.5|   0|            N|      3.7|Aotizhongxin|\n",
      "| 13|2013|    3|  1|  12|   3|   6|  7| 13|300| 74| 3.9|1027.3|             -19.7|   0|          NNW|      5.1|Aotizhongxin|\n",
      "| 14|2013|    3|  1|  13|   3|   6|  7| 12|400| 76| 5.3|1026.2|             -19.3|   0|           NW|      4.3|Aotizhongxin|\n",
      "| 15|2013|    3|  1|  14|   6|   9|  7| 11|400| 77|   6|1025.9|             -19.6|   0|           NW|      4.4|Aotizhongxin|\n",
      "| 16|2013|    3|  1|  15|   8|  15|  7| 14|400| 76| 6.2|1025.7|             -18.6|   0|          NNE|      2.8|Aotizhongxin|\n",
      "| 17|2013|    3|  1|  16|   9|  19|  9| 13|400| 76| 5.9|1025.6|             -18.1|   0|          NNW|      3.9|Aotizhongxin|\n",
      "| 18|2013|    3|  1|  17|  10|  23| 11| 15|400| 74| 4.3|1026.3|             -18.7|   0|          NNE|      2.8|Aotizhongxin|\n",
      "| 19|2013|    3|  1|  18|  11|  20|  8| 20|500| 70| 3.1|1027.4|             -18.4|   0|          NNE|      2.1|Aotizhongxin|\n",
      "| 20|2013|    3|  1|  19|   8|  14| 12| 30|500| 60| 2.3|1028.3|             -18.4|   0|            N|      2.8|Aotizhongxin|\n",
      "+---+----+-----+---+----+----+----+---+---+---+---+----+------+------------------+----+-------------+---------+------------+\n",
      "only showing top 20 rows\n",
      "\n"
     ]
    }
   ],
   "source": [
    "new_rename_df = df_with_schema.withColumnRenamed(\"DEWP\",\"DewPointTempeature\") \\\n",
    "    .withColumnRenamed(\"wd\",\"WindDirection\")\\\n",
    "    .withColumnRenamed(\"WSPM\",\"WindSpend\")\\\n",
    "    .withColumnRenamed(\"PM2.5\",\"PM25\")\n",
    "new_rename_df.show()"
   ]
  },
  {
   "cell_type": "code",
   "execution_count": 6,
   "metadata": {},
   "outputs": [
    {
     "data": {
      "text/plain": [
       "35064"
      ]
     },
     "execution_count": 6,
     "metadata": {},
     "output_type": "execute_result"
    }
   ],
   "source": [
    "new_rename_df.count()"
   ]
  },
  {
   "cell_type": "code",
   "execution_count": 7,
   "metadata": {
    "scrolled": false
   },
   "outputs": [
    {
     "name": "stdout",
     "output_type": "stream",
     "text": [
      "+-----+----+-----+---+----+----+----+---+---+----+---+----------------+-------+------------------+----+-------------+---------+------------+\n",
      "|   No|year|month|day|hour|PM25|PM10|SO2|NO2|  CO| O3|            TEMP|   PRES|DewPointTempeature|RAIN|WindDirection|WindSpend|     station|\n",
      "+-----+----+-----+---+----+----+----+---+---+----+---+----------------+-------+------------------+----+-------------+---------+------------+\n",
      "| 6389|2013|   11| 22|   4|  82|  74| 15| 75|1300| NA|            -3.2| 1020.5|                -4|   0|           NA|      0.1|Aotizhongxin|\n",
      "|11719|2014|    7|  2|   6|  44|  44|  2| 16| 800|105|            21.5|  998.2|              21.5| 0.1|           NA|      0.2|Aotizhongxin|\n",
      "|13413|2014|    9| 10|  20|  56| 141| 13| 81| 700| 99|            21.7|   1008|              15.8|   0|           NA|        0|Aotizhongxin|\n",
      "|16749|2015|    1| 27|  20|  26|  42| 12| 78|1300|  2|              NA|     NA|                NA|  NA|           NA|       NA|Aotizhongxin|\n",
      "|17264|2015|    2| 18|   7|  13|  14| 12| 22| 600| 60|              NA|     NA|                NA|  NA|           NA|       NA|Aotizhongxin|\n",
      "|20854|2015|    7| 17|  21|  67|  82|  3| 84|1400| 86|            23.7| 1002.3|              21.6|   0|           NA|      0.1|Aotizhongxin|\n",
      "|23036|2015|   10| 16|  19| 274| 338| 23|243|4000| 54|            16.7| 1012.6|              12.6|   0|           NA|      0.2|Aotizhongxin|\n",
      "|23060|2015|   10| 17|  19| 347| 347| 14|263|4800|  9|              16| 1013.6|              13.3|   0|           NA|      0.1|Aotizhongxin|\n",
      "|23357|2015|   10| 30|   4|  13|  38|  3| 65| 500| NA|             0.7| 1026.7|              -3.8|   0|           NA|      0.2|Aotizhongxin|\n",
      "|25757|2016|    2|  7|   4|  51|  61| 36| 72|2000| NA|            -5.9| 1018.7|             -14.2|   0|           NA|      0.2|Aotizhongxin|\n",
      "|26428|2016|    3|  6|   3|  41| 142| 14| 69|1400|  3|            -0.1|   1016|              -8.1|   0|           NA|      0.1|Aotizhongxin|\n",
      "|28055|2016|    5| 12|  22|  22| 126|  3| 63| 800|  2|            12.8| 1014.4|               2.6|   0|           NA|        0|Aotizhongxin|\n",
      "|28110|2016|    5| 15|   5|  72|  72|  2| 40| 700|  2|            12.3| 1010.3|              11.2|   0|           NA|      0.2|Aotizhongxin|\n",
      "|29765|2016|    7| 23|   4| 135| 135|  2| 24| 900| 40|            26.1|  996.3|              24.9|   0|           NA|      0.2|Aotizhongxin|\n",
      "|30605|2016|    8| 27|   4|  16|  32|  2| 64| 300|  2|            17.9| 1010.1|                13|   0|           NA|      1.1|Aotizhongxin|\n",
      "|30750|2016|    9|  2|   5|  14|  28|  2| 36| 400|  2|21.0571428571429|    997|              13.3|   0|           NA|        0|Aotizhongxin|\n",
      "|30891|2016|    9|  8|   2|  23|  27|  2| 68| 600|  2|            18.2| 1002.4|                17|   0|           NA|        0|Aotizhongxin|\n",
      "|31055|2016|    9| 14|  22|  36|  36|  2| 59| 700| 43|            25.5|1011.25|              18.3|   0|           NA|      0.5|Aotizhongxin|\n",
      "|31224|2016|    9| 21|  23|  90| 103|  7|100|1100|  8|            18.7|1014.75|              14.4|   0|           NA|        0|Aotizhongxin|\n",
      "|31245|2016|    9| 22|  20| 121| 121|  8| 60|1200|119|          21.975|   1009|              14.7|   0|           NA|      0.2|Aotizhongxin|\n",
      "+-----+----+-----+---+----+----+----+---+---+----+---+----------------+-------+------------------+----+-------------+---------+------------+\n",
      "only showing top 20 rows\n",
      "\n"
     ]
    }
   ],
   "source": [
    "new_rename_df.filter( (new_rename_df[\"WindDirection\"] == 'NA')).show()"
   ]
  },
  {
   "cell_type": "code",
   "execution_count": 8,
   "metadata": {
    "scrolled": false
   },
   "outputs": [],
   "source": [
    "from pyspark.sql.functions import col, when"
   ]
  },
  {
   "cell_type": "code",
   "execution_count": 9,
   "metadata": {
    "scrolled": false
   },
   "outputs": [],
   "source": [
    "KK = new_rename_df\n",
    "for i in new_rename_df.columns:\n",
    "    Kitty = KK.withColumn(i,when((col(i)=='NA'),None).otherwise(col(i)))\n",
    "    KK = Kitty"
   ]
  },
  {
   "cell_type": "code",
   "execution_count": null,
   "metadata": {
    "scrolled": false
   },
   "outputs": [],
   "source": []
  },
  {
   "cell_type": "code",
   "execution_count": 10,
   "metadata": {},
   "outputs": [],
   "source": [
    "after_delete = KK.na.drop()"
   ]
  },
  {
   "cell_type": "code",
   "execution_count": 9,
   "metadata": {
    "scrolled": false
   },
   "outputs": [
    {
     "name": "stdout",
     "output_type": "stream",
     "text": [
      "+---+----+-----+---+----+----+----+---+---+---+---+----+------+------------------+----+-------------+---------+------------+\n",
      "| No|year|month|day|hour|PM25|PM10|SO2|NO2| CO| O3|TEMP|  PRES|DewPointTempeature|RAIN|WindDirection|WindSpend|     station|\n",
      "+---+----+-----+---+----+----+----+---+---+---+---+----+------+------------------+----+-------------+---------+------------+\n",
      "|  1|2013|    3|  1|   0|   4|   4|  4|  7|300| 77|-0.7|  1023|             -18.8|   0|          NNW|      4.4|Aotizhongxin|\n",
      "|  2|2013|    3|  1|   1|   8|   8|  4|  7|300| 77|-1.1|1023.2|             -18.2|   0|            N|      4.7|Aotizhongxin|\n",
      "|  3|2013|    3|  1|   2|   7|   7|  5| 10|300| 73|-1.1|1023.5|             -18.2|   0|          NNW|      5.6|Aotizhongxin|\n",
      "|  4|2013|    3|  1|   3|   6|   6| 11| 11|300| 72|-1.4|1024.5|             -19.4|   0|           NW|      3.1|Aotizhongxin|\n",
      "|  5|2013|    3|  1|   4|   3|   3| 12| 12|300| 72|  -2|1025.2|             -19.5|   0|            N|        2|Aotizhongxin|\n",
      "|  6|2013|    3|  1|   5|   5|   5| 18| 18|400| 66|-2.2|1025.6|             -19.6|   0|            N|      3.7|Aotizhongxin|\n",
      "|  7|2013|    3|  1|   6|   3|   3| 18| 32|500| 50|-2.6|1026.5|             -19.1|   0|          NNE|      2.5|Aotizhongxin|\n",
      "|  8|2013|    3|  1|   7|   3|   6| 19| 41|500| 43|-1.6|1027.4|             -19.1|   0|          NNW|      3.8|Aotizhongxin|\n",
      "|  9|2013|    3|  1|   8|   3|   6| 16| 43|500| 45| 0.1|1028.3|             -19.2|   0|          NNW|      4.1|Aotizhongxin|\n",
      "| 10|2013|    3|  1|   9|   3|   8| 12| 28|400| 59| 1.2|1028.5|             -19.3|   0|            N|      2.6|Aotizhongxin|\n",
      "| 11|2013|    3|  1|  10|   3|   6|  9| 12|400| 72| 1.9|1028.2|             -19.4|   0|          NNW|      3.6|Aotizhongxin|\n",
      "| 12|2013|    3|  1|  11|   3|   6|  9| 14|400| 71| 2.9|1028.2|             -20.5|   0|            N|      3.7|Aotizhongxin|\n",
      "| 13|2013|    3|  1|  12|   3|   6|  7| 13|300| 74| 3.9|1027.3|             -19.7|   0|          NNW|      5.1|Aotizhongxin|\n",
      "| 14|2013|    3|  1|  13|   3|   6|  7| 12|400| 76| 5.3|1026.2|             -19.3|   0|           NW|      4.3|Aotizhongxin|\n",
      "| 15|2013|    3|  1|  14|   6|   9|  7| 11|400| 77|   6|1025.9|             -19.6|   0|           NW|      4.4|Aotizhongxin|\n",
      "| 16|2013|    3|  1|  15|   8|  15|  7| 14|400| 76| 6.2|1025.7|             -18.6|   0|          NNE|      2.8|Aotizhongxin|\n",
      "| 17|2013|    3|  1|  16|   9|  19|  9| 13|400| 76| 5.9|1025.6|             -18.1|   0|          NNW|      3.9|Aotizhongxin|\n",
      "| 18|2013|    3|  1|  17|  10|  23| 11| 15|400| 74| 4.3|1026.3|             -18.7|   0|          NNE|      2.8|Aotizhongxin|\n",
      "| 19|2013|    3|  1|  18|  11|  20|  8| 20|500| 70| 3.1|1027.4|             -18.4|   0|          NNE|      2.1|Aotizhongxin|\n",
      "| 20|2013|    3|  1|  19|   8|  14| 12| 30|500| 60| 2.3|1028.3|             -18.4|   0|            N|      2.8|Aotizhongxin|\n",
      "+---+----+-----+---+----+----+----+---+---+---+---+----+------+------------------+----+-------------+---------+------------+\n",
      "only showing top 20 rows\n",
      "\n"
     ]
    }
   ],
   "source": [
    "after_delete.show()"
   ]
  },
  {
   "cell_type": "code",
   "execution_count": 12,
   "metadata": {},
   "outputs": [],
   "source": [
    "after_delete.write.csv(\"../DataSet/outliter.csv\")"
   ]
  },
  {
   "cell_type": "code",
   "execution_count": 13,
   "metadata": {},
   "outputs": [
    {
     "name": "stdout",
     "output_type": "stream",
     "text": [
      "+---+----+-----+---+----+----+----+----+----+-----+----+----+------+------------------+----+-------------+---------+------------+\n",
      "| No|year|month|day|hour|PM25|PM10| SO2| NO2|   CO|  O3|TEMP|  PRES|DewPointTempeature|RAIN|WindDirection|WindSpend|     station|\n",
      "+---+----+-----+---+----+----+----+----+----+-----+----+----+------+------------------+----+-------------+---------+------------+\n",
      "|  2|2013|    3|  1|   1| 8.0| 8.0| 4.0| 7.0|300.0|77.0|-1.1|1023.2|             -18.2| 0.0|            N|      4.7|Aotizhongxin|\n",
      "|  3|2013|    3|  1|   2| 7.0| 7.0| 5.0|10.0|300.0|73.0|-1.1|1023.5|             -18.2| 0.0|          NNW|      5.6|Aotizhongxin|\n",
      "|  4|2013|    3|  1|   3| 6.0| 6.0|11.0|11.0|300.0|72.0|-1.4|1024.5|             -19.4| 0.0|           NW|      3.1|Aotizhongxin|\n",
      "|  5|2013|    3|  1|   4| 3.0| 3.0|12.0|12.0|300.0|72.0|-2.0|1025.2|             -19.5| 0.0|            N|      2.0|Aotizhongxin|\n",
      "|  6|2013|    3|  1|   5| 5.0| 5.0|18.0|18.0|400.0|66.0|-2.2|1025.6|             -19.6| 0.0|            N|      3.7|Aotizhongxin|\n",
      "|  7|2013|    3|  1|   6| 3.0| 3.0|18.0|32.0|500.0|50.0|-2.6|1026.5|             -19.1| 0.0|          NNE|      2.5|Aotizhongxin|\n",
      "|  8|2013|    3|  1|   7| 3.0| 6.0|19.0|41.0|500.0|43.0|-1.6|1027.4|             -19.1| 0.0|          NNW|      3.8|Aotizhongxin|\n",
      "|  9|2013|    3|  1|   8| 3.0| 6.0|16.0|43.0|500.0|45.0| 0.1|1028.3|             -19.2| 0.0|          NNW|      4.1|Aotizhongxin|\n",
      "| 10|2013|    3|  1|   9| 3.0| 8.0|12.0|28.0|400.0|59.0| 1.2|1028.5|             -19.3| 0.0|            N|      2.6|Aotizhongxin|\n",
      "| 11|2013|    3|  1|  10| 3.0| 6.0| 9.0|12.0|400.0|72.0| 1.9|1028.2|             -19.4| 0.0|          NNW|      3.6|Aotizhongxin|\n",
      "| 12|2013|    3|  1|  11| 3.0| 6.0| 9.0|14.0|400.0|71.0| 2.9|1028.2|             -20.5| 0.0|            N|      3.7|Aotizhongxin|\n",
      "| 13|2013|    3|  1|  12| 3.0| 6.0| 7.0|13.0|300.0|74.0| 3.9|1027.3|             -19.7| 0.0|          NNW|      5.1|Aotizhongxin|\n",
      "| 14|2013|    3|  1|  13| 3.0| 6.0| 7.0|12.0|400.0|76.0| 5.3|1026.2|             -19.3| 0.0|           NW|      4.3|Aotizhongxin|\n",
      "| 15|2013|    3|  1|  14| 6.0| 9.0| 7.0|11.0|400.0|77.0| 6.0|1025.9|             -19.6| 0.0|           NW|      4.4|Aotizhongxin|\n",
      "| 16|2013|    3|  1|  15| 8.0|15.0| 7.0|14.0|400.0|76.0| 6.2|1025.7|             -18.6| 0.0|          NNE|      2.8|Aotizhongxin|\n",
      "| 17|2013|    3|  1|  16| 9.0|19.0| 9.0|13.0|400.0|76.0| 5.9|1025.6|             -18.1| 0.0|          NNW|      3.9|Aotizhongxin|\n",
      "| 18|2013|    3|  1|  17|10.0|23.0|11.0|15.0|400.0|74.0| 4.3|1026.3|             -18.7| 0.0|          NNE|      2.8|Aotizhongxin|\n",
      "| 19|2013|    3|  1|  18|11.0|20.0| 8.0|20.0|500.0|70.0| 3.1|1027.4|             -18.4| 0.0|          NNE|      2.1|Aotizhongxin|\n",
      "| 20|2013|    3|  1|  19| 8.0|14.0|12.0|30.0|500.0|60.0| 2.3|1028.3|             -18.4| 0.0|            N|      2.8|Aotizhongxin|\n",
      "| 21|2013|    3|  1|  20|11.0|17.0|13.0|33.0|600.0|55.0| 1.7|1029.1|             -17.3| 0.0|            N|      2.1|Aotizhongxin|\n",
      "+---+----+-----+---+----+----+----+----+----+-----+----+----+------+------------------+----+-------------+---------+------------+\n",
      "only showing top 20 rows\n",
      "\n"
     ]
    }
   ],
   "source": [
    "df_with_schema = spark.read.format(\"csv\") \\\n",
    "      .option(\"header\", True) \\\n",
    "      .schema(schema) \\\n",
    "      .load(\"../DataSet/outliter.csv\")\n",
    "df_with_schema.show()"
   ]
  },
  {
   "cell_type": "code",
   "execution_count": 14,
   "metadata": {},
   "outputs": [
    {
     "name": "stdout",
     "output_type": "stream",
     "text": [
      "root\n",
      " |-- No: integer (nullable = true)\n",
      " |-- year: integer (nullable = true)\n",
      " |-- month: integer (nullable = true)\n",
      " |-- day: integer (nullable = true)\n",
      " |-- hour: integer (nullable = true)\n",
      " |-- PM25: float (nullable = true)\n",
      " |-- PM10: float (nullable = true)\n",
      " |-- SO2: float (nullable = true)\n",
      " |-- NO2: float (nullable = true)\n",
      " |-- CO: float (nullable = true)\n",
      " |-- O3: float (nullable = true)\n",
      " |-- TEMP: float (nullable = true)\n",
      " |-- PRES: float (nullable = true)\n",
      " |-- DewPointTempeature: float (nullable = true)\n",
      " |-- RAIN: float (nullable = true)\n",
      " |-- WindDirection: string (nullable = true)\n",
      " |-- WindSpend: float (nullable = true)\n",
      " |-- station: string (nullable = true)\n",
      "\n"
     ]
    }
   ],
   "source": [
    "df_with_schema.printSchema()"
   ]
  },
  {
   "cell_type": "code",
   "execution_count": 15,
   "metadata": {},
   "outputs": [
    {
     "data": {
      "text/plain": [
       "31814"
      ]
     },
     "execution_count": 15,
     "metadata": {},
     "output_type": "execute_result"
    }
   ],
   "source": [
    "df_with_schema.count()"
   ]
  },
  {
   "cell_type": "code",
   "execution_count": 16,
   "metadata": {},
   "outputs": [],
   "source": [
    "from pyspark import SparkContext\n",
    "from pyspark.sql.session import SparkSession"
   ]
  },
  {
   "cell_type": "code",
   "execution_count": 17,
   "metadata": {
    "scrolled": false
   },
   "outputs": [],
   "source": [
    "cols = ['PM25','SO2','NO2','CO','O3','TEMP','PRES','DewPointTempeature','RAIN','WindSpend']\n",
    "bounds = {}\n",
    "\n",
    "for col in cols:\n",
    "    quantiles = df_with_schema.approxQuantile(\n",
    "        col, [0.25, 0.75], 0.05\n",
    "    )\n",
    "    \n",
    "    IQR = quantiles[1] - quantiles[0]\n",
    "    \n",
    "    bounds[col] = [\n",
    "        quantiles[0] - 1.5 * IQR,\n",
    "        quantiles[1] + 1.5 * IQR\n",
    "    ]"
   ]
  },
  {
   "cell_type": "code",
   "execution_count": 18,
   "metadata": {},
   "outputs": [
    {
     "data": {
      "text/plain": [
       "{'CO': [-850.0, 2750.0],\n",
       " 'DewPointTempeature': [-40.34999942779541, 47.249999046325684],\n",
       " 'NO2': [-36.5, 143.5],\n",
       " 'O3': [-94.0, 178.0],\n",
       " 'PM25': [-97.0, 223.0],\n",
       " 'PRES': [980.7999572753906, 1041.6000061035156],\n",
       " 'RAIN': [0.0, 0.0],\n",
       " 'SO2': [-19.5, 40.5],\n",
       " 'TEMP': [-24.0999995470047, 50.29999911785126],\n",
       " 'WindSpend': [-0.8999999165534973, 3.8999997973442078]}"
      ]
     },
     "execution_count": 18,
     "metadata": {},
     "output_type": "execute_result"
    }
   ],
   "source": [
    "bounds"
   ]
  },
  {
   "cell_type": "code",
   "execution_count": 38,
   "metadata": {},
   "outputs": [
    {
     "name": "stdout",
     "output_type": "stream",
     "text": [
      "+---+------+-----+-----+-----+-----+------+------+--------------------+------+-----------+\n",
      "| No|PM25_0|SO2_0|NO2_0| CO_0| O3_0|TEMP_0|PRES_0|DewPointTempeature_0|RAIN_0|WindSpend_0|\n",
      "+---+------+-----+-----+-----+-----+------+------+--------------------+------+-----------+\n",
      "|  2| false|false|false|false|false| false| false|               false| false|       true|\n",
      "|  3| false|false|false|false|false| false| false|               false| false|       true|\n",
      "|  4| false|false|false|false|false| false| false|               false| false|      false|\n",
      "|  5| false|false|false|false|false| false| false|               false| false|      false|\n",
      "|  6| false|false|false|false|false| false| false|               false| false|      false|\n",
      "|  7| false|false|false|false|false| false| false|               false| false|      false|\n",
      "|  8| false|false|false|false|false| false| false|               false| false|      false|\n",
      "|  9| false|false|false|false|false| false| false|               false| false|       true|\n",
      "| 10| false|false|false|false|false| false| false|               false| false|      false|\n",
      "| 11| false|false|false|false|false| false| false|               false| false|      false|\n",
      "| 12| false|false|false|false|false| false| false|               false| false|      false|\n",
      "| 13| false|false|false|false|false| false| false|               false| false|       true|\n",
      "| 14| false|false|false|false|false| false| false|               false| false|       true|\n",
      "| 15| false|false|false|false|false| false| false|               false| false|       true|\n",
      "| 16| false|false|false|false|false| false| false|               false| false|      false|\n",
      "| 17| false|false|false|false|false| false| false|               false| false|       true|\n",
      "| 18| false|false|false|false|false| false| false|               false| false|      false|\n",
      "| 19| false|false|false|false|false| false| false|               false| false|      false|\n",
      "| 20| false|false|false|false|false| false| false|               false| false|      false|\n",
      "| 21| false|false|false|false|false| false| false|               false| false|      false|\n",
      "+---+------+-----+-----+-----+-----+------+------+--------------------+------+-----------+\n",
      "only showing top 20 rows\n",
      "\n"
     ]
    }
   ],
   "source": [
    "outliers = df_with_schema.select(*['No'] + [\n",
    "    (\n",
    "        (df_with_schema[c] < bounds[c][0]) | (df_with_schema[c] > bounds[c][1])\n",
    "    ).alias(c + '_0') for c in cols\n",
    "])\n",
    "\n",
    "outliers.show()"
   ]
  },
  {
   "cell_type": "code",
   "execution_count": 39,
   "metadata": {},
   "outputs": [
    {
     "name": "stdout",
     "output_type": "stream",
     "text": [
      "+---+----+-----+---+----+----+----+----+----+-----+----+----+------+------------------+----+-------------+---------+------------+------+-----+-----+-----+-----+------+------+--------------------+------+-----------+\n",
      "| No|year|month|day|hour|PM25|PM10| SO2| NO2|   CO|  O3|TEMP|  PRES|DewPointTempeature|RAIN|WindDirection|WindSpend|     station|PM25_0|SO2_0|NO2_0| CO_0| O3_0|TEMP_0|PRES_0|DewPointTempeature_0|RAIN_0|WindSpend_0|\n",
      "+---+----+-----+---+----+----+----+----+----+-----+----+----+------+------------------+----+-------------+---------+------------+------+-----+-----+-----+-----+------+------+--------------------+------+-----------+\n",
      "|  2|2013|    3|  1|   1| 8.0| 8.0| 4.0| 7.0|300.0|77.0|-1.1|1023.2|             -18.2| 0.0|            N|      4.7|Aotizhongxin| false|false|false|false|false| false| false|               false| false|       true|\n",
      "|  3|2013|    3|  1|   2| 7.0| 7.0| 5.0|10.0|300.0|73.0|-1.1|1023.5|             -18.2| 0.0|          NNW|      5.6|Aotizhongxin| false|false|false|false|false| false| false|               false| false|       true|\n",
      "|  4|2013|    3|  1|   3| 6.0| 6.0|11.0|11.0|300.0|72.0|-1.4|1024.5|             -19.4| 0.0|           NW|      3.1|Aotizhongxin| false|false|false|false|false| false| false|               false| false|      false|\n",
      "|  5|2013|    3|  1|   4| 3.0| 3.0|12.0|12.0|300.0|72.0|-2.0|1025.2|             -19.5| 0.0|            N|      2.0|Aotizhongxin| false|false|false|false|false| false| false|               false| false|      false|\n",
      "|  6|2013|    3|  1|   5| 5.0| 5.0|18.0|18.0|400.0|66.0|-2.2|1025.6|             -19.6| 0.0|            N|      3.7|Aotizhongxin| false|false|false|false|false| false| false|               false| false|      false|\n",
      "|  7|2013|    3|  1|   6| 3.0| 3.0|18.0|32.0|500.0|50.0|-2.6|1026.5|             -19.1| 0.0|          NNE|      2.5|Aotizhongxin| false|false|false|false|false| false| false|               false| false|      false|\n",
      "|  8|2013|    3|  1|   7| 3.0| 6.0|19.0|41.0|500.0|43.0|-1.6|1027.4|             -19.1| 0.0|          NNW|      3.8|Aotizhongxin| false|false|false|false|false| false| false|               false| false|      false|\n",
      "|  9|2013|    3|  1|   8| 3.0| 6.0|16.0|43.0|500.0|45.0| 0.1|1028.3|             -19.2| 0.0|          NNW|      4.1|Aotizhongxin| false|false|false|false|false| false| false|               false| false|       true|\n",
      "| 10|2013|    3|  1|   9| 3.0| 8.0|12.0|28.0|400.0|59.0| 1.2|1028.5|             -19.3| 0.0|            N|      2.6|Aotizhongxin| false|false|false|false|false| false| false|               false| false|      false|\n",
      "| 11|2013|    3|  1|  10| 3.0| 6.0| 9.0|12.0|400.0|72.0| 1.9|1028.2|             -19.4| 0.0|          NNW|      3.6|Aotizhongxin| false|false|false|false|false| false| false|               false| false|      false|\n",
      "| 12|2013|    3|  1|  11| 3.0| 6.0| 9.0|14.0|400.0|71.0| 2.9|1028.2|             -20.5| 0.0|            N|      3.7|Aotizhongxin| false|false|false|false|false| false| false|               false| false|      false|\n",
      "| 13|2013|    3|  1|  12| 3.0| 6.0| 7.0|13.0|300.0|74.0| 3.9|1027.3|             -19.7| 0.0|          NNW|      5.1|Aotizhongxin| false|false|false|false|false| false| false|               false| false|       true|\n",
      "| 14|2013|    3|  1|  13| 3.0| 6.0| 7.0|12.0|400.0|76.0| 5.3|1026.2|             -19.3| 0.0|           NW|      4.3|Aotizhongxin| false|false|false|false|false| false| false|               false| false|       true|\n",
      "| 15|2013|    3|  1|  14| 6.0| 9.0| 7.0|11.0|400.0|77.0| 6.0|1025.9|             -19.6| 0.0|           NW|      4.4|Aotizhongxin| false|false|false|false|false| false| false|               false| false|       true|\n",
      "| 16|2013|    3|  1|  15| 8.0|15.0| 7.0|14.0|400.0|76.0| 6.2|1025.7|             -18.6| 0.0|          NNE|      2.8|Aotizhongxin| false|false|false|false|false| false| false|               false| false|      false|\n",
      "| 17|2013|    3|  1|  16| 9.0|19.0| 9.0|13.0|400.0|76.0| 5.9|1025.6|             -18.1| 0.0|          NNW|      3.9|Aotizhongxin| false|false|false|false|false| false| false|               false| false|       true|\n",
      "| 18|2013|    3|  1|  17|10.0|23.0|11.0|15.0|400.0|74.0| 4.3|1026.3|             -18.7| 0.0|          NNE|      2.8|Aotizhongxin| false|false|false|false|false| false| false|               false| false|      false|\n",
      "| 19|2013|    3|  1|  18|11.0|20.0| 8.0|20.0|500.0|70.0| 3.1|1027.4|             -18.4| 0.0|          NNE|      2.1|Aotizhongxin| false|false|false|false|false| false| false|               false| false|      false|\n",
      "| 20|2013|    3|  1|  19| 8.0|14.0|12.0|30.0|500.0|60.0| 2.3|1028.3|             -18.4| 0.0|            N|      2.8|Aotizhongxin| false|false|false|false|false| false| false|               false| false|      false|\n",
      "| 21|2013|    3|  1|  20|11.0|17.0|13.0|33.0|600.0|55.0| 1.7|1029.1|             -17.3| 0.0|            N|      2.1|Aotizhongxin| false|false|false|false|false| false| false|               false| false|      false|\n",
      "+---+----+-----+---+----+----+----+----+----+-----+----+----+------+------------------+----+-------------+---------+------------+------+-----+-----+-----+-----+------+------+--------------------+------+-----------+\n",
      "only showing top 20 rows\n",
      "\n"
     ]
    }
   ],
   "source": [
    "df_outliers = df_with_schema.join(outliers, on='No')\n",
    "df_outliers.show()"
   ]
  },
  {
   "cell_type": "code",
   "execution_count": 41,
   "metadata": {},
   "outputs": [
    {
     "data": {
      "text/plain": [
       "2145"
      ]
     },
     "execution_count": 41,
     "metadata": {},
     "output_type": "execute_result"
    }
   ],
   "source": [
    "df_outliers.filter('PM25_0' or 'SO2_0' or 'NO2_0' or  'CO_0'or 'O3_0' or 'TEMP_0' or 'PRES_0' or 'DewPointTempeature_0' or 'RAIN_0' or 'WindSpend_0').count()"
   ]
  },
  {
   "cell_type": "code",
   "execution_count": 66,
   "metadata": {},
   "outputs": [],
   "source": [
    "check  = df_outliers.filter(~df_outliers['PM25_0'] & \n",
    "                   ~df_outliers['SO2_0'] & \n",
    "                   ~df_outliers['NO2_0'] & \n",
    "                   ~df_outliers['CO_0'] & \n",
    "                   ~df_outliers['O3_0'] & \n",
    "                   ~df_outliers['TEMP_0'] & \n",
    "                   ~df_outliers['PRES_0'] &\n",
    "                   ~df_outliers['DewPointTempeature_0']&\n",
    "                   ~df_outliers['RAIN_0']&\n",
    "                   ~df_outliers['WindSpend_0'])"
   ]
  },
  {
   "cell_type": "code",
   "execution_count": 72,
   "metadata": {},
   "outputs": [
    {
     "data": {
      "text/plain": [
       "21220"
      ]
     },
     "execution_count": 72,
     "metadata": {},
     "output_type": "execute_result"
    }
   ],
   "source": [
    "check.count()"
   ]
  },
  {
   "cell_type": "code",
   "execution_count": 73,
   "metadata": {},
   "outputs": [
    {
     "name": "stdout",
     "output_type": "stream",
     "text": [
      "+---+----+-----+---+----+----+----+----+----+-----+----+----+------+------------------+----+-------------+---------+------------+------+-----+-----+-----+-----+------+------+--------------------+------+-----------+\n",
      "| No|year|month|day|hour|PM25|PM10| SO2| NO2|   CO|  O3|TEMP|  PRES|DewPointTempeature|RAIN|WindDirection|WindSpend|     station|PM25_0|SO2_0|NO2_0| CO_0| O3_0|TEMP_0|PRES_0|DewPointTempeature_0|RAIN_0|WindSpend_0|\n",
      "+---+----+-----+---+----+----+----+----+----+-----+----+----+------+------------------+----+-------------+---------+------------+------+-----+-----+-----+-----+------+------+--------------------+------+-----------+\n",
      "|  4|2013|    3|  1|   3| 6.0| 6.0|11.0|11.0|300.0|72.0|-1.4|1024.5|             -19.4| 0.0|           NW|      3.1|Aotizhongxin| false|false|false|false|false| false| false|               false| false|      false|\n",
      "|  5|2013|    3|  1|   4| 3.0| 3.0|12.0|12.0|300.0|72.0|-2.0|1025.2|             -19.5| 0.0|            N|      2.0|Aotizhongxin| false|false|false|false|false| false| false|               false| false|      false|\n",
      "|  6|2013|    3|  1|   5| 5.0| 5.0|18.0|18.0|400.0|66.0|-2.2|1025.6|             -19.6| 0.0|            N|      3.7|Aotizhongxin| false|false|false|false|false| false| false|               false| false|      false|\n",
      "|  7|2013|    3|  1|   6| 3.0| 3.0|18.0|32.0|500.0|50.0|-2.6|1026.5|             -19.1| 0.0|          NNE|      2.5|Aotizhongxin| false|false|false|false|false| false| false|               false| false|      false|\n",
      "|  8|2013|    3|  1|   7| 3.0| 6.0|19.0|41.0|500.0|43.0|-1.6|1027.4|             -19.1| 0.0|          NNW|      3.8|Aotizhongxin| false|false|false|false|false| false| false|               false| false|      false|\n",
      "| 10|2013|    3|  1|   9| 3.0| 8.0|12.0|28.0|400.0|59.0| 1.2|1028.5|             -19.3| 0.0|            N|      2.6|Aotizhongxin| false|false|false|false|false| false| false|               false| false|      false|\n",
      "| 11|2013|    3|  1|  10| 3.0| 6.0| 9.0|12.0|400.0|72.0| 1.9|1028.2|             -19.4| 0.0|          NNW|      3.6|Aotizhongxin| false|false|false|false|false| false| false|               false| false|      false|\n",
      "| 12|2013|    3|  1|  11| 3.0| 6.0| 9.0|14.0|400.0|71.0| 2.9|1028.2|             -20.5| 0.0|            N|      3.7|Aotizhongxin| false|false|false|false|false| false| false|               false| false|      false|\n",
      "| 16|2013|    3|  1|  15| 8.0|15.0| 7.0|14.0|400.0|76.0| 6.2|1025.7|             -18.6| 0.0|          NNE|      2.8|Aotizhongxin| false|false|false|false|false| false| false|               false| false|      false|\n",
      "| 18|2013|    3|  1|  17|10.0|23.0|11.0|15.0|400.0|74.0| 4.3|1026.3|             -18.7| 0.0|          NNE|      2.8|Aotizhongxin| false|false|false|false|false| false| false|               false| false|      false|\n",
      "| 19|2013|    3|  1|  18|11.0|20.0| 8.0|20.0|500.0|70.0| 3.1|1027.4|             -18.4| 0.0|          NNE|      2.1|Aotizhongxin| false|false|false|false|false| false| false|               false| false|      false|\n",
      "| 20|2013|    3|  1|  19| 8.0|14.0|12.0|30.0|500.0|60.0| 2.3|1028.3|             -18.4| 0.0|            N|      2.8|Aotizhongxin| false|false|false|false|false| false| false|               false| false|      false|\n",
      "| 21|2013|    3|  1|  20|11.0|17.0|13.0|33.0|600.0|55.0| 1.7|1029.1|             -17.3| 0.0|            N|      2.1|Aotizhongxin| false|false|false|false|false| false| false|               false| false|      false|\n",
      "| 22|2013|    3|  1|  21|12.0|18.0|16.0|35.0|500.0|50.0| 0.6|1030.1|             -16.7| 0.0|          ENE|      0.8|Aotizhongxin| false|false|false|false|false| false| false|               false| false|      false|\n",
      "| 23|2013|    3|  1|  22|15.0|19.0|21.0|57.0|700.0|32.0| 0.9|1030.5|             -17.4| 0.0|          ENE|      1.8|Aotizhongxin| false|false|false|false|false| false| false|               false| false|      false|\n",
      "| 24|2013|    3|  1|  23|24.0|24.0|26.0|54.0|600.0|36.0|-0.2|1030.5|             -17.4| 0.0|          ENE|      1.4|Aotizhongxin| false|false|false|false|false| false| false|               false| false|      false|\n",
      "| 25|2013|    3|  2|   0|22.0|24.0|24.0|44.0|500.0|44.0|-0.4|1031.0|             -17.6| 0.0|          ENE|      1.4|Aotizhongxin| false|false|false|false|false| false| false|               false| false|      false|\n",
      "| 26|2013|    3|  2|   1|14.0|17.0|21.0|36.0|400.0|50.0|-1.0|1031.3|             -17.3| 0.0|          NNE|      1.1|Aotizhongxin| false|false|false|false|false| false| false|               false| false|      false|\n",
      "| 27|2013|    3|  2|   2|13.0|13.0|20.0|37.0|400.0|47.0|-1.5|1030.9|             -16.9| 0.0|            E|      1.7|Aotizhongxin| false|false|false|false|false| false| false|               false| false|      false|\n",
      "| 28|2013|    3|  2|   3| 3.0| 9.0|13.0|34.0|400.0|52.0|-1.4|1030.6|             -17.6| 0.0|          NNE|      1.4|Aotizhongxin| false|false|false|false|false| false| false|               false| false|      false|\n",
      "+---+----+-----+---+----+----+----+----+----+-----+----+----+------+------------------+----+-------------+---------+------------+------+-----+-----+-----+-----+------+------+--------------------+------+-----------+\n",
      "only showing top 20 rows\n",
      "\n"
     ]
    }
   ],
   "source": [
    "check.show()"
   ]
  },
  {
   "cell_type": "code",
   "execution_count": 77,
   "metadata": {},
   "outputs": [],
   "source": [
    "afterDrop = check.drop(*[\"PM25_0\",\"SO2_0\",'NO2_0','CO_0','O3_0','TEMP_0','PRES_0','DewPointTempeature_0','RAIN_0','WindSpend_0',\"No\",\"PM10\"])"
   ]
  },
  {
   "cell_type": "code",
   "execution_count": 78,
   "metadata": {},
   "outputs": [
    {
     "name": "stdout",
     "output_type": "stream",
     "text": [
      "+----+-----+---+----+----+----+----+-----+----+----+------+------------------+----+-------------+---------+------------+\n",
      "|year|month|day|hour|PM25| SO2| NO2|   CO|  O3|TEMP|  PRES|DewPointTempeature|RAIN|WindDirection|WindSpend|     station|\n",
      "+----+-----+---+----+----+----+----+-----+----+----+------+------------------+----+-------------+---------+------------+\n",
      "|2013|    3|  1|   3| 6.0|11.0|11.0|300.0|72.0|-1.4|1024.5|             -19.4| 0.0|           NW|      3.1|Aotizhongxin|\n",
      "|2013|    3|  1|   4| 3.0|12.0|12.0|300.0|72.0|-2.0|1025.2|             -19.5| 0.0|            N|      2.0|Aotizhongxin|\n",
      "|2013|    3|  1|   5| 5.0|18.0|18.0|400.0|66.0|-2.2|1025.6|             -19.6| 0.0|            N|      3.7|Aotizhongxin|\n",
      "|2013|    3|  1|   6| 3.0|18.0|32.0|500.0|50.0|-2.6|1026.5|             -19.1| 0.0|          NNE|      2.5|Aotizhongxin|\n",
      "|2013|    3|  1|   7| 3.0|19.0|41.0|500.0|43.0|-1.6|1027.4|             -19.1| 0.0|          NNW|      3.8|Aotizhongxin|\n",
      "|2013|    3|  1|   9| 3.0|12.0|28.0|400.0|59.0| 1.2|1028.5|             -19.3| 0.0|            N|      2.6|Aotizhongxin|\n",
      "|2013|    3|  1|  10| 3.0| 9.0|12.0|400.0|72.0| 1.9|1028.2|             -19.4| 0.0|          NNW|      3.6|Aotizhongxin|\n",
      "|2013|    3|  1|  11| 3.0| 9.0|14.0|400.0|71.0| 2.9|1028.2|             -20.5| 0.0|            N|      3.7|Aotizhongxin|\n",
      "|2013|    3|  1|  15| 8.0| 7.0|14.0|400.0|76.0| 6.2|1025.7|             -18.6| 0.0|          NNE|      2.8|Aotizhongxin|\n",
      "|2013|    3|  1|  17|10.0|11.0|15.0|400.0|74.0| 4.3|1026.3|             -18.7| 0.0|          NNE|      2.8|Aotizhongxin|\n",
      "|2013|    3|  1|  18|11.0| 8.0|20.0|500.0|70.0| 3.1|1027.4|             -18.4| 0.0|          NNE|      2.1|Aotizhongxin|\n",
      "|2013|    3|  1|  19| 8.0|12.0|30.0|500.0|60.0| 2.3|1028.3|             -18.4| 0.0|            N|      2.8|Aotizhongxin|\n",
      "|2013|    3|  1|  20|11.0|13.0|33.0|600.0|55.0| 1.7|1029.1|             -17.3| 0.0|            N|      2.1|Aotizhongxin|\n",
      "|2013|    3|  1|  21|12.0|16.0|35.0|500.0|50.0| 0.6|1030.1|             -16.7| 0.0|          ENE|      0.8|Aotizhongxin|\n",
      "|2013|    3|  1|  22|15.0|21.0|57.0|700.0|32.0| 0.9|1030.5|             -17.4| 0.0|          ENE|      1.8|Aotizhongxin|\n",
      "|2013|    3|  1|  23|24.0|26.0|54.0|600.0|36.0|-0.2|1030.5|             -17.4| 0.0|          ENE|      1.4|Aotizhongxin|\n",
      "|2013|    3|  2|   0|22.0|24.0|44.0|500.0|44.0|-0.4|1031.0|             -17.6| 0.0|          ENE|      1.4|Aotizhongxin|\n",
      "|2013|    3|  2|   1|14.0|21.0|36.0|400.0|50.0|-1.0|1031.3|             -17.3| 0.0|          NNE|      1.1|Aotizhongxin|\n",
      "|2013|    3|  2|   2|13.0|20.0|37.0|400.0|47.0|-1.5|1030.9|             -16.9| 0.0|            E|      1.7|Aotizhongxin|\n",
      "|2013|    3|  2|   3| 3.0|13.0|34.0|400.0|52.0|-1.4|1030.6|             -17.6| 0.0|          NNE|      1.4|Aotizhongxin|\n",
      "+----+-----+---+----+----+----+----+-----+----+----+------+------------------+----+-------------+---------+------------+\n",
      "only showing top 20 rows\n",
      "\n"
     ]
    }
   ],
   "source": [
    "afterDrop.show()"
   ]
  },
  {
   "cell_type": "code",
   "execution_count": 81,
   "metadata": {},
   "outputs": [
    {
     "name": "stdout",
     "output_type": "stream",
     "text": [
      "+----+-----+---+----+----+----+----+------+----+----+------+------------------+----+-------------+---------+------------+\n",
      "|year|month|day|hour|PM25| SO2| NO2|    CO|  O3|TEMP|  PRES|DewPointTempeature|RAIN|WindDirection|WindSpend|     station|\n",
      "+----+-----+---+----+----+----+----+------+----+----+------+------------------+----+-------------+---------+------------+\n",
      "|2015|    1|  1|   4|12.0|14.0|33.0| 700.0|24.0|-2.0|1027.0|             -23.2| 0.0|          ENE|      1.4|Aotizhongxin|\n",
      "|2015|    1|  1|   5|12.0|10.0|34.0| 600.0|23.0|-5.0|1030.0|             -23.5| 0.0|            N|      1.1|Aotizhongxin|\n",
      "|2015|    1|  1|   6| 6.0| 4.0|19.0| 500.0|34.0|-6.0|1029.0|             -23.8| 0.0|           NE|      1.6|Aotizhongxin|\n",
      "|2015|    1|  1|   7|11.0| 7.0|25.0| 500.0|28.0|-7.0|1030.0|             -24.2| 0.0|           NE|      2.0|Aotizhongxin|\n",
      "|2015|    1|  1|   8|12.0|11.0|49.0| 600.0|10.0|-6.0|1028.0|             -23.8| 0.0|            E|      0.9|Aotizhongxin|\n",
      "|2015|    1|  1|  10|15.0|19.0|29.0| 600.0|29.0|-1.0|1029.0|             -23.0| 0.0|          ENE|      1.1|Aotizhongxin|\n",
      "|2015|    1|  1|  11|11.0|17.0|25.0| 600.0|34.0| 1.0|1026.0|             -23.6| 0.0|           SW|      2.1|Aotizhongxin|\n",
      "|2015|    1|  1|  12|25.0|20.0|50.0| 900.0|20.0| 1.0|1022.0|             -23.6| 0.0|          WSW|      2.9|Aotizhongxin|\n",
      "|2015|    1|  1|  13|44.0|26.0|52.0|1100.0|31.0| 2.0|1021.0|             -23.6| 0.0|          SSW|      2.6|Aotizhongxin|\n",
      "|2015|    1|  1|  14|51.0|25.0|45.0|1100.0|41.0| 3.0|1024.0|             -22.8| 0.0|            W|      2.5|Aotizhongxin|\n",
      "|2015|    1|  1|  15|51.0|19.0|40.0|1000.0|48.0| 3.0|1023.0|             -23.7| 0.0|           SW|      3.7|Aotizhongxin|\n",
      "|2015|    1|  1|  16|41.0|15.0|33.0| 800.0|50.0| 2.0|1019.0|             -23.6| 0.0|           SW|      2.8|Aotizhongxin|\n",
      "|2015|    1|  1|  17|47.0|19.0|41.0| 900.0|43.0| 1.0|1019.0|             -22.8| 0.0|           SW|      2.4|Aotizhongxin|\n",
      "|2015|    1|  1|  18|65.0|27.0|57.0|1200.0|30.0|-1.0|1021.0|             -21.2| 0.0|           SW|      1.4|Aotizhongxin|\n",
      "|2015|    1|  1|  19|88.0|36.0|87.0|1400.0| 4.0|-4.0|1020.0|             -18.3| 0.0|          WNW|      1.0|Aotizhongxin|\n",
      "|2015|    1|  1|  20|82.0|38.0|93.0|1400.0| 2.0|-5.0|1017.0|             -19.9| 0.0|           SW|      1.3|Aotizhongxin|\n",
      "|2015|    1|  2|   3|72.0|32.0|88.0|1700.0| 2.0|-8.0|1026.0|             -16.4| 0.0|           NE|      0.6|Aotizhongxin|\n",
      "|2015|    1|  2|   4|48.0|26.0|77.0|1300.0| 2.0|-1.0|1022.0|             -18.1| 0.0|            N|      1.6|Aotizhongxin|\n",
      "|2015|    1|  2|   5|25.0|18.0|54.0| 900.0|10.0|-5.0|1025.0|             -18.8| 0.0|          ENE|      0.8|Aotizhongxin|\n",
      "|2015|    1|  2|   6|18.0|20.0|47.0| 800.0|13.0|-2.0|1022.0|             -18.6| 0.0|          ESE|      2.2|Aotizhongxin|\n",
      "+----+-----+---+----+----+----+----+------+----+----+------+------------------+----+-------------+---------+------------+\n",
      "only showing top 20 rows\n",
      "\n",
      "Size of dataset 11798\n"
     ]
    }
   ],
   "source": [
    "afterDrop.createOrReplaceTempView('dataset')\n",
    "results = spark.sql(\"SELECT * FROM dataset WHERE year > 2014\")\n",
    "results.show()\n",
    "print(\"Size of dataset\",results.count())"
   ]
  },
  {
   "cell_type": "code",
   "execution_count": null,
   "metadata": {},
   "outputs": [],
   "source": []
  },
  {
   "cell_type": "code",
   "execution_count": 44,
   "metadata": {},
   "outputs": [
    {
     "ename": "AttributeError",
     "evalue": "'DataFrame' object has no attribute 'save'",
     "output_type": "error",
     "traceback": [
      "\u001b[0;31m---------------------------------------------------------------------------\u001b[0m",
      "\u001b[0;31mAttributeError\u001b[0m                            Traceback (most recent call last)",
      "\u001b[0;32m<ipython-input-44-9bcaa3898947>\u001b[0m in \u001b[0;36m<module>\u001b[0;34m()\u001b[0m\n\u001b[0;32m----> 1\u001b[0;31m \u001b[0mremove_outliers\u001b[0m\u001b[0;34m.\u001b[0m\u001b[0msave\u001b[0m\u001b[0;34m(\u001b[0m\u001b[0;34m'../DataSet/check2.csv'\u001b[0m\u001b[0;34m,\u001b[0m\u001b[0mheader\u001b[0m \u001b[0;34m=\u001b[0m \u001b[0;34m'true'\u001b[0m\u001b[0;34m)\u001b[0m\u001b[0;34m\u001b[0m\u001b[0m\n\u001b[0m",
      "\u001b[0;32m~/spark-2.1.1-bin-hadoop2.7/python/pyspark/sql/dataframe.py\u001b[0m in \u001b[0;36m__getattr__\u001b[0;34m(self, name)\u001b[0m\n\u001b[1;32m    971\u001b[0m         \u001b[0;32mif\u001b[0m \u001b[0mname\u001b[0m \u001b[0;32mnot\u001b[0m \u001b[0;32min\u001b[0m \u001b[0mself\u001b[0m\u001b[0;34m.\u001b[0m\u001b[0mcolumns\u001b[0m\u001b[0;34m:\u001b[0m\u001b[0;34m\u001b[0m\u001b[0m\n\u001b[1;32m    972\u001b[0m             raise AttributeError(\n\u001b[0;32m--> 973\u001b[0;31m                 \"'%s' object has no attribute '%s'\" % (self.__class__.__name__, name))\n\u001b[0m\u001b[1;32m    974\u001b[0m         \u001b[0mjc\u001b[0m \u001b[0;34m=\u001b[0m \u001b[0mself\u001b[0m\u001b[0;34m.\u001b[0m\u001b[0m_jdf\u001b[0m\u001b[0;34m.\u001b[0m\u001b[0mapply\u001b[0m\u001b[0;34m(\u001b[0m\u001b[0mname\u001b[0m\u001b[0;34m)\u001b[0m\u001b[0;34m\u001b[0m\u001b[0m\n\u001b[1;32m    975\u001b[0m         \u001b[0;32mreturn\u001b[0m \u001b[0mColumn\u001b[0m\u001b[0;34m(\u001b[0m\u001b[0mjc\u001b[0m\u001b[0;34m)\u001b[0m\u001b[0;34m\u001b[0m\u001b[0m\n",
      "\u001b[0;31mAttributeError\u001b[0m: 'DataFrame' object has no attribute 'save'"
     ]
    }
   ],
   "source": [
    "remove_outliers.save('../DataSet/check2.csv',header = 'true')\n",
    "\n"
   ]
  },
  {
   "cell_type": "code",
   "execution_count": 69,
   "metadata": {},
   "outputs": [],
   "source": [
    "check \\\n",
    "  .write \\\n",
    "  .mode('overwrite') \\\n",
    "  .option('header', 'true') \\\n",
    "  .csv('../DataSet/views.csv')"
   ]
  },
  {
   "cell_type": "code",
   "execution_count": null,
   "metadata": {},
   "outputs": [],
   "source": []
  }
 ],
 "metadata": {
  "kernelspec": {
   "display_name": "Python 3",
   "language": "python",
   "name": "python3"
  },
  "language_info": {
   "codemirror_mode": {
    "name": "ipython",
    "version": 3
   },
   "file_extension": ".py",
   "mimetype": "text/x-python",
   "name": "python",
   "nbconvert_exporter": "python",
   "pygments_lexer": "ipython3",
   "version": "3.5.2"
  }
 },
 "nbformat": 4,
 "nbformat_minor": 2
}
