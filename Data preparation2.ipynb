{
 "cells": [
  {
   "cell_type": "code",
   "execution_count": 1,
   "metadata": {},
   "outputs": [],
   "source": [
    "# Must be included at the beginning of each new notebook. Remember to change the app name.\n",
    "import findspark\n",
    "findspark.init('/home/ubuntu/spark-2.1.1-bin-hadoop2.7')\n",
    "import pyspark\n",
    "from pyspark.sql import SparkSession\n",
    "spark = SparkSession.builder.appName('BDAS').getOrCreate()"
   ]
  },
  {
   "cell_type": "code",
   "execution_count": null,
   "metadata": {},
   "outputs": [],
   "source": [
    "df = spark.read.csv('../DataSet/PRSA_Data_Aotizhongxin_20130301-20170228.csv', header=True, inferSchema=True)\n"
   ]
  },
  {
   "cell_type": "code",
   "execution_count": null,
   "metadata": {},
   "outputs": [],
   "source": [
    "#Visualise DataFrame\n",
    "df.show()\n",
    "df.count()"
   ]
  },
  {
   "cell_type": "code",
   "execution_count": null,
   "metadata": {},
   "outputs": [],
   "source": [
    "#Selecting items(rows): year between 2015-2017\n",
    "df.createOrReplaceTempView('dataset')\n",
    "results = spark.sql(\"SELECT * FROM dataset WHERE year > 2014\")\n",
    "results.show()\n",
    "results.count()\n"
   ]
  },
  {
   "cell_type": "code",
   "execution_count": null,
   "metadata": {},
   "outputs": [],
   "source": [
    "#Example for subset of  dataset with 100 rows\n",
    "new_results = spark.sql(\"SELECT * FROM dataset  limit 100\")\n",
    "new_results.show()\n",
    "new_results.count()"
   ]
  },
  {
   "cell_type": "code",
   "execution_count": null,
   "metadata": {},
   "outputs": [],
   "source": [
    "# check number of columns\n",
    "results.show()\n",
    "print(results.columns)\n",
    "print(\"Number of columns: \",len(results.columns))"
   ]
  },
  {
   "cell_type": "code",
   "execution_count": null,
   "metadata": {},
   "outputs": [],
   "source": [
    "#Selecting attribute\n",
    "afterDrop = results.drop(*[\"No\",\"PM10\"])\n",
    "afterDrop.show()\n",
    "print(afterDrop.columns)\n",
    "print(\"Number of columns: \",len(afterDrop.columns))"
   ]
  },
  {
   "cell_type": "code",
   "execution_count": null,
   "metadata": {},
   "outputs": [],
   "source": [
    "#rename column name\n",
    "rename_df = afterDrop.withColumnRenamed(\"DEWP\",\"DewPointTempeature\") \\\n",
    "    .withColumnRenamed(\"wd\",\"WindDirection\")\\\n",
    "    .withColumnRenamed(\"WSPM\",\"WindSpend\")\\\n",
    "    .withColumnRenamed(\"PM2.5\",\"PM25\")\n",
    "rename_df.show()"
   ]
  },
  {
   "cell_type": "code",
   "execution_count": 2,
   "metadata": {},
   "outputs": [],
   "source": [
    "# create correct data schema.\n",
    "from pyspark.sql.types import *\n",
    "schema = StructType([StructField('No',IntegerType(),True),\n",
    "               StructField('year',IntegerType(),True),\n",
    "               StructField('month',IntegerType(),True),\n",
    "               StructField('day',IntegerType(),True),\n",
    "               StructField('hour',IntegerType(),True),\n",
    "               StructField('PM2.5',FloatType(),True),\n",
    "               StructField('PM10',FloatType(),True),\n",
    "               StructField('SO2',FloatType(),True),\n",
    "               StructField('NO2',FloatType(),True),\n",
    "               StructField('CO',FloatType(),True),\n",
    "               StructField('O3',FloatType(),True),\n",
    "               StructField('TEMP',FloatType(),True),\n",
    "               StructField('PRES',FloatType(),True),\n",
    "               StructField('DEWP',FloatType(),True),\n",
    "               StructField('RAIN',FloatType(),True),\n",
    "               StructField('wd',StringType(),True),\n",
    "               StructField('WSPM',FloatType(),True),\n",
    "               StructField('station',StringType(),True)])"
   ]
  },
  {
   "cell_type": "code",
   "execution_count": 3,
   "metadata": {},
   "outputs": [
    {
     "name": "stdout",
     "output_type": "stream",
     "text": [
      "+---+----+-----+---+----+-----+----+----+----+-----+----+----+------+-----+----+---+----+-------------+\n",
      "| No|year|month|day|hour|PM2.5|PM10| SO2| NO2|   CO|  O3|TEMP|  PRES| DEWP|RAIN| wd|WSPM|      station|\n",
      "+---+----+-----+---+----+-----+----+----+----+-----+----+----+------+-----+----+---+----+-------------+\n",
      "|  1|2013|    3|  1|   0|  9.0| 9.0| 6.0|17.0|200.0|62.0| 0.3|1021.9|-19.0| 0.0|WNW| 2.0|Wanshouxigong|\n",
      "|  2|2013|    3|  1|   1| 11.0|11.0| 7.0|14.0|200.0|66.0|-0.1|1022.4|-19.3| 0.0|WNW| 4.4|Wanshouxigong|\n",
      "|  3|2013|    3|  1|   2|  8.0| 8.0|null|16.0|200.0|59.0|-0.6|1022.6|-19.7| 0.0|WNW| 4.7|Wanshouxigong|\n",
      "|  4|2013|    3|  1|   3|  8.0| 8.0| 3.0|16.0| null|null|-0.7|1023.5|-20.9| 0.0| NW| 2.6|Wanshouxigong|\n",
      "|  5|2013|    3|  1|   4|  8.0| 8.0| 3.0|null|300.0|36.0|-0.9|1024.1|-21.7| 0.0|WNW| 2.5|Wanshouxigong|\n",
      "|  6|2013|    3|  1|   5| 10.0|10.0| 4.0| 8.0|200.0|64.0|-1.6|1024.7|-21.1| 0.0| NE| 2.0|Wanshouxigong|\n",
      "|  7|2013|    3|  1|   6|  8.0| 8.0| 6.0|13.0|300.0|61.0|-2.4|1025.4|-20.3| 0.0| NE| 2.3|Wanshouxigong|\n",
      "|  8|2013|    3|  1|   7|  8.0| 8.0| 8.0|20.0|300.0|54.0|-0.8|1026.7|-19.9| 0.0|NNE| 2.0|Wanshouxigong|\n",
      "|  9|2013|    3|  1|   8|  3.0| 6.0| 9.0|23.0|300.0|50.0| 0.4|1027.3|-19.4| 0.0| NE| 2.7|Wanshouxigong|\n",
      "| 10|2013|    3|  1|   9|  3.0| 6.0|10.0|18.0|300.0|56.0| 1.5|1027.4|-19.7| 0.0|ENE| 2.9|Wanshouxigong|\n",
      "| 11|2013|    3|  1|  10|  3.0| 6.0|11.0|15.0|300.0|61.0| 2.1|1027.3|-21.2| 0.0|NNE| 4.8|Wanshouxigong|\n",
      "| 12|2013|    3|  1|  11|  3.0| 6.0| 9.0|14.0|300.0|62.0| 3.1|1027.2|-21.1| 0.0|  N| 4.1|Wanshouxigong|\n",
      "| 13|2013|    3|  1|  12|  3.0| 6.0| 8.0|10.0|300.0|67.0| 4.7|1026.3|-20.6| 0.0|ESE| 1.6|Wanshouxigong|\n",
      "| 14|2013|    3|  1|  13|  3.0| 9.0| 7.0| 9.0|300.0|70.0| 5.5|1025.2|-20.0| 0.0| NE| 3.1|Wanshouxigong|\n",
      "| 15|2013|    3|  1|  14|  3.0|14.0| 7.0| 8.0|300.0|72.0| 6.6|1024.9|-19.9| 0.0| NW| 2.1|Wanshouxigong|\n",
      "| 16|2013|    3|  1|  15| 12.0|14.0| 5.0| 7.0|200.0|73.0| 6.1|1024.7|-19.5| 0.0| NE| 2.4|Wanshouxigong|\n",
      "| 17|2013|    3|  1|  16| 11.0|17.0| 7.0| 9.0|300.0|72.0| 5.9|1024.7|-18.8| 0.0|  N| 3.3|Wanshouxigong|\n",
      "| 18|2013|    3|  1|  17| 13.0|18.0| 8.0|14.0|300.0|67.0| 5.3|1025.3|-19.3| 0.0|NNW| 2.0|Wanshouxigong|\n",
      "| 19|2013|    3|  1|  18| 10.0|18.0| 9.0|20.0|400.0|58.0| 4.1|1026.4|-19.5| 0.0|NNE| 2.2|Wanshouxigong|\n",
      "| 20|2013|    3|  1|  19| 10.0|16.0| 7.0|29.0|500.0|50.0| 3.2|1027.2|-18.9| 0.0| NE| 2.1|Wanshouxigong|\n",
      "+---+----+-----+---+----+-----+----+----+----+-----+----+----+------+-----+----+---+----+-------------+\n",
      "only showing top 20 rows\n",
      "\n"
     ]
    }
   ],
   "source": [
    "#import in the dataset with relevat types\n",
    "\n",
    "\n",
    "df_with_schema = spark.read.format(\"csv\") \\\n",
    "      .option(\"header\", True) \\\n",
    "      .schema(schema) \\\n",
    "      .load(\"../DataSet/testv1.csv\")\n",
    "df_with_schema.show()"
   ]
  },
  {
   "cell_type": "code",
   "execution_count": null,
   "metadata": {},
   "outputs": [],
   "source": [
    "df_with_schema.printSchema()"
   ]
  },
  {
   "cell_type": "code",
   "execution_count": 4,
   "metadata": {},
   "outputs": [
    {
     "name": "stdout",
     "output_type": "stream",
     "text": [
      "+-----+----+-----+---+----+-----+-----+----+-----+------+----+----+------+-----+----+---+----+-------------+\n",
      "|   No|year|month|day|hour|PM2.5| PM10| SO2|  NO2|    CO|  O3|TEMP|  PRES| DEWP|RAIN| wd|WSPM|      station|\n",
      "+-----+----+-----+---+----+-----+-----+----+-----+------+----+----+------+-----+----+---+----+-------------+\n",
      "|16105|2015|    1|  1|   0|  3.0| 21.0|10.0| 16.0| 400.0|54.0|-1.0|1027.0|-23.0| 0.0| NW| 0.9|Wanshouxigong|\n",
      "|16106|2015|    1|  1|   1|  3.0| 13.0|11.0| 17.0| 400.0|53.0| 0.0|1025.0|-22.9| 0.0| NW| 2.7|Wanshouxigong|\n",
      "|16107|2015|    1|  1|   2|  3.0| 13.0|10.0| 15.0| 400.0|55.0| 0.0|1027.0|-22.9| 0.0| NW| 2.4|Wanshouxigong|\n",
      "|16108|2015|    1|  1|   3|  4.0| 18.0|13.0| 13.0| 400.0|57.0| 0.0|1028.0|-24.4| 0.0| NW| 2.4|Wanshouxigong|\n",
      "|16109|2015|    1|  1|   4|  4.0| 15.0|15.0| 12.0| 400.0|58.0| 0.0|1030.0|-24.4| 0.0| NW| 2.4|Wanshouxigong|\n",
      "|16110|2015|    1|  1|   5|  3.0| 15.0|13.0| 15.0| 500.0|55.0|-1.0|1024.0|-24.4| 0.0|WNW| 3.2|Wanshouxigong|\n",
      "|16111|2015|    1|  1|   6|  3.0| 18.0|10.0| 30.0| 500.0|39.0|-4.0|1029.0|-24.3| 0.0|  W| 0.9|Wanshouxigong|\n",
      "|16112|2015|    1|  1|   7|  3.0| 18.0|10.0| 41.0| 600.0|30.0|-2.0|1029.0|-23.9| 0.0|WNW| 4.2|Wanshouxigong|\n",
      "|16113|2015|    1|  1|   8|  7.0| 19.0|10.0| 55.0| 600.0|16.0|-2.0|1027.0|-23.9| 0.0|WNW| 1.9|Wanshouxigong|\n",
      "|16114|2015|    1|  1|   9|  7.0| 20.0|11.0| 56.0| 600.0|17.0|-1.0|1026.0|-23.0| 0.0|SSW| 1.5|Wanshouxigong|\n",
      "|16115|2015|    1|  1|  10|  6.0| 18.0|15.0| 56.0| 900.0|21.0| 0.0|1025.0|-22.9| 0.0| SW| 2.1|Wanshouxigong|\n",
      "|16116|2015|    1|  1|  11| 18.0| 50.0|26.0| 64.0|1300.0|23.0| 1.0|1029.0|-22.8| 0.0| SW| 1.4|Wanshouxigong|\n",
      "|16117|2015|    1|  1|  12| 50.0|112.0|42.0| 76.0|1700.0|27.0| 1.0|1025.0|-22.8| 0.0| SW| 2.5|Wanshouxigong|\n",
      "|16118|2015|    1|  1|  13| 57.0|111.0|37.0| 70.0|1500.0|37.0| 2.0|1025.0|-22.8| 0.0|SSW| 1.8|Wanshouxigong|\n",
      "|16119|2015|    1|  1|  14| 50.0| 95.0|29.0| 59.0|1300.0|49.0| 3.0|1022.0|-22.8| 0.0| SW| 2.0|Wanshouxigong|\n",
      "|16120|2015|    1|  1|  15| 35.0| 67.0|18.0| 33.0| 900.0|64.0| 3.0|1020.0|-22.8| 0.0| SW| 2.4|Wanshouxigong|\n",
      "|16121|2015|    1|  1|  16| 36.0| 73.0|19.0| 39.0|1000.0|60.0| 3.0|1020.0|-22.0| 0.0| SW| 2.7|Wanshouxigong|\n",
      "|16122|2015|    1|  1|  17| 38.0| 83.0|23.0| 58.0|1300.0|46.0| 1.0|1021.0|-22.1| 0.0| SW| 1.1|Wanshouxigong|\n",
      "|16123|2015|    1|  1|  18| 67.0|128.0|35.0| 89.0|1800.0|25.0|-1.0|1017.0|-20.1| 0.0|SSW| 1.2|Wanshouxigong|\n",
      "|16124|2015|    1|  1|  19| 76.0|146.0|43.0|106.0|2000.0|11.0|-2.0|1021.0|-19.9| 0.0|  W| 1.1|Wanshouxigong|\n",
      "+-----+----+-----+---+----+-----+-----+----+-----+------+----+----+------+-----+----+---+----+-------------+\n",
      "only showing top 20 rows\n",
      "\n"
     ]
    },
    {
     "data": {
      "text/plain": [
       "18960"
      ]
     },
     "execution_count": 4,
     "metadata": {},
     "output_type": "execute_result"
    }
   ],
   "source": [
    "df_with_schema.createOrReplaceTempView('new_dataset')\n",
    "new_results = spark.sql(\"SELECT * FROM new_dataset WHERE year > 2014\")\n",
    "new_results.show()\n",
    "new_results.count()"
   ]
  },
  {
   "cell_type": "code",
   "execution_count": 6,
   "metadata": {},
   "outputs": [
    {
     "name": "stdout",
     "output_type": "stream",
     "text": [
      "+----+-----+---+----+-----+----+-----+------+----+----+------+-----+----+---+----+-------------+\n",
      "|year|month|day|hour|PM2.5| SO2|  NO2|    CO|  O3|TEMP|  PRES| DEWP|RAIN| wd|WSPM|      station|\n",
      "+----+-----+---+----+-----+----+-----+------+----+----+------+-----+----+---+----+-------------+\n",
      "|2015|    1|  1|   0|  3.0|10.0| 16.0| 400.0|54.0|-1.0|1027.0|-23.0| 0.0| NW| 0.9|Wanshouxigong|\n",
      "|2015|    1|  1|   1|  3.0|11.0| 17.0| 400.0|53.0| 0.0|1025.0|-22.9| 0.0| NW| 2.7|Wanshouxigong|\n",
      "|2015|    1|  1|   2|  3.0|10.0| 15.0| 400.0|55.0| 0.0|1027.0|-22.9| 0.0| NW| 2.4|Wanshouxigong|\n",
      "|2015|    1|  1|   3|  4.0|13.0| 13.0| 400.0|57.0| 0.0|1028.0|-24.4| 0.0| NW| 2.4|Wanshouxigong|\n",
      "|2015|    1|  1|   4|  4.0|15.0| 12.0| 400.0|58.0| 0.0|1030.0|-24.4| 0.0| NW| 2.4|Wanshouxigong|\n",
      "|2015|    1|  1|   5|  3.0|13.0| 15.0| 500.0|55.0|-1.0|1024.0|-24.4| 0.0|WNW| 3.2|Wanshouxigong|\n",
      "|2015|    1|  1|   6|  3.0|10.0| 30.0| 500.0|39.0|-4.0|1029.0|-24.3| 0.0|  W| 0.9|Wanshouxigong|\n",
      "|2015|    1|  1|   7|  3.0|10.0| 41.0| 600.0|30.0|-2.0|1029.0|-23.9| 0.0|WNW| 4.2|Wanshouxigong|\n",
      "|2015|    1|  1|   8|  7.0|10.0| 55.0| 600.0|16.0|-2.0|1027.0|-23.9| 0.0|WNW| 1.9|Wanshouxigong|\n",
      "|2015|    1|  1|   9|  7.0|11.0| 56.0| 600.0|17.0|-1.0|1026.0|-23.0| 0.0|SSW| 1.5|Wanshouxigong|\n",
      "|2015|    1|  1|  10|  6.0|15.0| 56.0| 900.0|21.0| 0.0|1025.0|-22.9| 0.0| SW| 2.1|Wanshouxigong|\n",
      "|2015|    1|  1|  11| 18.0|26.0| 64.0|1300.0|23.0| 1.0|1029.0|-22.8| 0.0| SW| 1.4|Wanshouxigong|\n",
      "|2015|    1|  1|  12| 50.0|42.0| 76.0|1700.0|27.0| 1.0|1025.0|-22.8| 0.0| SW| 2.5|Wanshouxigong|\n",
      "|2015|    1|  1|  13| 57.0|37.0| 70.0|1500.0|37.0| 2.0|1025.0|-22.8| 0.0|SSW| 1.8|Wanshouxigong|\n",
      "|2015|    1|  1|  14| 50.0|29.0| 59.0|1300.0|49.0| 3.0|1022.0|-22.8| 0.0| SW| 2.0|Wanshouxigong|\n",
      "|2015|    1|  1|  15| 35.0|18.0| 33.0| 900.0|64.0| 3.0|1020.0|-22.8| 0.0| SW| 2.4|Wanshouxigong|\n",
      "|2015|    1|  1|  16| 36.0|19.0| 39.0|1000.0|60.0| 3.0|1020.0|-22.0| 0.0| SW| 2.7|Wanshouxigong|\n",
      "|2015|    1|  1|  17| 38.0|23.0| 58.0|1300.0|46.0| 1.0|1021.0|-22.1| 0.0| SW| 1.1|Wanshouxigong|\n",
      "|2015|    1|  1|  18| 67.0|35.0| 89.0|1800.0|25.0|-1.0|1017.0|-20.1| 0.0|SSW| 1.2|Wanshouxigong|\n",
      "|2015|    1|  1|  19| 76.0|43.0|106.0|2000.0|11.0|-2.0|1021.0|-19.9| 0.0|  W| 1.1|Wanshouxigong|\n",
      "+----+-----+---+----+-----+----+-----+------+----+----+------+-----+----+---+----+-------------+\n",
      "only showing top 20 rows\n",
      "\n",
      "['year', 'month', 'day', 'hour', 'PM2.5', 'SO2', 'NO2', 'CO', 'O3', 'TEMP', 'PRES', 'DEWP', 'RAIN', 'wd', 'WSPM', 'station']\n",
      "Number of columns:  16\n"
     ]
    }
   ],
   "source": [
    "#Selecting attribute\n",
    "new_afterDrop = new_results.drop(*[\"No\",\"PM10\"])\n",
    "new_afterDrop.show()\n",
    "print(new_afterDrop.columns)\n",
    "print(\"Number of columns: \",len(new_afterDrop.columns))"
   ]
  },
  {
   "cell_type": "code",
   "execution_count": 7,
   "metadata": {},
   "outputs": [
    {
     "name": "stdout",
     "output_type": "stream",
     "text": [
      "+----+-----+---+----+----+----+-----+------+----+----+------+------------------+----+-------------+---------+-------------+\n",
      "|year|month|day|hour|PM25| SO2|  NO2|    CO|  O3|TEMP|  PRES|DewPointTempeature|RAIN|WindDirection|WindSpend|      station|\n",
      "+----+-----+---+----+----+----+-----+------+----+----+------+------------------+----+-------------+---------+-------------+\n",
      "|2015|    1|  1|   0| 3.0|10.0| 16.0| 400.0|54.0|-1.0|1027.0|             -23.0| 0.0|           NW|      0.9|Wanshouxigong|\n",
      "|2015|    1|  1|   1| 3.0|11.0| 17.0| 400.0|53.0| 0.0|1025.0|             -22.9| 0.0|           NW|      2.7|Wanshouxigong|\n",
      "|2015|    1|  1|   2| 3.0|10.0| 15.0| 400.0|55.0| 0.0|1027.0|             -22.9| 0.0|           NW|      2.4|Wanshouxigong|\n",
      "|2015|    1|  1|   3| 4.0|13.0| 13.0| 400.0|57.0| 0.0|1028.0|             -24.4| 0.0|           NW|      2.4|Wanshouxigong|\n",
      "|2015|    1|  1|   4| 4.0|15.0| 12.0| 400.0|58.0| 0.0|1030.0|             -24.4| 0.0|           NW|      2.4|Wanshouxigong|\n",
      "|2015|    1|  1|   5| 3.0|13.0| 15.0| 500.0|55.0|-1.0|1024.0|             -24.4| 0.0|          WNW|      3.2|Wanshouxigong|\n",
      "|2015|    1|  1|   6| 3.0|10.0| 30.0| 500.0|39.0|-4.0|1029.0|             -24.3| 0.0|            W|      0.9|Wanshouxigong|\n",
      "|2015|    1|  1|   7| 3.0|10.0| 41.0| 600.0|30.0|-2.0|1029.0|             -23.9| 0.0|          WNW|      4.2|Wanshouxigong|\n",
      "|2015|    1|  1|   8| 7.0|10.0| 55.0| 600.0|16.0|-2.0|1027.0|             -23.9| 0.0|          WNW|      1.9|Wanshouxigong|\n",
      "|2015|    1|  1|   9| 7.0|11.0| 56.0| 600.0|17.0|-1.0|1026.0|             -23.0| 0.0|          SSW|      1.5|Wanshouxigong|\n",
      "|2015|    1|  1|  10| 6.0|15.0| 56.0| 900.0|21.0| 0.0|1025.0|             -22.9| 0.0|           SW|      2.1|Wanshouxigong|\n",
      "|2015|    1|  1|  11|18.0|26.0| 64.0|1300.0|23.0| 1.0|1029.0|             -22.8| 0.0|           SW|      1.4|Wanshouxigong|\n",
      "|2015|    1|  1|  12|50.0|42.0| 76.0|1700.0|27.0| 1.0|1025.0|             -22.8| 0.0|           SW|      2.5|Wanshouxigong|\n",
      "|2015|    1|  1|  13|57.0|37.0| 70.0|1500.0|37.0| 2.0|1025.0|             -22.8| 0.0|          SSW|      1.8|Wanshouxigong|\n",
      "|2015|    1|  1|  14|50.0|29.0| 59.0|1300.0|49.0| 3.0|1022.0|             -22.8| 0.0|           SW|      2.0|Wanshouxigong|\n",
      "|2015|    1|  1|  15|35.0|18.0| 33.0| 900.0|64.0| 3.0|1020.0|             -22.8| 0.0|           SW|      2.4|Wanshouxigong|\n",
      "|2015|    1|  1|  16|36.0|19.0| 39.0|1000.0|60.0| 3.0|1020.0|             -22.0| 0.0|           SW|      2.7|Wanshouxigong|\n",
      "|2015|    1|  1|  17|38.0|23.0| 58.0|1300.0|46.0| 1.0|1021.0|             -22.1| 0.0|           SW|      1.1|Wanshouxigong|\n",
      "|2015|    1|  1|  18|67.0|35.0| 89.0|1800.0|25.0|-1.0|1017.0|             -20.1| 0.0|          SSW|      1.2|Wanshouxigong|\n",
      "|2015|    1|  1|  19|76.0|43.0|106.0|2000.0|11.0|-2.0|1021.0|             -19.9| 0.0|            W|      1.1|Wanshouxigong|\n",
      "+----+-----+---+----+----+----+-----+------+----+----+------+------------------+----+-------------+---------+-------------+\n",
      "only showing top 20 rows\n",
      "\n"
     ]
    }
   ],
   "source": [
    "#rename column name\n",
    "new_rename_df = new_afterDrop.withColumnRenamed(\"DEWP\",\"DewPointTempeature\") \\\n",
    "    .withColumnRenamed(\"wd\",\"WindDirection\")\\\n",
    "    .withColumnRenamed(\"WSPM\",\"WindSpend\")\\\n",
    "    .withColumnRenamed(\"PM2.5\",\"PM25\")\n",
    "new_rename_df.show()"
   ]
  },
  {
   "cell_type": "code",
   "execution_count": 8,
   "metadata": {},
   "outputs": [
    {
     "name": "stdout",
     "output_type": "stream",
     "text": [
      "+----+-----+---+----+----+----+-----+------+----+----+------+------------------+----+-------------+---------+-------------+\n",
      "|year|month|day|hour|PM25| SO2|  NO2|    CO|  O3|TEMP|  PRES|DewPointTempeature|RAIN|WindDirection|WindSpend|      station|\n",
      "+----+-----+---+----+----+----+-----+------+----+----+------+------------------+----+-------------+---------+-------------+\n",
      "|2015|    1|  1|   0| 3.0|10.0| 16.0| 400.0|54.0|-1.0|1027.0|             -23.0| 0.0|           NW|      0.9|Wanshouxigong|\n",
      "|2015|    1|  1|   1| 3.0|11.0| 17.0| 400.0|53.0| 0.0|1025.0|             -22.9| 0.0|           NW|      2.7|Wanshouxigong|\n",
      "|2015|    1|  1|   2| 3.0|10.0| 15.0| 400.0|55.0| 0.0|1027.0|             -22.9| 0.0|           NW|      2.4|Wanshouxigong|\n",
      "|2015|    1|  1|   3| 4.0|13.0| 13.0| 400.0|57.0| 0.0|1028.0|             -24.4| 0.0|           NW|      2.4|Wanshouxigong|\n",
      "|2015|    1|  1|   4| 4.0|15.0| 12.0| 400.0|58.0| 0.0|1030.0|             -24.4| 0.0|           NW|      2.4|Wanshouxigong|\n",
      "|2015|    1|  1|   5| 3.0|13.0| 15.0| 500.0|55.0|-1.0|1024.0|             -24.4| 0.0|          WNW|      3.2|Wanshouxigong|\n",
      "|2015|    1|  1|   6| 3.0|10.0| 30.0| 500.0|39.0|-4.0|1029.0|             -24.3| 0.0|            W|      0.9|Wanshouxigong|\n",
      "|2015|    1|  1|   7| 3.0|10.0| 41.0| 600.0|30.0|-2.0|1029.0|             -23.9| 0.0|          WNW|      4.2|Wanshouxigong|\n",
      "|2015|    1|  1|   8| 7.0|10.0| 55.0| 600.0|16.0|-2.0|1027.0|             -23.9| 0.0|          WNW|      1.9|Wanshouxigong|\n",
      "|2015|    1|  1|   9| 7.0|11.0| 56.0| 600.0|17.0|-1.0|1026.0|             -23.0| 0.0|          SSW|      1.5|Wanshouxigong|\n",
      "|2015|    1|  1|  10| 6.0|15.0| 56.0| 900.0|21.0| 0.0|1025.0|             -22.9| 0.0|           SW|      2.1|Wanshouxigong|\n",
      "|2015|    1|  1|  11|18.0|26.0| 64.0|1300.0|23.0| 1.0|1029.0|             -22.8| 0.0|           SW|      1.4|Wanshouxigong|\n",
      "|2015|    1|  1|  12|50.0|42.0| 76.0|1700.0|27.0| 1.0|1025.0|             -22.8| 0.0|           SW|      2.5|Wanshouxigong|\n",
      "|2015|    1|  1|  13|57.0|37.0| 70.0|1500.0|37.0| 2.0|1025.0|             -22.8| 0.0|          SSW|      1.8|Wanshouxigong|\n",
      "|2015|    1|  1|  14|50.0|29.0| 59.0|1300.0|49.0| 3.0|1022.0|             -22.8| 0.0|           SW|      2.0|Wanshouxigong|\n",
      "|2015|    1|  1|  15|35.0|18.0| 33.0| 900.0|64.0| 3.0|1020.0|             -22.8| 0.0|           SW|      2.4|Wanshouxigong|\n",
      "|2015|    1|  1|  16|36.0|19.0| 39.0|1000.0|60.0| 3.0|1020.0|             -22.0| 0.0|           SW|      2.7|Wanshouxigong|\n",
      "|2015|    1|  1|  17|38.0|23.0| 58.0|1300.0|46.0| 1.0|1021.0|             -22.1| 0.0|           SW|      1.1|Wanshouxigong|\n",
      "|2015|    1|  1|  18|67.0|35.0| 89.0|1800.0|25.0|-1.0|1017.0|             -20.1| 0.0|          SSW|      1.2|Wanshouxigong|\n",
      "|2015|    1|  1|  19|76.0|43.0|106.0|2000.0|11.0|-2.0|1021.0|             -19.9| 0.0|            W|      1.1|Wanshouxigong|\n",
      "+----+-----+---+----+----+----+-----+------+----+----+------+------------------+----+-------------+---------+-------------+\n",
      "only showing top 20 rows\n",
      "\n"
     ]
    }
   ],
   "source": [
    "new_rename_df.show()"
   ]
  },
  {
   "cell_type": "code",
   "execution_count": 15,
   "metadata": {},
   "outputs": [
    {
     "data": {
      "text/plain": [
       "18960"
      ]
     },
     "execution_count": 15,
     "metadata": {},
     "output_type": "execute_result"
    }
   ],
   "source": [
    "new_rename_df.count()"
   ]
  },
  {
   "cell_type": "code",
   "execution_count": 19,
   "metadata": {},
   "outputs": [],
   "source": [
    "after_delete = new_rename_df.na.drop()"
   ]
  },
  {
   "cell_type": "code",
   "execution_count": 21,
   "metadata": {},
   "outputs": [
    {
     "name": "stdout",
     "output_type": "stream",
     "text": [
      "+----+-----+---+----+----+----+-----+------+----+----+------+------------------+----+-------------+---------+-------------+\n",
      "|year|month|day|hour|PM25| SO2|  NO2|    CO|  O3|TEMP|  PRES|DewPointTempeature|RAIN|WindDirection|WindSpend|      station|\n",
      "+----+-----+---+----+----+----+-----+------+----+----+------+------------------+----+-------------+---------+-------------+\n",
      "|2015|    1|  1|   0| 3.0|10.0| 16.0| 400.0|54.0|-1.0|1027.0|             -23.0| 0.0|           NW|      0.9|Wanshouxigong|\n",
      "|2015|    1|  1|   1| 3.0|11.0| 17.0| 400.0|53.0| 0.0|1025.0|             -22.9| 0.0|           NW|      2.7|Wanshouxigong|\n",
      "|2015|    1|  1|   2| 3.0|10.0| 15.0| 400.0|55.0| 0.0|1027.0|             -22.9| 0.0|           NW|      2.4|Wanshouxigong|\n",
      "|2015|    1|  1|   3| 4.0|13.0| 13.0| 400.0|57.0| 0.0|1028.0|             -24.4| 0.0|           NW|      2.4|Wanshouxigong|\n",
      "|2015|    1|  1|   4| 4.0|15.0| 12.0| 400.0|58.0| 0.0|1030.0|             -24.4| 0.0|           NW|      2.4|Wanshouxigong|\n",
      "|2015|    1|  1|   5| 3.0|13.0| 15.0| 500.0|55.0|-1.0|1024.0|             -24.4| 0.0|          WNW|      3.2|Wanshouxigong|\n",
      "|2015|    1|  1|   6| 3.0|10.0| 30.0| 500.0|39.0|-4.0|1029.0|             -24.3| 0.0|            W|      0.9|Wanshouxigong|\n",
      "|2015|    1|  1|   7| 3.0|10.0| 41.0| 600.0|30.0|-2.0|1029.0|             -23.9| 0.0|          WNW|      4.2|Wanshouxigong|\n",
      "|2015|    1|  1|   8| 7.0|10.0| 55.0| 600.0|16.0|-2.0|1027.0|             -23.9| 0.0|          WNW|      1.9|Wanshouxigong|\n",
      "|2015|    1|  1|   9| 7.0|11.0| 56.0| 600.0|17.0|-1.0|1026.0|             -23.0| 0.0|          SSW|      1.5|Wanshouxigong|\n",
      "|2015|    1|  1|  10| 6.0|15.0| 56.0| 900.0|21.0| 0.0|1025.0|             -22.9| 0.0|           SW|      2.1|Wanshouxigong|\n",
      "|2015|    1|  1|  11|18.0|26.0| 64.0|1300.0|23.0| 1.0|1029.0|             -22.8| 0.0|           SW|      1.4|Wanshouxigong|\n",
      "|2015|    1|  1|  12|50.0|42.0| 76.0|1700.0|27.0| 1.0|1025.0|             -22.8| 0.0|           SW|      2.5|Wanshouxigong|\n",
      "|2015|    1|  1|  13|57.0|37.0| 70.0|1500.0|37.0| 2.0|1025.0|             -22.8| 0.0|          SSW|      1.8|Wanshouxigong|\n",
      "|2015|    1|  1|  14|50.0|29.0| 59.0|1300.0|49.0| 3.0|1022.0|             -22.8| 0.0|           SW|      2.0|Wanshouxigong|\n",
      "|2015|    1|  1|  15|35.0|18.0| 33.0| 900.0|64.0| 3.0|1020.0|             -22.8| 0.0|           SW|      2.4|Wanshouxigong|\n",
      "|2015|    1|  1|  16|36.0|19.0| 39.0|1000.0|60.0| 3.0|1020.0|             -22.0| 0.0|           SW|      2.7|Wanshouxigong|\n",
      "|2015|    1|  1|  17|38.0|23.0| 58.0|1300.0|46.0| 1.0|1021.0|             -22.1| 0.0|           SW|      1.1|Wanshouxigong|\n",
      "|2015|    1|  1|  18|67.0|35.0| 89.0|1800.0|25.0|-1.0|1017.0|             -20.1| 0.0|          SSW|      1.2|Wanshouxigong|\n",
      "|2015|    1|  1|  19|76.0|43.0|106.0|2000.0|11.0|-2.0|1021.0|             -19.9| 0.0|            W|      1.1|Wanshouxigong|\n",
      "+----+-----+---+----+----+----+-----+------+----+----+------+------------------+----+-------------+---------+-------------+\n",
      "only showing top 20 rows\n",
      "\n",
      "Before, number of rows: 18960\n",
      "After, number of rows: 18168\n"
     ]
    }
   ],
   "source": [
    "after_delete.show()\n",
    "print(\"Before, number of rows:\", new_rename_df.count())\n",
    "print(\"After, number of rows:\" , after_delete.count())"
   ]
  },
  {
   "cell_type": "code",
   "execution_count": 24,
   "metadata": {},
   "outputs": [],
   "source": [
    "import pyspark.sql.functions as F\n",
    "from pyspark.sql.types import *\n",
    "def NationalQuanlityRemark(value):\n",
    "    if   value <= 50: \n",
    "        return 'Good'\n",
    "    elif value > 50 and value <= 100:\n",
    "        return \"Satisfactory\"\n",
    "    elif value > 100 and value <= 200:\n",
    "        return 'Moderate'\n",
    "    elif value > 200 and value <= 300:\n",
    "        return 'Poor'\n",
    "    elif value > 300 and value <=400:\n",
    "        return 'Very Poor'\n",
    "    else:\n",
    "        return 'Severe'"
   ]
  },
  {
   "cell_type": "code",
   "execution_count": 37,
   "metadata": {},
   "outputs": [
    {
     "name": "stdout",
     "output_type": "stream",
     "text": [
      "+----+-----+---+----+----+----+-----+------+----+----+------+------------------+----+-------------+---------+-------------+------------+\n",
      "|year|month|day|hour|PM25| SO2|  NO2|    CO|  O3|TEMP|  PRES|DewPointTempeature|RAIN|WindDirection|WindSpend|      station|         NQR|\n",
      "+----+-----+---+----+----+----+-----+------+----+----+------+------------------+----+-------------+---------+-------------+------------+\n",
      "|2015|    1|  1|   0| 3.0|10.0| 16.0| 400.0|54.0|-1.0|1027.0|             -23.0| 0.0|           NW|      0.9|Wanshouxigong|        Good|\n",
      "|2015|    1|  1|   1| 3.0|11.0| 17.0| 400.0|53.0| 0.0|1025.0|             -22.9| 0.0|           NW|      2.7|Wanshouxigong|        Good|\n",
      "|2015|    1|  1|   2| 3.0|10.0| 15.0| 400.0|55.0| 0.0|1027.0|             -22.9| 0.0|           NW|      2.4|Wanshouxigong|        Good|\n",
      "|2015|    1|  1|   3| 4.0|13.0| 13.0| 400.0|57.0| 0.0|1028.0|             -24.4| 0.0|           NW|      2.4|Wanshouxigong|        Good|\n",
      "|2015|    1|  1|   4| 4.0|15.0| 12.0| 400.0|58.0| 0.0|1030.0|             -24.4| 0.0|           NW|      2.4|Wanshouxigong|        Good|\n",
      "|2015|    1|  1|   5| 3.0|13.0| 15.0| 500.0|55.0|-1.0|1024.0|             -24.4| 0.0|          WNW|      3.2|Wanshouxigong|        Good|\n",
      "|2015|    1|  1|   6| 3.0|10.0| 30.0| 500.0|39.0|-4.0|1029.0|             -24.3| 0.0|            W|      0.9|Wanshouxigong|        Good|\n",
      "|2015|    1|  1|   7| 3.0|10.0| 41.0| 600.0|30.0|-2.0|1029.0|             -23.9| 0.0|          WNW|      4.2|Wanshouxigong|        Good|\n",
      "|2015|    1|  1|   8| 7.0|10.0| 55.0| 600.0|16.0|-2.0|1027.0|             -23.9| 0.0|          WNW|      1.9|Wanshouxigong|        Good|\n",
      "|2015|    1|  1|   9| 7.0|11.0| 56.0| 600.0|17.0|-1.0|1026.0|             -23.0| 0.0|          SSW|      1.5|Wanshouxigong|        Good|\n",
      "|2015|    1|  1|  10| 6.0|15.0| 56.0| 900.0|21.0| 0.0|1025.0|             -22.9| 0.0|           SW|      2.1|Wanshouxigong|        Good|\n",
      "|2015|    1|  1|  11|18.0|26.0| 64.0|1300.0|23.0| 1.0|1029.0|             -22.8| 0.0|           SW|      1.4|Wanshouxigong|        Good|\n",
      "|2015|    1|  1|  12|50.0|42.0| 76.0|1700.0|27.0| 1.0|1025.0|             -22.8| 0.0|           SW|      2.5|Wanshouxigong|        Good|\n",
      "|2015|    1|  1|  13|57.0|37.0| 70.0|1500.0|37.0| 2.0|1025.0|             -22.8| 0.0|          SSW|      1.8|Wanshouxigong|Satisfactory|\n",
      "|2015|    1|  1|  14|50.0|29.0| 59.0|1300.0|49.0| 3.0|1022.0|             -22.8| 0.0|           SW|      2.0|Wanshouxigong|        Good|\n",
      "|2015|    1|  1|  15|35.0|18.0| 33.0| 900.0|64.0| 3.0|1020.0|             -22.8| 0.0|           SW|      2.4|Wanshouxigong|        Good|\n",
      "|2015|    1|  1|  16|36.0|19.0| 39.0|1000.0|60.0| 3.0|1020.0|             -22.0| 0.0|           SW|      2.7|Wanshouxigong|        Good|\n",
      "|2015|    1|  1|  17|38.0|23.0| 58.0|1300.0|46.0| 1.0|1021.0|             -22.1| 0.0|           SW|      1.1|Wanshouxigong|        Good|\n",
      "|2015|    1|  1|  18|67.0|35.0| 89.0|1800.0|25.0|-1.0|1017.0|             -20.1| 0.0|          SSW|      1.2|Wanshouxigong|Satisfactory|\n",
      "|2015|    1|  1|  19|76.0|43.0|106.0|2000.0|11.0|-2.0|1021.0|             -19.9| 0.0|            W|      1.1|Wanshouxigong|Satisfactory|\n",
      "+----+-----+---+----+----+----+-----+------+----+----+------+------------------+----+-------------+---------+-------------+------------+\n",
      "only showing top 20 rows\n",
      "\n"
     ]
    }
   ],
   "source": [
    "udfsomefunc = F.udf(NationalQuanlityRemark, StringType())\n",
    "NQR = after_delete.withColumn(\"NQR\", udfsomefunc(\"PM25\"))\n",
    "NQR.show()"
   ]
  },
  {
   "cell_type": "code",
   "execution_count": 51,
   "metadata": {},
   "outputs": [],
   "source": [
    "import pyspark.sql.functions as F\n",
    "from pyspark.sql.types import *\n",
    "def season(value):\n",
    "    if   value >=4 and value <6: \n",
    "        return 'Spring'\n",
    "    elif value >=6 and value<9:\n",
    "        return \"Summer\"\n",
    "    elif value > 9 and value <= 11:\n",
    "        return 'Autumn'\n",
    "    else:\n",
    "        return 'Winter'"
   ]
  },
  {
   "cell_type": "code",
   "execution_count": 52,
   "metadata": {
    "scrolled": false
   },
   "outputs": [
    {
     "name": "stdout",
     "output_type": "stream",
     "text": [
      "+----+-----+---+----+----+----+-----+------+----+----+------+------------------+----+-------------+---------+-------------+------------+------+\n",
      "|year|month|day|hour|PM25| SO2|  NO2|    CO|  O3|TEMP|  PRES|DewPointTempeature|RAIN|WindDirection|WindSpend|      station|         NQR|Season|\n",
      "+----+-----+---+----+----+----+-----+------+----+----+------+------------------+----+-------------+---------+-------------+------------+------+\n",
      "|2015|    1|  1|   0| 3.0|10.0| 16.0| 400.0|54.0|-1.0|1027.0|             -23.0| 0.0|           NW|      0.9|Wanshouxigong|        Good|Winter|\n",
      "|2015|    1|  1|   1| 3.0|11.0| 17.0| 400.0|53.0| 0.0|1025.0|             -22.9| 0.0|           NW|      2.7|Wanshouxigong|        Good|Winter|\n",
      "|2015|    1|  1|   2| 3.0|10.0| 15.0| 400.0|55.0| 0.0|1027.0|             -22.9| 0.0|           NW|      2.4|Wanshouxigong|        Good|Winter|\n",
      "|2015|    1|  1|   3| 4.0|13.0| 13.0| 400.0|57.0| 0.0|1028.0|             -24.4| 0.0|           NW|      2.4|Wanshouxigong|        Good|Winter|\n",
      "|2015|    1|  1|   4| 4.0|15.0| 12.0| 400.0|58.0| 0.0|1030.0|             -24.4| 0.0|           NW|      2.4|Wanshouxigong|        Good|Winter|\n",
      "|2015|    1|  1|   5| 3.0|13.0| 15.0| 500.0|55.0|-1.0|1024.0|             -24.4| 0.0|          WNW|      3.2|Wanshouxigong|        Good|Winter|\n",
      "|2015|    1|  1|   6| 3.0|10.0| 30.0| 500.0|39.0|-4.0|1029.0|             -24.3| 0.0|            W|      0.9|Wanshouxigong|        Good|Winter|\n",
      "|2015|    1|  1|   7| 3.0|10.0| 41.0| 600.0|30.0|-2.0|1029.0|             -23.9| 0.0|          WNW|      4.2|Wanshouxigong|        Good|Winter|\n",
      "|2015|    1|  1|   8| 7.0|10.0| 55.0| 600.0|16.0|-2.0|1027.0|             -23.9| 0.0|          WNW|      1.9|Wanshouxigong|        Good|Winter|\n",
      "|2015|    1|  1|   9| 7.0|11.0| 56.0| 600.0|17.0|-1.0|1026.0|             -23.0| 0.0|          SSW|      1.5|Wanshouxigong|        Good|Winter|\n",
      "|2015|    1|  1|  10| 6.0|15.0| 56.0| 900.0|21.0| 0.0|1025.0|             -22.9| 0.0|           SW|      2.1|Wanshouxigong|        Good|Winter|\n",
      "|2015|    1|  1|  11|18.0|26.0| 64.0|1300.0|23.0| 1.0|1029.0|             -22.8| 0.0|           SW|      1.4|Wanshouxigong|        Good|Winter|\n",
      "|2015|    1|  1|  12|50.0|42.0| 76.0|1700.0|27.0| 1.0|1025.0|             -22.8| 0.0|           SW|      2.5|Wanshouxigong|        Good|Winter|\n",
      "|2015|    1|  1|  13|57.0|37.0| 70.0|1500.0|37.0| 2.0|1025.0|             -22.8| 0.0|          SSW|      1.8|Wanshouxigong|Satisfactory|Winter|\n",
      "|2015|    1|  1|  14|50.0|29.0| 59.0|1300.0|49.0| 3.0|1022.0|             -22.8| 0.0|           SW|      2.0|Wanshouxigong|        Good|Winter|\n",
      "|2015|    1|  1|  15|35.0|18.0| 33.0| 900.0|64.0| 3.0|1020.0|             -22.8| 0.0|           SW|      2.4|Wanshouxigong|        Good|Winter|\n",
      "|2015|    1|  1|  16|36.0|19.0| 39.0|1000.0|60.0| 3.0|1020.0|             -22.0| 0.0|           SW|      2.7|Wanshouxigong|        Good|Winter|\n",
      "|2015|    1|  1|  17|38.0|23.0| 58.0|1300.0|46.0| 1.0|1021.0|             -22.1| 0.0|           SW|      1.1|Wanshouxigong|        Good|Winter|\n",
      "|2015|    1|  1|  18|67.0|35.0| 89.0|1800.0|25.0|-1.0|1017.0|             -20.1| 0.0|          SSW|      1.2|Wanshouxigong|Satisfactory|Winter|\n",
      "|2015|    1|  1|  19|76.0|43.0|106.0|2000.0|11.0|-2.0|1021.0|             -19.9| 0.0|            W|      1.1|Wanshouxigong|Satisfactory|Winter|\n",
      "+----+-----+---+----+----+----+-----+------+----+----+------+------------------+----+-------------+---------+-------------+------------+------+\n",
      "only showing top 20 rows\n",
      "\n"
     ]
    }
   ],
   "source": [
    "Seasonfunc = F.udf(season, StringType())\n",
    "new_data = NQR.withColumn(\"Season\", Seasonfunc(\"year\"))\n",
    "new_data.show()"
   ]
  },
  {
   "cell_type": "code",
   "execution_count": null,
   "metadata": {},
   "outputs": [],
   "source": []
  }
 ],
 "metadata": {
  "celltoolbar": "Slideshow",
  "kernelspec": {
   "display_name": "Python 3",
   "language": "python",
   "name": "python3"
  },
  "language_info": {
   "codemirror_mode": {
    "name": "ipython",
    "version": 3
   },
   "file_extension": ".py",
   "mimetype": "text/x-python",
   "name": "python",
   "nbconvert_exporter": "python",
   "pygments_lexer": "ipython3",
   "version": "3.5.2"
  }
 },
 "nbformat": 4,
 "nbformat_minor": 2
}
