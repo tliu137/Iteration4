{
 "cells": [
  {
   "cell_type": "markdown",
   "metadata": {},
   "source": [
    "## Must be included at the beginning of each new notebook. Remember to change the app name.\n",
    "import findspark\n",
    "findspark.init('/home/ubuntu/spark-2.1.1-bin-hadoop2.7')\n",
    "import pyspark\n",
    "from pyspark.sql import SparkSession\n",
    "spark = SparkSession.builder.appName('BDAS').getOrCreate()"
   ]
  },
  {
   "cell_type": "code",
   "execution_count": 1,
   "metadata": {},
   "outputs": [],
   "source": [
    "# Must be included at the beginning of each new notebook. Remember to change the app name.\n",
    "import findspark\n",
    "findspark.init('/home/ubuntu/spark-2.1.1-bin-hadoop2.7')\n",
    "import pyspark\n",
    "from pyspark.sql import SparkSession\n",
    "spark = SparkSession.builder.appName('BDAS').getOrCreate()"
   ]
  },
  {
   "cell_type": "code",
   "execution_count": null,
   "metadata": {},
   "outputs": [],
   "source": [
    "df = spark.read.csv('../DataSet/PRSA_Data_Wanshouxigong_20130301-20170228.csv', header=True, inferSchema=True)\n"
   ]
  },
  {
   "cell_type": "code",
   "execution_count": null,
   "metadata": {},
   "outputs": [],
   "source": [
    "#Visualise DataFrame\n",
    "df.show()\n",
    "df.count()"
   ]
  },
  {
   "cell_type": "code",
   "execution_count": null,
   "metadata": {},
   "outputs": [],
   "source": [
    "#Selecting items(rows): year between 2015-2017\n",
    "df.createOrReplaceTempView('dataset')\n",
    "results = spark.sql(\"SELECT * FROM dataset WHERE year > 2014\")\n",
    "results.show()\n",
    "results.count()\n"
   ]
  },
  {
   "cell_type": "code",
   "execution_count": null,
   "metadata": {},
   "outputs": [],
   "source": [
    "#Example for subset of  dataset with 100 rows\n",
    "new_results = spark.sql(\"SELECT * FROM dataset  limit 100\")\n",
    "new_results.show()\n",
    "new_results.count()"
   ]
  },
  {
   "cell_type": "code",
   "execution_count": null,
   "metadata": {},
   "outputs": [],
   "source": [
    "# check number of columns\n",
    "results.show()\n",
    "print(results.columns)\n",
    "print(\"Number of columns: \",len(results.columns))"
   ]
  },
  {
   "cell_type": "code",
   "execution_count": null,
   "metadata": {},
   "outputs": [],
   "source": [
    "#Selecting attribute\n",
    "afterDrop = results.drop(*[\"No\",\"PM10\"])\n",
    "afterDrop.show()\n",
    "print(afterDrop.columns)\n",
    "print(\"Number of columns: \",len(afterDrop.columns))"
   ]
  },
  {
   "cell_type": "code",
   "execution_count": null,
   "metadata": {},
   "outputs": [],
   "source": [
    "#Check data type(Measurement errors)\n",
    "afterDrop.printSchema()"
   ]
  },
  {
   "cell_type": "code",
   "execution_count": null,
   "metadata": {},
   "outputs": [],
   "source": [
    "#import relevant types\n",
    "from pyspark.sql.types import (StructField,StringType,IntegerType,StructType,DoubleType)\n"
   ]
  },
  {
   "cell_type": "code",
   "execution_count": 2,
   "metadata": {},
   "outputs": [],
   "source": [
    "# create correct data schema.\n",
    "from pyspark.sql.types import *\n",
    "schema = StructType([StructField('No',IntegerType(),True),\n",
    "               StructField('year',IntegerType(),True),\n",
    "               StructField('month',IntegerType(),True),\n",
    "               StructField('day',IntegerType(),True),\n",
    "               StructField('hour',IntegerType(),True),\n",
    "               StructField('PM2.5',FloatType(),True),\n",
    "               StructField('PM10',FloatType(),True),\n",
    "               StructField('SO2',FloatType(),True),\n",
    "               StructField('NO2',FloatType(),True),\n",
    "               StructField('CO',FloatType(),True),\n",
    "               StructField('O3',FloatType(),True),\n",
    "               StructField('TEMP',FloatType(),True),\n",
    "               StructField('PRES',FloatType(),True),\n",
    "               StructField('DEWP',FloatType(),True),\n",
    "               StructField('RAIN',FloatType(),True),\n",
    "               StructField('wd',StringType(),True),\n",
    "               StructField('WSPM',FloatType(),True),\n",
    "               StructField('station',StringType(),True)])\n"
   ]
  },
  {
   "cell_type": "code",
   "execution_count": null,
   "metadata": {},
   "outputs": [],
   "source": [
    "schema = StructType()\\\n",
    "        .add('No',IntegerType(),True)\\\n",
    "        .add('year',IntegerType(),True)\\\n",
    "        .add('month',IntegerType(),True)\\\n",
    "        .add('day',IntegerType(),True)\\\n",
    "        .add('hour',IntegerType(),True)\\\n",
    "        .add('PM2.5',FloatType(),True)\\\n",
    "        .add('PM10',FloatType(),True)\\\n",
    "        .add('SO2',FloatType(),True)\n",
    "        \n",
    "        "
   ]
  },
  {
   "cell_type": "code",
   "execution_count": 3,
   "metadata": {
    "scrolled": false
   },
   "outputs": [
    {
     "name": "stdout",
     "output_type": "stream",
     "text": [
      "+---+----+-----+---+----+-----+----+----+----+-----+----+----+------+-----+----+---+----+-------------+\n",
      "| No|year|month|day|hour|PM2.5|PM10| SO2| NO2|   CO|  O3|TEMP|  PRES| DEWP|RAIN| wd|WSPM|      station|\n",
      "+---+----+-----+---+----+-----+----+----+----+-----+----+----+------+-----+----+---+----+-------------+\n",
      "|  1|2013|    3|  1|   0|  9.0| 9.0| 6.0|17.0|200.0|62.0| 0.3|1021.9|-19.0| 0.0|WNW| 2.0|Wanshouxigong|\n",
      "|  2|2013|    3|  1|   1| 11.0|11.0| 7.0|14.0|200.0|66.0|-0.1|1022.4|-19.3| 0.0|WNW| 4.4|Wanshouxigong|\n",
      "|  3|2013|    3|  1|   2|  8.0| 8.0|null|16.0|200.0|59.0|-0.6|1022.6|-19.7| 0.0|WNW| 4.7|Wanshouxigong|\n",
      "|  4|2013|    3|  1|   3|  8.0| 8.0| 3.0|16.0| null|null|-0.7|1023.5|-20.9| 0.0| NW| 2.6|Wanshouxigong|\n",
      "|  5|2013|    3|  1|   4|  8.0| 8.0| 3.0|null|300.0|36.0|-0.9|1024.1|-21.7| 0.0|WNW| 2.5|Wanshouxigong|\n",
      "|  6|2013|    3|  1|   5| 10.0|10.0| 4.0| 8.0|200.0|64.0|-1.6|1024.7|-21.1| 0.0| NE| 2.0|Wanshouxigong|\n",
      "|  7|2013|    3|  1|   6|  8.0| 8.0| 6.0|13.0|300.0|61.0|-2.4|1025.4|-20.3| 0.0| NE| 2.3|Wanshouxigong|\n",
      "|  8|2013|    3|  1|   7|  8.0| 8.0| 8.0|20.0|300.0|54.0|-0.8|1026.7|-19.9| 0.0|NNE| 2.0|Wanshouxigong|\n",
      "|  9|2013|    3|  1|   8|  3.0| 6.0| 9.0|23.0|300.0|50.0| 0.4|1027.3|-19.4| 0.0| NE| 2.7|Wanshouxigong|\n",
      "| 10|2013|    3|  1|   9|  3.0| 6.0|10.0|18.0|300.0|56.0| 1.5|1027.4|-19.7| 0.0|ENE| 2.9|Wanshouxigong|\n",
      "| 11|2013|    3|  1|  10|  3.0| 6.0|11.0|15.0|300.0|61.0| 2.1|1027.3|-21.2| 0.0|NNE| 4.8|Wanshouxigong|\n",
      "| 12|2013|    3|  1|  11|  3.0| 6.0| 9.0|14.0|300.0|62.0| 3.1|1027.2|-21.1| 0.0|  N| 4.1|Wanshouxigong|\n",
      "| 13|2013|    3|  1|  12|  3.0| 6.0| 8.0|10.0|300.0|67.0| 4.7|1026.3|-20.6| 0.0|ESE| 1.6|Wanshouxigong|\n",
      "| 14|2013|    3|  1|  13|  3.0| 9.0| 7.0| 9.0|300.0|70.0| 5.5|1025.2|-20.0| 0.0| NE| 3.1|Wanshouxigong|\n",
      "| 15|2013|    3|  1|  14|  3.0|14.0| 7.0| 8.0|300.0|72.0| 6.6|1024.9|-19.9| 0.0| NW| 2.1|Wanshouxigong|\n",
      "| 16|2013|    3|  1|  15| 12.0|14.0| 5.0| 7.0|200.0|73.0| 6.1|1024.7|-19.5| 0.0| NE| 2.4|Wanshouxigong|\n",
      "| 17|2013|    3|  1|  16| 11.0|17.0| 7.0| 9.0|300.0|72.0| 5.9|1024.7|-18.8| 0.0|  N| 3.3|Wanshouxigong|\n",
      "| 18|2013|    3|  1|  17| 13.0|18.0| 8.0|14.0|300.0|67.0| 5.3|1025.3|-19.3| 0.0|NNW| 2.0|Wanshouxigong|\n",
      "| 19|2013|    3|  1|  18| 10.0|18.0| 9.0|20.0|400.0|58.0| 4.1|1026.4|-19.5| 0.0|NNE| 2.2|Wanshouxigong|\n",
      "| 20|2013|    3|  1|  19| 10.0|16.0| 7.0|29.0|500.0|50.0| 3.2|1027.2|-18.9| 0.0| NE| 2.1|Wanshouxigong|\n",
      "+---+----+-----+---+----+-----+----+----+----+-----+----+----+------+-----+----+---+----+-------------+\n",
      "only showing top 20 rows\n",
      "\n"
     ]
    }
   ],
   "source": [
    "#import in the dataset with relevat types\n",
    "\n",
    "\n",
    "df_with_schema = spark.read.format(\"csv\") \\\n",
    "      .option(\"header\", True) \\\n",
    "      .schema(schema) \\\n",
    "      .load(\"../DataSet/testv1.csv\")\n",
    "df_with_schema.show()"
   ]
  },
  {
   "cell_type": "code",
   "execution_count": 4,
   "metadata": {},
   "outputs": [
    {
     "name": "stdout",
     "output_type": "stream",
     "text": [
      "+----+-----+---+----+-----+----+-----+------+----+----+------+-----+----+---+----+-------------+\n",
      "|year|month|day|hour|PM2.5| SO2|  NO2|    CO|  O3|TEMP|  PRES| DEWP|RAIN| wd|WSPM|      station|\n",
      "+----+-----+---+----+-----+----+-----+------+----+----+------+-----+----+---+----+-------------+\n",
      "|2015|    1|  1|   0|  3.0|10.0| 16.0| 400.0|54.0|-1.0|1027.0|-23.0| 0.0| NW| 0.9|Wanshouxigong|\n",
      "|2015|    1|  1|   1|  3.0|11.0| 17.0| 400.0|53.0| 0.0|1025.0|-22.9| 0.0| NW| 2.7|Wanshouxigong|\n",
      "|2015|    1|  1|   2|  3.0|10.0| 15.0| 400.0|55.0| 0.0|1027.0|-22.9| 0.0| NW| 2.4|Wanshouxigong|\n",
      "|2015|    1|  1|   3|  4.0|13.0| 13.0| 400.0|57.0| 0.0|1028.0|-24.4| 0.0| NW| 2.4|Wanshouxigong|\n",
      "|2015|    1|  1|   4|  4.0|15.0| 12.0| 400.0|58.0| 0.0|1030.0|-24.4| 0.0| NW| 2.4|Wanshouxigong|\n",
      "|2015|    1|  1|   5|  3.0|13.0| 15.0| 500.0|55.0|-1.0|1024.0|-24.4| 0.0|WNW| 3.2|Wanshouxigong|\n",
      "|2015|    1|  1|   6|  3.0|10.0| 30.0| 500.0|39.0|-4.0|1029.0|-24.3| 0.0|  W| 0.9|Wanshouxigong|\n",
      "|2015|    1|  1|   7|  3.0|10.0| 41.0| 600.0|30.0|-2.0|1029.0|-23.9| 0.0|WNW| 4.2|Wanshouxigong|\n",
      "|2015|    1|  1|   8|  7.0|10.0| 55.0| 600.0|16.0|-2.0|1027.0|-23.9| 0.0|WNW| 1.9|Wanshouxigong|\n",
      "|2015|    1|  1|   9|  7.0|11.0| 56.0| 600.0|17.0|-1.0|1026.0|-23.0| 0.0|SSW| 1.5|Wanshouxigong|\n",
      "|2015|    1|  1|  10|  6.0|15.0| 56.0| 900.0|21.0| 0.0|1025.0|-22.9| 0.0| SW| 2.1|Wanshouxigong|\n",
      "|2015|    1|  1|  11| 18.0|26.0| 64.0|1300.0|23.0| 1.0|1029.0|-22.8| 0.0| SW| 1.4|Wanshouxigong|\n",
      "|2015|    1|  1|  12| 50.0|42.0| 76.0|1700.0|27.0| 1.0|1025.0|-22.8| 0.0| SW| 2.5|Wanshouxigong|\n",
      "|2015|    1|  1|  13| 57.0|37.0| 70.0|1500.0|37.0| 2.0|1025.0|-22.8| 0.0|SSW| 1.8|Wanshouxigong|\n",
      "|2015|    1|  1|  14| 50.0|29.0| 59.0|1300.0|49.0| 3.0|1022.0|-22.8| 0.0| SW| 2.0|Wanshouxigong|\n",
      "|2015|    1|  1|  15| 35.0|18.0| 33.0| 900.0|64.0| 3.0|1020.0|-22.8| 0.0| SW| 2.4|Wanshouxigong|\n",
      "|2015|    1|  1|  16| 36.0|19.0| 39.0|1000.0|60.0| 3.0|1020.0|-22.0| 0.0| SW| 2.7|Wanshouxigong|\n",
      "|2015|    1|  1|  17| 38.0|23.0| 58.0|1300.0|46.0| 1.0|1021.0|-22.1| 0.0| SW| 1.1|Wanshouxigong|\n",
      "|2015|    1|  1|  18| 67.0|35.0| 89.0|1800.0|25.0|-1.0|1017.0|-20.1| 0.0|SSW| 1.2|Wanshouxigong|\n",
      "|2015|    1|  1|  19| 76.0|43.0|106.0|2000.0|11.0|-2.0|1021.0|-19.9| 0.0|  W| 1.1|Wanshouxigong|\n",
      "+----+-----+---+----+-----+----+-----+------+----+----+------+-----+----+---+----+-------------+\n",
      "only showing top 20 rows\n",
      "\n",
      "root\n",
      " |-- year: integer (nullable = true)\n",
      " |-- month: integer (nullable = true)\n",
      " |-- day: integer (nullable = true)\n",
      " |-- hour: integer (nullable = true)\n",
      " |-- PM2.5: float (nullable = true)\n",
      " |-- SO2: float (nullable = true)\n",
      " |-- NO2: float (nullable = true)\n",
      " |-- CO: float (nullable = true)\n",
      " |-- O3: float (nullable = true)\n",
      " |-- TEMP: float (nullable = true)\n",
      " |-- PRES: float (nullable = true)\n",
      " |-- DEWP: float (nullable = true)\n",
      " |-- RAIN: float (nullable = true)\n",
      " |-- wd: string (nullable = true)\n",
      " |-- WSPM: float (nullable = true)\n",
      " |-- station: string (nullable = true)\n",
      "\n"
     ]
    }
   ],
   "source": [
    "#apply previous data preprocessing \n",
    "df_with_schema.createOrReplaceTempView('newDataSet')\n",
    "new_reslut = spark.sql(\"SELECT * FROM newDataSet WHERE year > 2014\")\n",
    "new_afterDrop = new_reslut.drop(*[\"No\",\"PM10\"])\n",
    "new_afterDrop.show()\n",
    "\n",
    "new_afterDrop.printSchema()"
   ]
  },
  {
   "cell_type": "code",
   "execution_count": 5,
   "metadata": {},
   "outputs": [
    {
     "name": "stdout",
     "output_type": "stream",
     "text": [
      "+----+-----+---+----+-----+----+-----+------+----+----+------+-----+----+---+----+-------------+\n",
      "|year|month|day|hour|PM2.5| SO2|  NO2|    CO|  O3|TEMP|  PRES| DEWP|RAIN| wd|WSPM|      station|\n",
      "+----+-----+---+----+-----+----+-----+------+----+----+------+-----+----+---+----+-------------+\n",
      "|2015|    1|  1|   0|  3.0|10.0| 16.0| 400.0|54.0|-1.0|1027.0|-23.0| 0.0| NW| 0.9|Wanshouxigong|\n",
      "|2015|    1|  1|   1|  3.0|11.0| 17.0| 400.0|53.0| 0.0|1025.0|-22.9| 0.0| NW| 2.7|Wanshouxigong|\n",
      "|2015|    1|  1|   2|  3.0|10.0| 15.0| 400.0|55.0| 0.0|1027.0|-22.9| 0.0| NW| 2.4|Wanshouxigong|\n",
      "|2015|    1|  1|   3|  4.0|13.0| 13.0| 400.0|57.0| 0.0|1028.0|-24.4| 0.0| NW| 2.4|Wanshouxigong|\n",
      "|2015|    1|  1|   4|  4.0|15.0| 12.0| 400.0|58.0| 0.0|1030.0|-24.4| 0.0| NW| 2.4|Wanshouxigong|\n",
      "|2015|    1|  1|   5|  3.0|13.0| 15.0| 500.0|55.0|-1.0|1024.0|-24.4| 0.0|WNW| 3.2|Wanshouxigong|\n",
      "|2015|    1|  1|   6|  3.0|10.0| 30.0| 500.0|39.0|-4.0|1029.0|-24.3| 0.0|  W| 0.9|Wanshouxigong|\n",
      "|2015|    1|  1|   7|  3.0|10.0| 41.0| 600.0|30.0|-2.0|1029.0|-23.9| 0.0|WNW| 4.2|Wanshouxigong|\n",
      "|2015|    1|  1|   8|  7.0|10.0| 55.0| 600.0|16.0|-2.0|1027.0|-23.9| 0.0|WNW| 1.9|Wanshouxigong|\n",
      "|2015|    1|  1|   9|  7.0|11.0| 56.0| 600.0|17.0|-1.0|1026.0|-23.0| 0.0|SSW| 1.5|Wanshouxigong|\n",
      "|2015|    1|  1|  10|  6.0|15.0| 56.0| 900.0|21.0| 0.0|1025.0|-22.9| 0.0| SW| 2.1|Wanshouxigong|\n",
      "|2015|    1|  1|  11| 18.0|26.0| 64.0|1300.0|23.0| 1.0|1029.0|-22.8| 0.0| SW| 1.4|Wanshouxigong|\n",
      "|2015|    1|  1|  12| 50.0|42.0| 76.0|1700.0|27.0| 1.0|1025.0|-22.8| 0.0| SW| 2.5|Wanshouxigong|\n",
      "|2015|    1|  1|  13| 57.0|37.0| 70.0|1500.0|37.0| 2.0|1025.0|-22.8| 0.0|SSW| 1.8|Wanshouxigong|\n",
      "|2015|    1|  1|  14| 50.0|29.0| 59.0|1300.0|49.0| 3.0|1022.0|-22.8| 0.0| SW| 2.0|Wanshouxigong|\n",
      "|2015|    1|  1|  15| 35.0|18.0| 33.0| 900.0|64.0| 3.0|1020.0|-22.8| 0.0| SW| 2.4|Wanshouxigong|\n",
      "|2015|    1|  1|  16| 36.0|19.0| 39.0|1000.0|60.0| 3.0|1020.0|-22.0| 0.0| SW| 2.7|Wanshouxigong|\n",
      "|2015|    1|  1|  17| 38.0|23.0| 58.0|1300.0|46.0| 1.0|1021.0|-22.1| 0.0| SW| 1.1|Wanshouxigong|\n",
      "|2015|    1|  1|  18| 67.0|35.0| 89.0|1800.0|25.0|-1.0|1017.0|-20.1| 0.0|SSW| 1.2|Wanshouxigong|\n",
      "|2015|    1|  1|  19| 76.0|43.0|106.0|2000.0|11.0|-2.0|1021.0|-19.9| 0.0|  W| 1.1|Wanshouxigong|\n",
      "+----+-----+---+----+-----+----+-----+------+----+----+------+-----+----+---+----+-------------+\n",
      "only showing top 20 rows\n",
      "\n"
     ]
    }
   ],
   "source": [
    "#show data set\n",
    "new_afterDrop.show()"
   ]
  },
  {
   "cell_type": "code",
   "execution_count": 6,
   "metadata": {},
   "outputs": [
    {
     "name": "stdout",
     "output_type": "stream",
     "text": [
      "+----+-----+---+----+----+----+-----+------+----+----+------+------------------+----+-------------+---------+-------------+\n",
      "|year|month|day|hour|PM25| SO2|  NO2|    CO|  O3|TEMP|  PRES|DewPointTempeature|RAIN|WindDirection|WindSpend|      station|\n",
      "+----+-----+---+----+----+----+-----+------+----+----+------+------------------+----+-------------+---------+-------------+\n",
      "|2015|    1|  1|   0| 3.0|10.0| 16.0| 400.0|54.0|-1.0|1027.0|             -23.0| 0.0|           NW|      0.9|Wanshouxigong|\n",
      "|2015|    1|  1|   1| 3.0|11.0| 17.0| 400.0|53.0| 0.0|1025.0|             -22.9| 0.0|           NW|      2.7|Wanshouxigong|\n",
      "|2015|    1|  1|   2| 3.0|10.0| 15.0| 400.0|55.0| 0.0|1027.0|             -22.9| 0.0|           NW|      2.4|Wanshouxigong|\n",
      "|2015|    1|  1|   3| 4.0|13.0| 13.0| 400.0|57.0| 0.0|1028.0|             -24.4| 0.0|           NW|      2.4|Wanshouxigong|\n",
      "|2015|    1|  1|   4| 4.0|15.0| 12.0| 400.0|58.0| 0.0|1030.0|             -24.4| 0.0|           NW|      2.4|Wanshouxigong|\n",
      "|2015|    1|  1|   5| 3.0|13.0| 15.0| 500.0|55.0|-1.0|1024.0|             -24.4| 0.0|          WNW|      3.2|Wanshouxigong|\n",
      "|2015|    1|  1|   6| 3.0|10.0| 30.0| 500.0|39.0|-4.0|1029.0|             -24.3| 0.0|            W|      0.9|Wanshouxigong|\n",
      "|2015|    1|  1|   7| 3.0|10.0| 41.0| 600.0|30.0|-2.0|1029.0|             -23.9| 0.0|          WNW|      4.2|Wanshouxigong|\n",
      "|2015|    1|  1|   8| 7.0|10.0| 55.0| 600.0|16.0|-2.0|1027.0|             -23.9| 0.0|          WNW|      1.9|Wanshouxigong|\n",
      "|2015|    1|  1|   9| 7.0|11.0| 56.0| 600.0|17.0|-1.0|1026.0|             -23.0| 0.0|          SSW|      1.5|Wanshouxigong|\n",
      "|2015|    1|  1|  10| 6.0|15.0| 56.0| 900.0|21.0| 0.0|1025.0|             -22.9| 0.0|           SW|      2.1|Wanshouxigong|\n",
      "|2015|    1|  1|  11|18.0|26.0| 64.0|1300.0|23.0| 1.0|1029.0|             -22.8| 0.0|           SW|      1.4|Wanshouxigong|\n",
      "|2015|    1|  1|  12|50.0|42.0| 76.0|1700.0|27.0| 1.0|1025.0|             -22.8| 0.0|           SW|      2.5|Wanshouxigong|\n",
      "|2015|    1|  1|  13|57.0|37.0| 70.0|1500.0|37.0| 2.0|1025.0|             -22.8| 0.0|          SSW|      1.8|Wanshouxigong|\n",
      "|2015|    1|  1|  14|50.0|29.0| 59.0|1300.0|49.0| 3.0|1022.0|             -22.8| 0.0|           SW|      2.0|Wanshouxigong|\n",
      "|2015|    1|  1|  15|35.0|18.0| 33.0| 900.0|64.0| 3.0|1020.0|             -22.8| 0.0|           SW|      2.4|Wanshouxigong|\n",
      "|2015|    1|  1|  16|36.0|19.0| 39.0|1000.0|60.0| 3.0|1020.0|             -22.0| 0.0|           SW|      2.7|Wanshouxigong|\n",
      "|2015|    1|  1|  17|38.0|23.0| 58.0|1300.0|46.0| 1.0|1021.0|             -22.1| 0.0|           SW|      1.1|Wanshouxigong|\n",
      "|2015|    1|  1|  18|67.0|35.0| 89.0|1800.0|25.0|-1.0|1017.0|             -20.1| 0.0|          SSW|      1.2|Wanshouxigong|\n",
      "|2015|    1|  1|  19|76.0|43.0|106.0|2000.0|11.0|-2.0|1021.0|             -19.9| 0.0|            W|      1.1|Wanshouxigong|\n",
      "+----+-----+---+----+----+----+-----+------+----+----+------+------------------+----+-------------+---------+-------------+\n",
      "only showing top 20 rows\n",
      "\n"
     ]
    }
   ],
   "source": [
    "#rename column name\n",
    "rename_df = new_afterDrop.withColumnRenamed(\"DEWP\",\"DewPointTempeature\") \\\n",
    "    .withColumnRenamed(\"wd\",\"WindDirection\")\\\n",
    "    .withColumnRenamed(\"WSPM\",\"WindSpend\")\\\n",
    "    .withColumnRenamed(\"PM2.5\",\"PM25\")\n",
    "rename_df.show()"
   ]
  },
  {
   "cell_type": "code",
   "execution_count": 7,
   "metadata": {},
   "outputs": [
    {
     "name": "stdout",
     "output_type": "stream",
     "text": [
      "root\n",
      " |-- year: integer (nullable = true)\n",
      " |-- month: integer (nullable = true)\n",
      " |-- day: integer (nullable = true)\n",
      " |-- hour: integer (nullable = true)\n",
      " |-- PM25: float (nullable = true)\n",
      " |-- SO2: float (nullable = true)\n",
      " |-- NO2: float (nullable = true)\n",
      " |-- CO: float (nullable = true)\n",
      " |-- O3: float (nullable = true)\n",
      " |-- TEMP: float (nullable = true)\n",
      " |-- PRES: float (nullable = true)\n",
      " |-- DewPointTempeature: float (nullable = true)\n",
      " |-- RAIN: float (nullable = true)\n",
      " |-- WindDirection: string (nullable = true)\n",
      " |-- WindSpend: float (nullable = true)\n",
      " |-- station: string (nullable = true)\n",
      "\n",
      "+----+-----+---+----+----+----+-----+------+----+----+------+------------------+----+-------------+---------+-------------+\n",
      "|year|month|day|hour|PM25| SO2|  NO2|    CO|  O3|TEMP|  PRES|DewPointTempeature|RAIN|WindDirection|WindSpend|      station|\n",
      "+----+-----+---+----+----+----+-----+------+----+----+------+------------------+----+-------------+---------+-------------+\n",
      "|2015|    1|  1|   0| 3.0|10.0| 16.0| 400.0|54.0|-1.0|1027.0|             -23.0| 0.0|           NW|      0.9|Wanshouxigong|\n",
      "|2015|    1|  1|   1| 3.0|11.0| 17.0| 400.0|53.0| 0.0|1025.0|             -22.9| 0.0|           NW|      2.7|Wanshouxigong|\n",
      "|2015|    1|  1|   2| 3.0|10.0| 15.0| 400.0|55.0| 0.0|1027.0|             -22.9| 0.0|           NW|      2.4|Wanshouxigong|\n",
      "|2015|    1|  1|   3| 4.0|13.0| 13.0| 400.0|57.0| 0.0|1028.0|             -24.4| 0.0|           NW|      2.4|Wanshouxigong|\n",
      "|2015|    1|  1|   4| 4.0|15.0| 12.0| 400.0|58.0| 0.0|1030.0|             -24.4| 0.0|           NW|      2.4|Wanshouxigong|\n",
      "|2015|    1|  1|   5| 3.0|13.0| 15.0| 500.0|55.0|-1.0|1024.0|             -24.4| 0.0|          WNW|      3.2|Wanshouxigong|\n",
      "|2015|    1|  1|   6| 3.0|10.0| 30.0| 500.0|39.0|-4.0|1029.0|             -24.3| 0.0|            W|      0.9|Wanshouxigong|\n",
      "|2015|    1|  1|   7| 3.0|10.0| 41.0| 600.0|30.0|-2.0|1029.0|             -23.9| 0.0|          WNW|      4.2|Wanshouxigong|\n",
      "|2015|    1|  1|   8| 7.0|10.0| 55.0| 600.0|16.0|-2.0|1027.0|             -23.9| 0.0|          WNW|      1.9|Wanshouxigong|\n",
      "|2015|    1|  1|   9| 7.0|11.0| 56.0| 600.0|17.0|-1.0|1026.0|             -23.0| 0.0|          SSW|      1.5|Wanshouxigong|\n",
      "|2015|    1|  1|  10| 6.0|15.0| 56.0| 900.0|21.0| 0.0|1025.0|             -22.9| 0.0|           SW|      2.1|Wanshouxigong|\n",
      "|2015|    1|  1|  11|18.0|26.0| 64.0|1300.0|23.0| 1.0|1029.0|             -22.8| 0.0|           SW|      1.4|Wanshouxigong|\n",
      "|2015|    1|  1|  12|50.0|42.0| 76.0|1700.0|27.0| 1.0|1025.0|             -22.8| 0.0|           SW|      2.5|Wanshouxigong|\n",
      "|2015|    1|  1|  13|57.0|37.0| 70.0|1500.0|37.0| 2.0|1025.0|             -22.8| 0.0|          SSW|      1.8|Wanshouxigong|\n",
      "|2015|    1|  1|  14|50.0|29.0| 59.0|1300.0|49.0| 3.0|1022.0|             -22.8| 0.0|           SW|      2.0|Wanshouxigong|\n",
      "|2015|    1|  1|  15|35.0|18.0| 33.0| 900.0|64.0| 3.0|1020.0|             -22.8| 0.0|           SW|      2.4|Wanshouxigong|\n",
      "|2015|    1|  1|  16|36.0|19.0| 39.0|1000.0|60.0| 3.0|1020.0|             -22.0| 0.0|           SW|      2.7|Wanshouxigong|\n",
      "|2015|    1|  1|  17|38.0|23.0| 58.0|1300.0|46.0| 1.0|1021.0|             -22.1| 0.0|           SW|      1.1|Wanshouxigong|\n",
      "|2015|    1|  1|  18|67.0|35.0| 89.0|1800.0|25.0|-1.0|1017.0|             -20.1| 0.0|          SSW|      1.2|Wanshouxigong|\n",
      "|2015|    1|  1|  19|76.0|43.0|106.0|2000.0|11.0|-2.0|1021.0|             -19.9| 0.0|            W|      1.1|Wanshouxigong|\n",
      "+----+-----+---+----+----+----+-----+------+----+----+------+------------------+----+-------------+---------+-------------+\n",
      "only showing top 20 rows\n",
      "\n"
     ]
    }
   ],
   "source": [
    "rename_df.printSchema()\n",
    "rename_df.show()"
   ]
  },
  {
   "cell_type": "code",
   "execution_count": 8,
   "metadata": {},
   "outputs": [
    {
     "name": "stdout",
     "output_type": "stream",
     "text": [
      "18960\n"
     ]
    },
    {
     "data": {
      "text/plain": [
       "18168"
      ]
     },
     "execution_count": 8,
     "metadata": {},
     "output_type": "execute_result"
    }
   ],
   "source": [
    "#missing value\n",
    "print(rename_df.count())\n",
    "rename_df.na.drop().count()"
   ]
  },
  {
   "cell_type": "code",
   "execution_count": 3,
   "metadata": {},
   "outputs": [],
   "source": [
    "mutiple = spark.read.option(\"header\", \"true\").csv(\"../DataSet/*.csv\")"
   ]
  },
  {
   "cell_type": "code",
   "execution_count": 19,
   "metadata": {
    "scrolled": false
   },
   "outputs": [
    {
     "name": "stdout",
     "output_type": "stream",
     "text": [
      "+---+----+-----+---+----+-----+----+---+---+---+---+----+------+-----+----+---+----+-------------+\n",
      "| No|year|month|day|hour|PM2.5|PM10|SO2|NO2| CO| O3|TEMP|  PRES| DEWP|RAIN| wd|WSPM|      station|\n",
      "+---+----+-----+---+----+-----+----+---+---+---+---+----+------+-----+----+---+----+-------------+\n",
      "|  1|2013|    3|  1|   0|    9|   9|  6| 17|200| 62| 0.3|1021.9|  -19|   0|WNW|   2|Wanshouxigong|\n",
      "|  2|2013|    3|  1|   1|   11|  11|  7| 14|200| 66|-0.1|1022.4|-19.3|   0|WNW| 4.4|Wanshouxigong|\n",
      "|  3|2013|    3|  1|   2|    8|   8| NA| 16|200| 59|-0.6|1022.6|-19.7|   0|WNW| 4.7|Wanshouxigong|\n",
      "|  4|2013|    3|  1|   3|    8|   8|  3| 16| NA| NA|-0.7|1023.5|-20.9|   0| NW| 2.6|Wanshouxigong|\n",
      "|  5|2013|    3|  1|   4|    8|   8|  3| NA|300| 36|-0.9|1024.1|-21.7|   0|WNW| 2.5|Wanshouxigong|\n",
      "|  6|2013|    3|  1|   5|   10|  10|  4|  8|200| 64|-1.6|1024.7|-21.1|   0| NE|   2|Wanshouxigong|\n",
      "|  7|2013|    3|  1|   6|    8|   8|  6| 13|300| 61|-2.4|1025.4|-20.3|   0| NE| 2.3|Wanshouxigong|\n",
      "|  8|2013|    3|  1|   7|    8|   8|  8| 20|300| 54|-0.8|1026.7|-19.9|   0|NNE|   2|Wanshouxigong|\n",
      "|  9|2013|    3|  1|   8|    3|   6|  9| 23|300| 50| 0.4|1027.3|-19.4|   0| NE| 2.7|Wanshouxigong|\n",
      "| 10|2013|    3|  1|   9|    3|   6| 10| 18|300| 56| 1.5|1027.4|-19.7|   0|ENE| 2.9|Wanshouxigong|\n",
      "| 11|2013|    3|  1|  10|    3|   6| 11| 15|300| 61| 2.1|1027.3|-21.2|   0|NNE| 4.8|Wanshouxigong|\n",
      "| 12|2013|    3|  1|  11|    3|   6|  9| 14|300| 62| 3.1|1027.2|-21.1|   0|  N| 4.1|Wanshouxigong|\n",
      "| 13|2013|    3|  1|  12|    3|   6|  8| 10|300| 67| 4.7|1026.3|-20.6|   0|ESE| 1.6|Wanshouxigong|\n",
      "| 14|2013|    3|  1|  13|    3|   9|  7|  9|300| 70| 5.5|1025.2|  -20|   0| NE| 3.1|Wanshouxigong|\n",
      "| 15|2013|    3|  1|  14|    3|  14|  7|  8|300| 72| 6.6|1024.9|-19.9|   0| NW| 2.1|Wanshouxigong|\n",
      "| 16|2013|    3|  1|  15|   12|  14|  5|  7|200| 73| 6.1|1024.7|-19.5|   0| NE| 2.4|Wanshouxigong|\n",
      "| 17|2013|    3|  1|  16|   11|  17|  7|  9|300| 72| 5.9|1024.7|-18.8|   0|  N| 3.3|Wanshouxigong|\n",
      "| 18|2013|    3|  1|  17|   13|  18|  8| 14|300| 67| 5.3|1025.3|-19.3|   0|NNW|   2|Wanshouxigong|\n",
      "| 19|2013|    3|  1|  18|   10|  18|  9| 20|400| 58| 4.1|1026.4|-19.5|   0|NNE| 2.2|Wanshouxigong|\n",
      "| 20|2013|    3|  1|  19|   10|  16|  7| 29|500| 50| 3.2|1027.2|-18.9|   0| NE| 2.1|Wanshouxigong|\n",
      "+---+----+-----+---+----+-----+----+---+---+---+---+----+------+-----+----+---+----+-------------+\n",
      "only showing top 20 rows\n",
      "\n"
     ]
    }
   ],
   "source": [
    "mutiple.show() \n"
   ]
  },
  {
   "cell_type": "code",
   "execution_count": 22,
   "metadata": {},
   "outputs": [
    {
     "name": "stdout",
     "output_type": "stream",
     "text": [
      "+---+----+-----+---+----+-----+----+---+---+---+---+\n",
      "| No|year|month|day|hour|PM2.5|PM10|SO2|NO2| CO| O3|\n",
      "+---+----+-----+---+----+-----+----+---+---+---+---+\n",
      "|  1|2013|    3|  1|   0|    4|   4|  4|  7|300| 77|\n",
      "|  2|2013|    3|  1|   1|    8|   8|  4|  7|300| 77|\n",
      "|  3|2013|    3|  1|   2|    7|   7|  5| 10|300| 73|\n",
      "|  4|2013|    3|  1|   3|    6|   6| 11| 11|300| 72|\n",
      "|  5|2013|    3|  1|   4|    3|   3| 12| 12|300| 72|\n",
      "|  6|2013|    3|  1|   5|    5|   5| 18| 18|400| 66|\n",
      "|  7|2013|    3|  1|   6|    3|   3| 18| 32|500| 50|\n",
      "|  8|2013|    3|  1|   7|    3|   6| 19| 41|500| 43|\n",
      "|  9|2013|    3|  1|   8|    3|   6| 16| 43|500| 45|\n",
      "| 10|2013|    3|  1|   9|    3|   8| 12| 28|400| 59|\n",
      "| 11|2013|    3|  1|  10|    3|   6|  9| 12|400| 72|\n",
      "| 12|2013|    3|  1|  11|    3|   6|  9| 14|400| 71|\n",
      "| 13|2013|    3|  1|  12|    3|   6|  7| 13|300| 74|\n",
      "| 14|2013|    3|  1|  13|    3|   6|  7| 12|400| 76|\n",
      "| 15|2013|    3|  1|  14|    6|   9|  7| 11|400| 77|\n",
      "| 16|2013|    3|  1|  15|    8|  15|  7| 14|400| 76|\n",
      "| 17|2013|    3|  1|  16|    9|  19|  9| 13|400| 76|\n",
      "| 18|2013|    3|  1|  17|   10|  23| 11| 15|400| 74|\n",
      "| 19|2013|    3|  1|  18|   11|  20|  8| 20|500| 70|\n",
      "| 20|2013|    3|  1|  19|    8|  14| 12| 30|500| 60|\n",
      "+---+----+-----+---+----+-----+----+---+---+---+---+\n",
      "only showing top 20 rows\n",
      "\n",
      "+---+----+------+-----+----+---+----+------------+\n",
      "| No|TEMP|  PRES| DEWP|RAIN| wd|WSPM|     station|\n",
      "+---+----+------+-----+----+---+----+------------+\n",
      "|  1|-0.7|  1023|-18.8|   0|NNW| 4.4|Aotizhongxin|\n",
      "|  2|-1.1|1023.2|-18.2|   0|  N| 4.7|Aotizhongxin|\n",
      "|  3|-1.1|1023.5|-18.2|   0|NNW| 5.6|Aotizhongxin|\n",
      "|  4|-1.4|1024.5|-19.4|   0| NW| 3.1|Aotizhongxin|\n",
      "|  5|  -2|1025.2|-19.5|   0|  N|   2|Aotizhongxin|\n",
      "|  6|-2.2|1025.6|-19.6|   0|  N| 3.7|Aotizhongxin|\n",
      "|  7|-2.6|1026.5|-19.1|   0|NNE| 2.5|Aotizhongxin|\n",
      "|  8|-1.6|1027.4|-19.1|   0|NNW| 3.8|Aotizhongxin|\n",
      "|  9| 0.1|1028.3|-19.2|   0|NNW| 4.1|Aotizhongxin|\n",
      "| 10| 1.2|1028.5|-19.3|   0|  N| 2.6|Aotizhongxin|\n",
      "| 11| 1.9|1028.2|-19.4|   0|NNW| 3.6|Aotizhongxin|\n",
      "| 12| 2.9|1028.2|-20.5|   0|  N| 3.7|Aotizhongxin|\n",
      "| 13| 3.9|1027.3|-19.7|   0|NNW| 5.1|Aotizhongxin|\n",
      "| 14| 5.3|1026.2|-19.3|   0| NW| 4.3|Aotizhongxin|\n",
      "| 15|   6|1025.9|-19.6|   0| NW| 4.4|Aotizhongxin|\n",
      "| 16| 6.2|1025.7|-18.6|   0|NNE| 2.8|Aotizhongxin|\n",
      "| 17| 5.9|1025.6|-18.1|   0|NNW| 3.9|Aotizhongxin|\n",
      "| 18| 4.3|1026.3|-18.7|   0|NNE| 2.8|Aotizhongxin|\n",
      "| 19| 3.1|1027.4|-18.4|   0|NNE| 2.1|Aotizhongxin|\n",
      "| 20| 2.3|1028.3|-18.4|   0|  N| 2.8|Aotizhongxin|\n",
      "+---+----+------+-----+----+---+----+------------+\n",
      "only showing top 20 rows\n",
      "\n"
     ]
    }
   ],
   "source": [
    "df1 = spark.read.option(\"header\", \"true\").csv(\"../DataSet/df1.csv\")\n",
    "df2 = spark.read.option(\"header\", \"true\").csv(\"../DataSet/df2.csv\")\n",
    "df1.show()\n",
    "df2.show()\n"
   ]
  },
  {
   "cell_type": "code",
   "execution_count": 23,
   "metadata": {},
   "outputs": [
    {
     "name": "stdout",
     "output_type": "stream",
     "text": [
      "+---+----+-----+---+----+-----+----+---+---+---+---+----+------+-----+----+---+----+------------+\n",
      "| No|year|month|day|hour|PM2.5|PM10|SO2|NO2| CO| O3|TEMP|  PRES| DEWP|RAIN| wd|WSPM|     station|\n",
      "+---+----+-----+---+----+-----+----+---+---+---+---+----+------+-----+----+---+----+------------+\n",
      "|  1|2013|    3|  1|   0|    4|   4|  4|  7|300| 77|-0.7|  1023|-18.8|   0|NNW| 4.4|Aotizhongxin|\n",
      "|  2|2013|    3|  1|   1|    8|   8|  4|  7|300| 77|-1.1|1023.2|-18.2|   0|  N| 4.7|Aotizhongxin|\n",
      "|  3|2013|    3|  1|   2|    7|   7|  5| 10|300| 73|-1.1|1023.5|-18.2|   0|NNW| 5.6|Aotizhongxin|\n",
      "|  4|2013|    3|  1|   3|    6|   6| 11| 11|300| 72|-1.4|1024.5|-19.4|   0| NW| 3.1|Aotizhongxin|\n",
      "|  5|2013|    3|  1|   4|    3|   3| 12| 12|300| 72|  -2|1025.2|-19.5|   0|  N|   2|Aotizhongxin|\n",
      "|  6|2013|    3|  1|   5|    5|   5| 18| 18|400| 66|-2.2|1025.6|-19.6|   0|  N| 3.7|Aotizhongxin|\n",
      "|  7|2013|    3|  1|   6|    3|   3| 18| 32|500| 50|-2.6|1026.5|-19.1|   0|NNE| 2.5|Aotizhongxin|\n",
      "|  8|2013|    3|  1|   7|    3|   6| 19| 41|500| 43|-1.6|1027.4|-19.1|   0|NNW| 3.8|Aotizhongxin|\n",
      "|  9|2013|    3|  1|   8|    3|   6| 16| 43|500| 45| 0.1|1028.3|-19.2|   0|NNW| 4.1|Aotizhongxin|\n",
      "| 10|2013|    3|  1|   9|    3|   8| 12| 28|400| 59| 1.2|1028.5|-19.3|   0|  N| 2.6|Aotizhongxin|\n",
      "| 11|2013|    3|  1|  10|    3|   6|  9| 12|400| 72| 1.9|1028.2|-19.4|   0|NNW| 3.6|Aotizhongxin|\n",
      "| 12|2013|    3|  1|  11|    3|   6|  9| 14|400| 71| 2.9|1028.2|-20.5|   0|  N| 3.7|Aotizhongxin|\n",
      "| 13|2013|    3|  1|  12|    3|   6|  7| 13|300| 74| 3.9|1027.3|-19.7|   0|NNW| 5.1|Aotizhongxin|\n",
      "| 14|2013|    3|  1|  13|    3|   6|  7| 12|400| 76| 5.3|1026.2|-19.3|   0| NW| 4.3|Aotizhongxin|\n",
      "| 15|2013|    3|  1|  14|    6|   9|  7| 11|400| 77|   6|1025.9|-19.6|   0| NW| 4.4|Aotizhongxin|\n",
      "| 16|2013|    3|  1|  15|    8|  15|  7| 14|400| 76| 6.2|1025.7|-18.6|   0|NNE| 2.8|Aotizhongxin|\n",
      "| 17|2013|    3|  1|  16|    9|  19|  9| 13|400| 76| 5.9|1025.6|-18.1|   0|NNW| 3.9|Aotizhongxin|\n",
      "| 18|2013|    3|  1|  17|   10|  23| 11| 15|400| 74| 4.3|1026.3|-18.7|   0|NNE| 2.8|Aotizhongxin|\n",
      "| 19|2013|    3|  1|  18|   11|  20|  8| 20|500| 70| 3.1|1027.4|-18.4|   0|NNE| 2.1|Aotizhongxin|\n",
      "| 20|2013|    3|  1|  19|    8|  14| 12| 30|500| 60| 2.3|1028.3|-18.4|   0|  N| 2.8|Aotizhongxin|\n",
      "+---+----+-----+---+----+-----+----+---+---+---+---+----+------+-----+----+---+----+------------+\n",
      "only showing top 20 rows\n",
      "\n"
     ]
    }
   ],
   "source": [
    "df3 =  df1.join(df2, df1.No == df2.No).drop(df2.No)\n",
    "df.createOrReplaceTempView('dataset')df3.show()"
   ]
  },
  {
   "cell_type": "code",
   "execution_count": 17,
   "metadata": {},
   "outputs": [],
   "source": [
    "import pyspark.sql.functions as F\n",
    "from pyspark.sql.types import *"
   ]
  },
  {
   "cell_type": "code",
   "execution_count": 109,
   "metadata": {},
   "outputs": [],
   "source": [
    "def somefunc(value):\n",
    "    if   value <= 50: \n",
    "        return 'Good'\n",
    "    elif value > 50 and value <= 100:\n",
    "        return \"Satisfactory\"\n",
    "    elif value > 100 and value <= 200:\n",
    "        return 'Moderate'\n",
    "    elif value > 200 and value <= 300:\n",
    "        return 'Poor'\n",
    "    elif value > 300 and value <=400:\n",
    "        return 'Very Poor'\n",
    "    else:\n",
    "        return 'Severe'\n",
    " "
   ]
  },
  {
   "cell_type": "code",
   "execution_count": 114,
   "metadata": {},
   "outputs": [],
   "source": [
    "udfsomefunc = F.udf(somefunc, StringType())\n",
    "ratings_with_high_low = new.withColumn(\"NQR\", udfsomefunc(\"PM25\"))"
   ]
  },
  {
   "cell_type": "code",
   "execution_count": 115,
   "metadata": {},
   "outputs": [
    {
     "name": "stdout",
     "output_type": "stream",
     "text": [
      "+----+-----+---+----+----+----+-----+------+----+----+------+------------------+----+-------------+---------+-------------+------------+\n",
      "|year|month|day|hour|PM25| SO2|  NO2|    CO|  O3|TEMP|  PRES|DewPointTempeature|RAIN|WindDirection|WindSpend|      station|         NQR|\n",
      "+----+-----+---+----+----+----+-----+------+----+----+------+------------------+----+-------------+---------+-------------+------------+\n",
      "|2015|    1|  1|   0| 3.0|10.0| 16.0| 400.0|54.0|-1.0|1027.0|             -23.0| 0.0|           NW|      0.9|Wanshouxigong|        Good|\n",
      "|2015|    1|  1|   1| 3.0|11.0| 17.0| 400.0|53.0| 0.0|1025.0|             -22.9| 0.0|           NW|      2.7|Wanshouxigong|        Good|\n",
      "|2015|    1|  1|   2| 3.0|10.0| 15.0| 400.0|55.0| 0.0|1027.0|             -22.9| 0.0|           NW|      2.4|Wanshouxigong|        Good|\n",
      "|2015|    1|  1|   3| 4.0|13.0| 13.0| 400.0|57.0| 0.0|1028.0|             -24.4| 0.0|           NW|      2.4|Wanshouxigong|        Good|\n",
      "|2015|    1|  1|   4| 4.0|15.0| 12.0| 400.0|58.0| 0.0|1030.0|             -24.4| 0.0|           NW|      2.4|Wanshouxigong|        Good|\n",
      "|2015|    1|  1|   5| 3.0|13.0| 15.0| 500.0|55.0|-1.0|1024.0|             -24.4| 0.0|          WNW|      3.2|Wanshouxigong|        Good|\n",
      "|2015|    1|  1|   6| 3.0|10.0| 30.0| 500.0|39.0|-4.0|1029.0|             -24.3| 0.0|            W|      0.9|Wanshouxigong|        Good|\n",
      "|2015|    1|  1|   7| 3.0|10.0| 41.0| 600.0|30.0|-2.0|1029.0|             -23.9| 0.0|          WNW|      4.2|Wanshouxigong|        Good|\n",
      "|2015|    1|  1|   8| 7.0|10.0| 55.0| 600.0|16.0|-2.0|1027.0|             -23.9| 0.0|          WNW|      1.9|Wanshouxigong|        Good|\n",
      "|2015|    1|  1|   9| 7.0|11.0| 56.0| 600.0|17.0|-1.0|1026.0|             -23.0| 0.0|          SSW|      1.5|Wanshouxigong|        Good|\n",
      "|2015|    1|  1|  10| 6.0|15.0| 56.0| 900.0|21.0| 0.0|1025.0|             -22.9| 0.0|           SW|      2.1|Wanshouxigong|        Good|\n",
      "|2015|    1|  1|  11|18.0|26.0| 64.0|1300.0|23.0| 1.0|1029.0|             -22.8| 0.0|           SW|      1.4|Wanshouxigong|        Good|\n",
      "|2015|    1|  1|  12|50.0|42.0| 76.0|1700.0|27.0| 1.0|1025.0|             -22.8| 0.0|           SW|      2.5|Wanshouxigong|        Good|\n",
      "|2015|    1|  1|  13|57.0|37.0| 70.0|1500.0|37.0| 2.0|1025.0|             -22.8| 0.0|          SSW|      1.8|Wanshouxigong|Satisfactory|\n",
      "|2015|    1|  1|  14|50.0|29.0| 59.0|1300.0|49.0| 3.0|1022.0|             -22.8| 0.0|           SW|      2.0|Wanshouxigong|        Good|\n",
      "|2015|    1|  1|  15|35.0|18.0| 33.0| 900.0|64.0| 3.0|1020.0|             -22.8| 0.0|           SW|      2.4|Wanshouxigong|        Good|\n",
      "|2015|    1|  1|  16|36.0|19.0| 39.0|1000.0|60.0| 3.0|1020.0|             -22.0| 0.0|           SW|      2.7|Wanshouxigong|        Good|\n",
      "|2015|    1|  1|  17|38.0|23.0| 58.0|1300.0|46.0| 1.0|1021.0|             -22.1| 0.0|           SW|      1.1|Wanshouxigong|        Good|\n",
      "|2015|    1|  1|  18|67.0|35.0| 89.0|1800.0|25.0|-1.0|1017.0|             -20.1| 0.0|          SSW|      1.2|Wanshouxigong|Satisfactory|\n",
      "|2015|    1|  1|  19|76.0|43.0|106.0|2000.0|11.0|-2.0|1021.0|             -19.9| 0.0|            W|      1.1|Wanshouxigong|Satisfactory|\n",
      "+----+-----+---+----+----+----+-----+------+----+----+------+------------------+----+-------------+---------+-------------+------------+\n",
      "only showing top 20 rows\n",
      "\n"
     ]
    }
   ],
   "source": [
    "ratings_with_high_low.show()"
   ]
  },
  {
   "cell_type": "code",
   "execution_count": 49,
   "metadata": {},
   "outputs": [],
   "source": [
    "udfsomefunc = F.udf(somefunc, StringType())\n",
    "ratings_with_high_low = rename_df.withColumn(\"high_low\", udfsomefunc(\"NO2\"))"
   ]
  },
  {
   "cell_type": "code",
   "execution_count": 108,
   "metadata": {
    "scrolled": false
   },
   "outputs": [
    {
     "name": "stdout",
     "output_type": "stream",
     "text": [
      "+----+-----+---+----+----+----+-----+------+----+----+------+------------------+----+-------------+---------+-------------+------------+\n",
      "|year|month|day|hour|PM25| SO2|  NO2|    CO|  O3|TEMP|  PRES|DewPointTempeature|RAIN|WindDirection|WindSpend|      station|    high_low|\n",
      "+----+-----+---+----+----+----+-----+------+----+----+------+------------------+----+-------------+---------+-------------+------------+\n",
      "|2015|    1|  1|   0| 3.0|10.0| 16.0| 400.0|54.0|-1.0|1027.0|             -23.0| 0.0|           NW|      0.9|Wanshouxigong|        Good|\n",
      "|2015|    1|  1|   1| 3.0|11.0| 17.0| 400.0|53.0| 0.0|1025.0|             -22.9| 0.0|           NW|      2.7|Wanshouxigong|        Good|\n",
      "|2015|    1|  1|   2| 3.0|10.0| 15.0| 400.0|55.0| 0.0|1027.0|             -22.9| 0.0|           NW|      2.4|Wanshouxigong|        Good|\n",
      "|2015|    1|  1|   3| 4.0|13.0| 13.0| 400.0|57.0| 0.0|1028.0|             -24.4| 0.0|           NW|      2.4|Wanshouxigong|        Good|\n",
      "|2015|    1|  1|   4| 4.0|15.0| 12.0| 400.0|58.0| 0.0|1030.0|             -24.4| 0.0|           NW|      2.4|Wanshouxigong|        Good|\n",
      "|2015|    1|  1|   5| 3.0|13.0| 15.0| 500.0|55.0|-1.0|1024.0|             -24.4| 0.0|          WNW|      3.2|Wanshouxigong|        Good|\n",
      "|2015|    1|  1|   6| 3.0|10.0| 30.0| 500.0|39.0|-4.0|1029.0|             -24.3| 0.0|            W|      0.9|Wanshouxigong|        Good|\n",
      "|2015|    1|  1|   7| 3.0|10.0| 41.0| 600.0|30.0|-2.0|1029.0|             -23.9| 0.0|          WNW|      4.2|Wanshouxigong|        Good|\n",
      "|2015|    1|  1|   8| 7.0|10.0| 55.0| 600.0|16.0|-2.0|1027.0|             -23.9| 0.0|          WNW|      1.9|Wanshouxigong|        Good|\n",
      "|2015|    1|  1|   9| 7.0|11.0| 56.0| 600.0|17.0|-1.0|1026.0|             -23.0| 0.0|          SSW|      1.5|Wanshouxigong|        Good|\n",
      "|2015|    1|  1|  10| 6.0|15.0| 56.0| 900.0|21.0| 0.0|1025.0|             -22.9| 0.0|           SW|      2.1|Wanshouxigong|        Good|\n",
      "|2015|    1|  1|  11|18.0|26.0| 64.0|1300.0|23.0| 1.0|1029.0|             -22.8| 0.0|           SW|      1.4|Wanshouxigong|        Good|\n",
      "|2015|    1|  1|  12|50.0|42.0| 76.0|1700.0|27.0| 1.0|1025.0|             -22.8| 0.0|           SW|      2.5|Wanshouxigong|        Good|\n",
      "|2015|    1|  1|  13|57.0|37.0| 70.0|1500.0|37.0| 2.0|1025.0|             -22.8| 0.0|          SSW|      1.8|Wanshouxigong|Satisfactory|\n",
      "|2015|    1|  1|  14|50.0|29.0| 59.0|1300.0|49.0| 3.0|1022.0|             -22.8| 0.0|           SW|      2.0|Wanshouxigong|        Good|\n",
      "|2015|    1|  1|  15|35.0|18.0| 33.0| 900.0|64.0| 3.0|1020.0|             -22.8| 0.0|           SW|      2.4|Wanshouxigong|        Good|\n",
      "|2015|    1|  1|  16|36.0|19.0| 39.0|1000.0|60.0| 3.0|1020.0|             -22.0| 0.0|           SW|      2.7|Wanshouxigong|        Good|\n",
      "|2015|    1|  1|  17|38.0|23.0| 58.0|1300.0|46.0| 1.0|1021.0|             -22.1| 0.0|           SW|      1.1|Wanshouxigong|        Good|\n",
      "|2015|    1|  1|  18|67.0|35.0| 89.0|1800.0|25.0|-1.0|1017.0|             -20.1| 0.0|          SSW|      1.2|Wanshouxigong|Satisfactory|\n",
      "|2015|    1|  1|  19|76.0|43.0|106.0|2000.0|11.0|-2.0|1021.0|             -19.9| 0.0|            W|      1.1|Wanshouxigong|Satisfactory|\n",
      "+----+-----+---+----+----+----+-----+------+----+----+------+------------------+----+-------------+---------+-------------+------------+\n",
      "only showing top 20 rows\n",
      "\n"
     ]
    }
   ],
   "source": [
    "ratings_with_high_low.show()"
   ]
  },
  {
   "cell_type": "code",
   "execution_count": 41,
   "metadata": {},
   "outputs": [
    {
     "name": "stdout",
     "output_type": "stream",
     "text": [
      "root\n",
      " |-- year: integer (nullable = true)\n",
      " |-- month: integer (nullable = true)\n",
      " |-- day: integer (nullable = true)\n",
      " |-- hour: integer (nullable = true)\n",
      " |-- PM25: float (nullable = true)\n",
      " |-- SO2: float (nullable = true)\n",
      " |-- NO2: float (nullable = true)\n",
      " |-- CO: float (nullable = true)\n",
      " |-- O3: float (nullable = true)\n",
      " |-- TEMP: float (nullable = true)\n",
      " |-- PRES: float (nullable = true)\n",
      " |-- DewPointTempeature: float (nullable = true)\n",
      " |-- RAIN: float (nullable = true)\n",
      " |-- WindDirection: string (nullable = true)\n",
      " |-- WindSpend: float (nullable = true)\n",
      " |-- station: string (nullable = true)\n",
      "\n"
     ]
    }
   ],
   "source": [
    "rename_df.printSchema()"
   ]
  },
  {
   "cell_type": "code",
   "execution_count": 51,
   "metadata": {},
   "outputs": [],
   "source": [
    "rename_df.write.csv('../DataSet/mycsv.csv')"
   ]
  },
  {
   "cell_type": "code",
   "execution_count": 52,
   "metadata": {},
   "outputs": [],
   "source": [
    "import pyspark.sql.functions as f\n",
    "from functools import reduce"
   ]
  },
  {
   "cell_type": "code",
   "execution_count": 53,
   "metadata": {},
   "outputs": [
    {
     "name": "stdout",
     "output_type": "stream",
     "text": [
      "+----+-----+---+----+-----+----+----+------+----+----+------+------------------+----+-------------+---------+-------------+\n",
      "|year|month|day|hour| PM25| SO2| NO2|    CO|  O3|TEMP|  PRES|DewPointTempeature|RAIN|WindDirection|WindSpend|      station|\n",
      "+----+-----+---+----+-----+----+----+------+----+----+------+------------------+----+-------------+---------+-------------+\n",
      "|2015|    1|  4|  12| 92.0|49.0|null|2800.0|10.0| 7.0|1007.0|             -13.9| 0.0|           NW|      1.3|Wanshouxigong|\n",
      "|2015|    1|  5|  19| null| 4.0|19.0| 400.0|63.0| 3.0|1017.0|             -21.2| 0.0|          NNW|      3.5|Wanshouxigong|\n",
      "|2015|    1|  5|  20| null| 5.0|18.0| 300.0|62.0| 3.0|1023.0|             -22.8| 0.0|          NNE|      2.1|Wanshouxigong|\n",
      "|2015|    1| 12|  11| null|null|79.0|2200.0|10.0| 0.0|1034.0|              -8.0| 0.0|          SSW|      0.7|Wanshouxigong|\n",
      "|2015|    1| 12|  12|114.0|null|87.0|2300.0|15.0| 2.0|1029.0|              -7.4| 0.0|           SW|      1.7|Wanshouxigong|\n",
      "|2015|    1| 26|  12| null|23.0|21.0| 600.0|45.0| 4.0|1019.0|             -12.9| 0.0|           NE|      6.3|Wanshouxigong|\n",
      "|2015|    2|  8|   6|  8.0|null|27.0| 400.0|51.0|-6.0|1032.0|             -24.9| 0.0|          ENE|      2.0|Wanshouxigong|\n",
      "|2015|    2|  8|   7|  7.0|null|28.0| 400.0|50.0|-7.0|1031.0|             -25.2| 0.0|           NE|      3.0|Wanshouxigong|\n",
      "|2015|    2|  8|   8| 11.0|null|28.0| 500.0|48.0|-6.0|1030.0|             -24.9| 0.0|          NNE|      2.0|Wanshouxigong|\n",
      "|2015|    2|  8|   9| 10.0|null|28.0| 400.0|49.0|-4.0|1030.0|             -24.3| 0.0|           NE|      2.7|Wanshouxigong|\n",
      "|2015|    2|  8|  10| 10.0|null|24.0| 500.0|54.0|-2.0|1032.0|             -24.5| 0.0|            E|      2.1|Wanshouxigong|\n",
      "|2015|    2|  8|  11|  9.0|null|20.0| 400.0|60.0| 0.0|1029.0|             -24.4| 0.0|            E|      1.2|Wanshouxigong|\n",
      "|2015|    2|  8|  12| 11.0|null|18.0| 400.0|63.0| 0.0|1028.0|             -26.1| 0.0|            W|      1.6|Wanshouxigong|\n",
      "|2015|    2|  8|  13| 15.0|null|20.0| 400.0|62.0| 1.0|1028.0|             -26.3| 0.0|           SW|      1.3|Wanshouxigong|\n",
      "|2015|    2|  8|  14| 12.0|null|21.0| 400.0|66.0| 0.8|1030.5|             -27.5| 0.0|          WSW|      2.4|Wanshouxigong|\n",
      "|2015|    2|  8|  15| 18.0|null|22.0| 400.0|68.0| 2.0|1024.0|             -25.5| 0.0|            W|      2.5|Wanshouxigong|\n",
      "|2015|    2|  8|  16| 28.0|null|25.0| 500.0|67.0| 2.0|1024.0|             -24.5| 0.0|           SW|      2.2|Wanshouxigong|\n",
      "|2015|    2|  8|  17| 38.0|null|39.0| 700.0|56.0| 1.0|1028.0|             -25.3| 0.0|          SSW|      1.7|Wanshouxigong|\n",
      "|2015|    2|  8|  18| 44.0|null|44.0| 800.0|52.0| 0.0|1024.0|             -23.6| 0.0|           SW|      2.4|Wanshouxigong|\n",
      "|2015|    2|  8|  19| 60.0|null|62.0|1100.0|34.0|-1.0|1025.0|             -23.0| 0.0|            S|      1.9|Wanshouxigong|\n",
      "+----+-----+---+----+-----+----+----+------+----+----+------+------------------+----+-------------+---------+-------------+\n",
      "only showing top 20 rows\n",
      "\n"
     ]
    }
   ],
   "source": [
    "rename_df.where(reduce(lambda x, y: x | y, (f.col(x).isNull() for x in rename_df.columns))).show()"
   ]
  },
  {
   "cell_type": "code",
   "execution_count": 54,
   "metadata": {},
   "outputs": [],
   "source": [
    "def drop_null_columns(df):\n",
    "    \"\"\"\n",
    "    This function drops all columns which contain null values.\n",
    "    :param df: A PySpark DataFrame\n",
    "    \"\"\"\n",
    "    null_counts = df.select([F.count(F.when(F.col(c).isNull(), c)).alias(c) for c in df.columns]).collect()[0].asDict()\n",
    "    to_drop = [k for k, v in null_counts.items() if v > 0]\n",
    "    df = df.drop(*to_drop)\n",
    "    return df"
   ]
  },
  {
   "cell_type": "code",
   "execution_count": 56,
   "metadata": {},
   "outputs": [
    {
     "data": {
      "text/plain": [
       "18960"
      ]
     },
     "execution_count": 56,
     "metadata": {},
     "output_type": "execute_result"
    }
   ],
   "source": [
    "drop_null_columns(rename_df).count()"
   ]
  },
  {
   "cell_type": "code",
   "execution_count": 59,
   "metadata": {},
   "outputs": [],
   "source": [
    "new = rename_df.na.drop()"
   ]
  },
  {
   "cell_type": "code",
   "execution_count": 61,
   "metadata": {},
   "outputs": [
    {
     "name": "stdout",
     "output_type": "stream",
     "text": [
      "+----+-----+---+----+----+---+---+---+---+----+----+------------------+----+-------------+---------+-------+\n",
      "|year|month|day|hour|PM25|SO2|NO2| CO| O3|TEMP|PRES|DewPointTempeature|RAIN|WindDirection|WindSpend|station|\n",
      "+----+-----+---+----+----+---+---+---+---+----+----+------------------+----+-------------+---------+-------+\n",
      "+----+-----+---+----+----+---+---+---+---+----+----+------------------+----+-------------+---------+-------+\n",
      "\n"
     ]
    }
   ],
   "source": [
    "new.where(reduce(lambda x, y: x | y, (f.col(x).isNull() for x in new.columns)))"
   ]
  },
  {
   "cell_type": "code",
   "execution_count": 77,
   "metadata": {},
   "outputs": [],
   "source": [
    "udfsomefunc = F.udf(somefunc, StringType())\n",
    "ratings_with_high_low = new.withColumn(\"NationalQuanlityRemark\", udfsomefunc(\"PM25\"))"
   ]
  },
  {
   "cell_type": "code",
   "execution_count": 78,
   "metadata": {},
   "outputs": [
    {
     "name": "stdout",
     "output_type": "stream",
     "text": [
      "+----+-----+---+----+----+----+-----+------+----+----+------+------------------+----+-------------+---------+-------------+----------------------+\n",
      "|year|month|day|hour|PM25| SO2|  NO2|    CO|  O3|TEMP|  PRES|DewPointTempeature|RAIN|WindDirection|WindSpend|      station|NationalQuanlityRemark|\n",
      "+----+-----+---+----+----+----+-----+------+----+----+------+------------------+----+-------------+---------+-------------+----------------------+\n",
      "|2015|    1|  1|   0| 3.0|10.0| 16.0| 400.0|54.0|-1.0|1027.0|             -23.0| 0.0|           NW|      0.9|Wanshouxigong|                  high|\n",
      "|2015|    1|  1|   1| 3.0|11.0| 17.0| 400.0|53.0| 0.0|1025.0|             -22.9| 0.0|           NW|      2.7|Wanshouxigong|                  high|\n",
      "|2015|    1|  1|   2| 3.0|10.0| 15.0| 400.0|55.0| 0.0|1027.0|             -22.9| 0.0|           NW|      2.4|Wanshouxigong|                  high|\n",
      "|2015|    1|  1|   3| 4.0|13.0| 13.0| 400.0|57.0| 0.0|1028.0|             -24.4| 0.0|           NW|      2.4|Wanshouxigong|                  high|\n",
      "|2015|    1|  1|   4| 4.0|15.0| 12.0| 400.0|58.0| 0.0|1030.0|             -24.4| 0.0|           NW|      2.4|Wanshouxigong|                  high|\n",
      "|2015|    1|  1|   5| 3.0|13.0| 15.0| 500.0|55.0|-1.0|1024.0|             -24.4| 0.0|          WNW|      3.2|Wanshouxigong|                  high|\n",
      "|2015|    1|  1|   6| 3.0|10.0| 30.0| 500.0|39.0|-4.0|1029.0|             -24.3| 0.0|            W|      0.9|Wanshouxigong|                  high|\n",
      "|2015|    1|  1|   7| 3.0|10.0| 41.0| 600.0|30.0|-2.0|1029.0|             -23.9| 0.0|          WNW|      4.2|Wanshouxigong|                  high|\n",
      "|2015|    1|  1|   8| 7.0|10.0| 55.0| 600.0|16.0|-2.0|1027.0|             -23.9| 0.0|          WNW|      1.9|Wanshouxigong|                  high|\n",
      "|2015|    1|  1|   9| 7.0|11.0| 56.0| 600.0|17.0|-1.0|1026.0|             -23.0| 0.0|          SSW|      1.5|Wanshouxigong|                  high|\n",
      "|2015|    1|  1|  10| 6.0|15.0| 56.0| 900.0|21.0| 0.0|1025.0|             -22.9| 0.0|           SW|      2.1|Wanshouxigong|                  high|\n",
      "|2015|    1|  1|  11|18.0|26.0| 64.0|1300.0|23.0| 1.0|1029.0|             -22.8| 0.0|           SW|      1.4|Wanshouxigong|                  high|\n",
      "|2015|    1|  1|  12|50.0|42.0| 76.0|1700.0|27.0| 1.0|1025.0|             -22.8| 0.0|           SW|      2.5|Wanshouxigong|                  high|\n",
      "|2015|    1|  1|  13|57.0|37.0| 70.0|1500.0|37.0| 2.0|1025.0|             -22.8| 0.0|          SSW|      1.8|Wanshouxigong|                  high|\n",
      "|2015|    1|  1|  14|50.0|29.0| 59.0|1300.0|49.0| 3.0|1022.0|             -22.8| 0.0|           SW|      2.0|Wanshouxigong|                  high|\n",
      "|2015|    1|  1|  15|35.0|18.0| 33.0| 900.0|64.0| 3.0|1020.0|             -22.8| 0.0|           SW|      2.4|Wanshouxigong|                  high|\n",
      "|2015|    1|  1|  16|36.0|19.0| 39.0|1000.0|60.0| 3.0|1020.0|             -22.0| 0.0|           SW|      2.7|Wanshouxigong|                  high|\n",
      "|2015|    1|  1|  17|38.0|23.0| 58.0|1300.0|46.0| 1.0|1021.0|             -22.1| 0.0|           SW|      1.1|Wanshouxigong|                  high|\n",
      "|2015|    1|  1|  18|67.0|35.0| 89.0|1800.0|25.0|-1.0|1017.0|             -20.1| 0.0|          SSW|      1.2|Wanshouxigong|                  high|\n",
      "|2015|    1|  1|  19|76.0|43.0|106.0|2000.0|11.0|-2.0|1021.0|             -19.9| 0.0|            W|      1.1|Wanshouxigong|                  high|\n",
      "+----+-----+---+----+----+----+-----+------+----+----+------+------------------+----+-------------+---------+-------------+----------------------+\n",
      "only showing top 20 rows\n",
      "\n"
     ]
    }
   ],
   "source": [
    "ratings_with_high_low.show()"
   ]
  },
  {
   "cell_type": "code",
   "execution_count": null,
   "metadata": {},
   "outputs": [],
   "source": []
  }
 ],
 "metadata": {
  "kernelspec": {
   "display_name": "Python 3",
   "language": "python",
   "name": "python3"
  },
  "language_info": {
   "codemirror_mode": {
    "name": "ipython",
    "version": 3
   },
   "file_extension": ".py",
   "mimetype": "text/x-python",
   "name": "python",
   "nbconvert_exporter": "python",
   "pygments_lexer": "ipython3",
   "version": "3.5.2"
  }
 },
 "nbformat": 4,
 "nbformat_minor": 2
}
