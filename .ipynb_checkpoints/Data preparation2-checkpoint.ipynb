{
 "cells": [
  {
   "cell_type": "code",
   "execution_count": null,
   "metadata": {},
   "outputs": [],
   "source": [
    "# Must be included at the beginning of each new notebook. Remember to change the app name.\n",
    "import findspark\n",
    "findspark.init('/home/ubuntu/spark-2.1.1-bin-hadoop2.7')\n",
    "import pyspark\n",
    "from pyspark.sql import SparkSession\n",
    "spark = SparkSession.builder.appName('BDAS').getOrCreate()"
   ]
  },
  {
   "cell_type": "code",
   "execution_count": null,
   "metadata": {},
   "outputs": [],
   "source": [
    "df = spark.read.csv('../DataSet/PRSA_Data_Aotizhongxin_20130301-20170228.csv', header=True, inferSchema=True)\n"
   ]
  },
  {
   "cell_type": "code",
   "execution_count": 19,
   "metadata": {},
   "outputs": [
    {
     "name": "stdout",
     "output_type": "stream",
     "text": [
      "+---+----+-----+---+----+-----+----+---+---+---+---+----+------+-----+----+---+----+------------+\n",
      "| No|year|month|day|hour|PM2.5|PM10|SO2|NO2| CO| O3|TEMP|  PRES| DEWP|RAIN| wd|WSPM|     station|\n",
      "+---+----+-----+---+----+-----+----+---+---+---+---+----+------+-----+----+---+----+------------+\n",
      "|  1|2013|    3|  1|   0|    4|   4|  4|  7|300| 77|-0.7|  1023|-18.8|   0|NNW| 4.4|Aotizhongxin|\n",
      "|  2|2013|    3|  1|   1|    8|   8|  4|  7|300| 77|-1.1|1023.2|-18.2|   0|  N| 4.7|Aotizhongxin|\n",
      "|  3|2013|    3|  1|   2|    7|   7|  5| 10|300| 73|-1.1|1023.5|-18.2|   0|NNW| 5.6|Aotizhongxin|\n",
      "|  4|2013|    3|  1|   3|    6|   6| 11| 11|300| 72|-1.4|1024.5|-19.4|   0| NW| 3.1|Aotizhongxin|\n",
      "|  5|2013|    3|  1|   4|    3|   3| 12| 12|300| 72|  -2|1025.2|-19.5|   0|  N|   2|Aotizhongxin|\n",
      "|  6|2013|    3|  1|   5|    5|   5| 18| 18|400| 66|-2.2|1025.6|-19.6|   0|  N| 3.7|Aotizhongxin|\n",
      "|  7|2013|    3|  1|   6|    3|   3| 18| 32|500| 50|-2.6|1026.5|-19.1|   0|NNE| 2.5|Aotizhongxin|\n",
      "|  8|2013|    3|  1|   7|    3|   6| 19| 41|500| 43|-1.6|1027.4|-19.1|   0|NNW| 3.8|Aotizhongxin|\n",
      "|  9|2013|    3|  1|   8|    3|   6| 16| 43|500| 45| 0.1|1028.3|-19.2|   0|NNW| 4.1|Aotizhongxin|\n",
      "| 10|2013|    3|  1|   9|    3|   8| 12| 28|400| 59| 1.2|1028.5|-19.3|   0|  N| 2.6|Aotizhongxin|\n",
      "| 11|2013|    3|  1|  10|    3|   6|  9| 12|400| 72| 1.9|1028.2|-19.4|   0|NNW| 3.6|Aotizhongxin|\n",
      "| 12|2013|    3|  1|  11|    3|   6|  9| 14|400| 71| 2.9|1028.2|-20.5|   0|  N| 3.7|Aotizhongxin|\n",
      "| 13|2013|    3|  1|  12|    3|   6|  7| 13|300| 74| 3.9|1027.3|-19.7|   0|NNW| 5.1|Aotizhongxin|\n",
      "| 14|2013|    3|  1|  13|    3|   6|  7| 12|400| 76| 5.3|1026.2|-19.3|   0| NW| 4.3|Aotizhongxin|\n",
      "| 15|2013|    3|  1|  14|    6|   9|  7| 11|400| 77|   6|1025.9|-19.6|   0| NW| 4.4|Aotizhongxin|\n",
      "| 16|2013|    3|  1|  15|    8|  15|  7| 14|400| 76| 6.2|1025.7|-18.6|   0|NNE| 2.8|Aotizhongxin|\n",
      "| 17|2013|    3|  1|  16|    9|  19|  9| 13|400| 76| 5.9|1025.6|-18.1|   0|NNW| 3.9|Aotizhongxin|\n",
      "| 18|2013|    3|  1|  17|   10|  23| 11| 15|400| 74| 4.3|1026.3|-18.7|   0|NNE| 2.8|Aotizhongxin|\n",
      "| 19|2013|    3|  1|  18|   11|  20|  8| 20|500| 70| 3.1|1027.4|-18.4|   0|NNE| 2.1|Aotizhongxin|\n",
      "| 20|2013|    3|  1|  19|    8|  14| 12| 30|500| 60| 2.3|1028.3|-18.4|   0|  N| 2.8|Aotizhongxin|\n",
      "+---+----+-----+---+----+-----+----+---+---+---+---+----+------+-----+----+---+----+------------+\n",
      "only showing top 20 rows\n",
      "\n"
     ]
    },
    {
     "data": {
      "text/plain": [
       "35064"
      ]
     },
     "execution_count": 19,
     "metadata": {},
     "output_type": "execute_result"
    }
   ],
   "source": [
    "#Visualise DataFrame\n",
    "df.show()\n",
    "df.count()"
   ]
  },
  {
   "cell_type": "code",
   "execution_count": 18,
   "metadata": {},
   "outputs": [
    {
     "name": "stdout",
     "output_type": "stream",
     "text": [
      "+-----+----+-----+---+----+-----+----+---+---+----+---+----+----+-----+----+---+----+------------+\n",
      "|   No|year|month|day|hour|PM2.5|PM10|SO2|NO2|  CO| O3|TEMP|PRES| DEWP|RAIN| wd|WSPM|     station|\n",
      "+-----+----+-----+---+----+-----+----+---+---+----+---+----+----+-----+----+---+----+------------+\n",
      "|16105|2015|    1|  1|   0|   13|  50| 19| 29| 500| 28|  -1|1027|-22.4|   0|NNW| 4.4|Aotizhongxin|\n",
      "|16106|2015|    1|  1|   1|   11|  30| 15| 31| 600| 27|  -1|1027|-23.7|   0|  N| 5.6|Aotizhongxin|\n",
      "|16107|2015|    1|  1|   2|   13|  33| 16| 32| 600| 26|  -1|1028|-23.7|   0|  N| 4.2|Aotizhongxin|\n",
      "|16108|2015|    1|  1|   3|   10|  29| 10| 25| 500| 31|  -1|1029|-24.4|   0|  N| 4.4|Aotizhongxin|\n",
      "|16109|2015|    1|  1|   4|   12|  25| 14| 33| 700| 24|  -2|1027|-23.2|   0|ENE| 1.4|Aotizhongxin|\n",
      "|16110|2015|    1|  1|   5|   12|  24| 10| 34| 600| 23|  -5|1030|-23.5|   0|  N| 1.1|Aotizhongxin|\n",
      "|16111|2015|    1|  1|   6|    6|  18|  4| 19| 500| 34|  -6|1029|-23.8|   0| NE| 1.6|Aotizhongxin|\n",
      "|16112|2015|    1|  1|   7|   11|  22|  7| 25| 500| 28|  -7|1030|-24.2|   0| NE|   2|Aotizhongxin|\n",
      "|16113|2015|    1|  1|   8|   12|  20| 11| 49| 600| 10|  -6|1028|-23.8|   0|  E| 0.9|Aotizhongxin|\n",
      "|16114|2015|    1|  1|   9|   12|  20| 11| 50|  NA| 11|  -5|1026|-23.5|   0|ENE| 1.7|Aotizhongxin|\n",
      "|16115|2015|    1|  1|  10|   15|  21| 19| 29| 600| 29|  -1|1029|  -23|   0|ENE| 1.1|Aotizhongxin|\n",
      "|16116|2015|    1|  1|  11|   11|  20| 17| 25| 600| 34|   1|1026|-23.6|   0| SW| 2.1|Aotizhongxin|\n",
      "|16117|2015|    1|  1|  12|   25|  40| 20| 50| 900| 20|   1|1022|-23.6|   0|WSW| 2.9|Aotizhongxin|\n",
      "|16118|2015|    1|  1|  13|   44|  72| 26| 52|1100| 31|   2|1021|-23.6|   0|SSW| 2.6|Aotizhongxin|\n",
      "|16119|2015|    1|  1|  14|   51|  80| 25| 45|1100| 41|   3|1024|-22.8|   0|  W| 2.5|Aotizhongxin|\n",
      "|16120|2015|    1|  1|  15|   51|  80| 19| 40|1000| 48|   3|1023|-23.7|   0| SW| 3.7|Aotizhongxin|\n",
      "|16121|2015|    1|  1|  16|   41|  66| 15| 33| 800| 50|   2|1019|-23.6|   0| SW| 2.8|Aotizhongxin|\n",
      "|16122|2015|    1|  1|  17|   47| 105| 19| 41| 900| 43|   1|1019|-22.8|   0| SW| 2.4|Aotizhongxin|\n",
      "|16123|2015|    1|  1|  18|   65| 109| 27| 57|1200| 30|  -1|1021|-21.2|   0| SW| 1.4|Aotizhongxin|\n",
      "|16124|2015|    1|  1|  19|   88| 116| 36| 87|1400|  4|  -4|1020|-18.3|   0|WNW|   1|Aotizhongxin|\n",
      "+-----+----+-----+---+----+-----+----+---+---+----+---+----+----+-----+----+---+----+------------+\n",
      "only showing top 20 rows\n",
      "\n"
     ]
    },
    {
     "data": {
      "text/plain": [
       "18960"
      ]
     },
     "execution_count": 18,
     "metadata": {},
     "output_type": "execute_result"
    }
   ],
   "source": [
    "#Selecting items(rows): year between 2015-2017\n",
    "df.createOrReplaceTempView('dataset')\n",
    "results = spark.sql(\"SELECT * FROM dataset WHERE year > 2014\")\n",
    "results.show()\n",
    "results.count()\n"
   ]
  },
  {
   "cell_type": "code",
   "execution_count": 29,
   "metadata": {},
   "outputs": [
    {
     "name": "stdout",
     "output_type": "stream",
     "text": [
      "+---+----+-----+---+----+-----+----+---+---+---+---+----+------+-----+----+---+----+------------+\n",
      "| No|year|month|day|hour|PM2.5|PM10|SO2|NO2| CO| O3|TEMP|  PRES| DEWP|RAIN| wd|WSPM|     station|\n",
      "+---+----+-----+---+----+-----+----+---+---+---+---+----+------+-----+----+---+----+------------+\n",
      "|  1|2013|    3|  1|   0|    4|   4|  4|  7|300| 77|-0.7|  1023|-18.8|   0|NNW| 4.4|Aotizhongxin|\n",
      "|  2|2013|    3|  1|   1|    8|   8|  4|  7|300| 77|-1.1|1023.2|-18.2|   0|  N| 4.7|Aotizhongxin|\n",
      "|  3|2013|    3|  1|   2|    7|   7|  5| 10|300| 73|-1.1|1023.5|-18.2|   0|NNW| 5.6|Aotizhongxin|\n",
      "|  4|2013|    3|  1|   3|    6|   6| 11| 11|300| 72|-1.4|1024.5|-19.4|   0| NW| 3.1|Aotizhongxin|\n",
      "|  5|2013|    3|  1|   4|    3|   3| 12| 12|300| 72|  -2|1025.2|-19.5|   0|  N|   2|Aotizhongxin|\n",
      "|  6|2013|    3|  1|   5|    5|   5| 18| 18|400| 66|-2.2|1025.6|-19.6|   0|  N| 3.7|Aotizhongxin|\n",
      "|  7|2013|    3|  1|   6|    3|   3| 18| 32|500| 50|-2.6|1026.5|-19.1|   0|NNE| 2.5|Aotizhongxin|\n",
      "|  8|2013|    3|  1|   7|    3|   6| 19| 41|500| 43|-1.6|1027.4|-19.1|   0|NNW| 3.8|Aotizhongxin|\n",
      "|  9|2013|    3|  1|   8|    3|   6| 16| 43|500| 45| 0.1|1028.3|-19.2|   0|NNW| 4.1|Aotizhongxin|\n",
      "| 10|2013|    3|  1|   9|    3|   8| 12| 28|400| 59| 1.2|1028.5|-19.3|   0|  N| 2.6|Aotizhongxin|\n",
      "| 11|2013|    3|  1|  10|    3|   6|  9| 12|400| 72| 1.9|1028.2|-19.4|   0|NNW| 3.6|Aotizhongxin|\n",
      "| 12|2013|    3|  1|  11|    3|   6|  9| 14|400| 71| 2.9|1028.2|-20.5|   0|  N| 3.7|Aotizhongxin|\n",
      "| 13|2013|    3|  1|  12|    3|   6|  7| 13|300| 74| 3.9|1027.3|-19.7|   0|NNW| 5.1|Aotizhongxin|\n",
      "| 14|2013|    3|  1|  13|    3|   6|  7| 12|400| 76| 5.3|1026.2|-19.3|   0| NW| 4.3|Aotizhongxin|\n",
      "| 15|2013|    3|  1|  14|    6|   9|  7| 11|400| 77|   6|1025.9|-19.6|   0| NW| 4.4|Aotizhongxin|\n",
      "| 16|2013|    3|  1|  15|    8|  15|  7| 14|400| 76| 6.2|1025.7|-18.6|   0|NNE| 2.8|Aotizhongxin|\n",
      "| 17|2013|    3|  1|  16|    9|  19|  9| 13|400| 76| 5.9|1025.6|-18.1|   0|NNW| 3.9|Aotizhongxin|\n",
      "| 18|2013|    3|  1|  17|   10|  23| 11| 15|400| 74| 4.3|1026.3|-18.7|   0|NNE| 2.8|Aotizhongxin|\n",
      "| 19|2013|    3|  1|  18|   11|  20|  8| 20|500| 70| 3.1|1027.4|-18.4|   0|NNE| 2.1|Aotizhongxin|\n",
      "| 20|2013|    3|  1|  19|    8|  14| 12| 30|500| 60| 2.3|1028.3|-18.4|   0|  N| 2.8|Aotizhongxin|\n",
      "+---+----+-----+---+----+-----+----+---+---+---+---+----+------+-----+----+---+----+------------+\n",
      "only showing top 20 rows\n",
      "\n"
     ]
    },
    {
     "data": {
      "text/plain": [
       "100"
      ]
     },
     "execution_count": 29,
     "metadata": {},
     "output_type": "execute_result"
    }
   ],
   "source": [
    "#Example for subset of  dataset with 100 rows\n",
    "new_results = spark.sql(\"SELECT * FROM dataset  limit 100\")\n",
    "new_results.show()\n",
    "new_results.count()"
   ]
  },
  {
   "cell_type": "code",
   "execution_count": 44,
   "metadata": {},
   "outputs": [
    {
     "name": "stdout",
     "output_type": "stream",
     "text": [
      "+-----+----+-----+---+----+-----+----+---+---+----+---+----+----+-----+----+---+----+------------+\n",
      "|   No|year|month|day|hour|PM2.5|PM10|SO2|NO2|  CO| O3|TEMP|PRES| DEWP|RAIN| wd|WSPM|     station|\n",
      "+-----+----+-----+---+----+-----+----+---+---+----+---+----+----+-----+----+---+----+------------+\n",
      "|16105|2015|    1|  1|   0|   13|  50| 19| 29| 500| 28|  -1|1027|-22.4|   0|NNW| 4.4|Aotizhongxin|\n",
      "|16106|2015|    1|  1|   1|   11|  30| 15| 31| 600| 27|  -1|1027|-23.7|   0|  N| 5.6|Aotizhongxin|\n",
      "|16107|2015|    1|  1|   2|   13|  33| 16| 32| 600| 26|  -1|1028|-23.7|   0|  N| 4.2|Aotizhongxin|\n",
      "|16108|2015|    1|  1|   3|   10|  29| 10| 25| 500| 31|  -1|1029|-24.4|   0|  N| 4.4|Aotizhongxin|\n",
      "|16109|2015|    1|  1|   4|   12|  25| 14| 33| 700| 24|  -2|1027|-23.2|   0|ENE| 1.4|Aotizhongxin|\n",
      "|16110|2015|    1|  1|   5|   12|  24| 10| 34| 600| 23|  -5|1030|-23.5|   0|  N| 1.1|Aotizhongxin|\n",
      "|16111|2015|    1|  1|   6|    6|  18|  4| 19| 500| 34|  -6|1029|-23.8|   0| NE| 1.6|Aotizhongxin|\n",
      "|16112|2015|    1|  1|   7|   11|  22|  7| 25| 500| 28|  -7|1030|-24.2|   0| NE|   2|Aotizhongxin|\n",
      "|16113|2015|    1|  1|   8|   12|  20| 11| 49| 600| 10|  -6|1028|-23.8|   0|  E| 0.9|Aotizhongxin|\n",
      "|16114|2015|    1|  1|   9|   12|  20| 11| 50|  NA| 11|  -5|1026|-23.5|   0|ENE| 1.7|Aotizhongxin|\n",
      "|16115|2015|    1|  1|  10|   15|  21| 19| 29| 600| 29|  -1|1029|  -23|   0|ENE| 1.1|Aotizhongxin|\n",
      "|16116|2015|    1|  1|  11|   11|  20| 17| 25| 600| 34|   1|1026|-23.6|   0| SW| 2.1|Aotizhongxin|\n",
      "|16117|2015|    1|  1|  12|   25|  40| 20| 50| 900| 20|   1|1022|-23.6|   0|WSW| 2.9|Aotizhongxin|\n",
      "|16118|2015|    1|  1|  13|   44|  72| 26| 52|1100| 31|   2|1021|-23.6|   0|SSW| 2.6|Aotizhongxin|\n",
      "|16119|2015|    1|  1|  14|   51|  80| 25| 45|1100| 41|   3|1024|-22.8|   0|  W| 2.5|Aotizhongxin|\n",
      "|16120|2015|    1|  1|  15|   51|  80| 19| 40|1000| 48|   3|1023|-23.7|   0| SW| 3.7|Aotizhongxin|\n",
      "|16121|2015|    1|  1|  16|   41|  66| 15| 33| 800| 50|   2|1019|-23.6|   0| SW| 2.8|Aotizhongxin|\n",
      "|16122|2015|    1|  1|  17|   47| 105| 19| 41| 900| 43|   1|1019|-22.8|   0| SW| 2.4|Aotizhongxin|\n",
      "|16123|2015|    1|  1|  18|   65| 109| 27| 57|1200| 30|  -1|1021|-21.2|   0| SW| 1.4|Aotizhongxin|\n",
      "|16124|2015|    1|  1|  19|   88| 116| 36| 87|1400|  4|  -4|1020|-18.3|   0|WNW|   1|Aotizhongxin|\n",
      "+-----+----+-----+---+----+-----+----+---+---+----+---+----+----+-----+----+---+----+------------+\n",
      "only showing top 20 rows\n",
      "\n",
      "['No', 'year', 'month', 'day', 'hour', 'PM2.5', 'PM10', 'SO2', 'NO2', 'CO', 'O3', 'TEMP', 'PRES', 'DEWP', 'RAIN', 'wd', 'WSPM', 'station']\n",
      "Number of columns:  18\n"
     ]
    }
   ],
   "source": [
    "# check number of columns\n",
    "results.show()\n",
    "print(results.columns)\n",
    "print(\"Number of columns: \",len(results.columns))"
   ]
  },
  {
   "cell_type": "code",
   "execution_count": 45,
   "metadata": {},
   "outputs": [
    {
     "name": "stdout",
     "output_type": "stream",
     "text": [
      "+----+-----+---+----+-----+---+---+----+---+----+----+-----+----+---+----+------------+\n",
      "|year|month|day|hour|PM2.5|SO2|NO2|  CO| O3|TEMP|PRES| DEWP|RAIN| wd|WSPM|     station|\n",
      "+----+-----+---+----+-----+---+---+----+---+----+----+-----+----+---+----+------------+\n",
      "|2015|    1|  1|   0|   13| 19| 29| 500| 28|  -1|1027|-22.4|   0|NNW| 4.4|Aotizhongxin|\n",
      "|2015|    1|  1|   1|   11| 15| 31| 600| 27|  -1|1027|-23.7|   0|  N| 5.6|Aotizhongxin|\n",
      "|2015|    1|  1|   2|   13| 16| 32| 600| 26|  -1|1028|-23.7|   0|  N| 4.2|Aotizhongxin|\n",
      "|2015|    1|  1|   3|   10| 10| 25| 500| 31|  -1|1029|-24.4|   0|  N| 4.4|Aotizhongxin|\n",
      "|2015|    1|  1|   4|   12| 14| 33| 700| 24|  -2|1027|-23.2|   0|ENE| 1.4|Aotizhongxin|\n",
      "|2015|    1|  1|   5|   12| 10| 34| 600| 23|  -5|1030|-23.5|   0|  N| 1.1|Aotizhongxin|\n",
      "|2015|    1|  1|   6|    6|  4| 19| 500| 34|  -6|1029|-23.8|   0| NE| 1.6|Aotizhongxin|\n",
      "|2015|    1|  1|   7|   11|  7| 25| 500| 28|  -7|1030|-24.2|   0| NE|   2|Aotizhongxin|\n",
      "|2015|    1|  1|   8|   12| 11| 49| 600| 10|  -6|1028|-23.8|   0|  E| 0.9|Aotizhongxin|\n",
      "|2015|    1|  1|   9|   12| 11| 50|  NA| 11|  -5|1026|-23.5|   0|ENE| 1.7|Aotizhongxin|\n",
      "|2015|    1|  1|  10|   15| 19| 29| 600| 29|  -1|1029|  -23|   0|ENE| 1.1|Aotizhongxin|\n",
      "|2015|    1|  1|  11|   11| 17| 25| 600| 34|   1|1026|-23.6|   0| SW| 2.1|Aotizhongxin|\n",
      "|2015|    1|  1|  12|   25| 20| 50| 900| 20|   1|1022|-23.6|   0|WSW| 2.9|Aotizhongxin|\n",
      "|2015|    1|  1|  13|   44| 26| 52|1100| 31|   2|1021|-23.6|   0|SSW| 2.6|Aotizhongxin|\n",
      "|2015|    1|  1|  14|   51| 25| 45|1100| 41|   3|1024|-22.8|   0|  W| 2.5|Aotizhongxin|\n",
      "|2015|    1|  1|  15|   51| 19| 40|1000| 48|   3|1023|-23.7|   0| SW| 3.7|Aotizhongxin|\n",
      "|2015|    1|  1|  16|   41| 15| 33| 800| 50|   2|1019|-23.6|   0| SW| 2.8|Aotizhongxin|\n",
      "|2015|    1|  1|  17|   47| 19| 41| 900| 43|   1|1019|-22.8|   0| SW| 2.4|Aotizhongxin|\n",
      "|2015|    1|  1|  18|   65| 27| 57|1200| 30|  -1|1021|-21.2|   0| SW| 1.4|Aotizhongxin|\n",
      "|2015|    1|  1|  19|   88| 36| 87|1400|  4|  -4|1020|-18.3|   0|WNW|   1|Aotizhongxin|\n",
      "+----+-----+---+----+-----+---+---+----+---+----+----+-----+----+---+----+------------+\n",
      "only showing top 20 rows\n",
      "\n",
      "['year', 'month', 'day', 'hour', 'PM2.5', 'SO2', 'NO2', 'CO', 'O3', 'TEMP', 'PRES', 'DEWP', 'RAIN', 'wd', 'WSPM', 'station']\n",
      "Number of columns:  16\n"
     ]
    }
   ],
   "source": [
    "#Selecting attribute\n",
    "afterDrop = results.drop(*[\"No\",\"PM10\"])\n",
    "afterDrop.show()\n",
    "print(afterDrop.columns)\n",
    "print(\"Number of columns: \",len(afterDrop.columns))"
   ]
  },
  {
   "cell_type": "code",
   "execution_count": null,
   "metadata": {},
   "outputs": [],
   "source": []
  }
 ],
 "metadata": {
  "kernelspec": {
   "display_name": "Python 3",
   "language": "python",
   "name": "python3"
  },
  "language_info": {
   "codemirror_mode": {
    "name": "ipython",
    "version": 3
   },
   "file_extension": ".py",
   "mimetype": "text/x-python",
   "name": "python",
   "nbconvert_exporter": "python",
   "pygments_lexer": "ipython3",
   "version": "3.5.2"
  }
 },
 "nbformat": 4,
 "nbformat_minor": 2
}
