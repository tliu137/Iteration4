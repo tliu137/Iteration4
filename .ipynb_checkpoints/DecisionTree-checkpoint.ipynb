{
 "cells": [
  {
   "cell_type": "code",
   "execution_count": 1,
   "metadata": {},
   "outputs": [],
   "source": [
    "import findspark\n",
    "findspark.init('/home/ubuntu/spark-2.1.1-bin-hadoop2.7')\n",
    "import pyspark\n",
    "from pyspark.sql import SparkSession\n",
    "spark = SparkSession.builder.appName('BDAS').getOrCreate()"
   ]
  },
  {
   "cell_type": "code",
   "execution_count": 2,
   "metadata": {},
   "outputs": [],
   "source": [
    "from pyspark.sql.types import *\n",
    "schema = StructType([\n",
    "               StructField('month',IntegerType(),True),\n",
    "               StructField('SO2',FloatType(),True),\n",
    "               StructField('NO2',FloatType(),True),\n",
    "               StructField('CO',FloatType(),True),\n",
    "               StructField('O3',FloatType(),True),\n",
    "               StructField('TEMP',FloatType(),True),\n",
    "               StructField('PRES',FloatType(),True),\n",
    "               StructField('DewPointTempeature',FloatType(),True),\n",
    "               StructField('WindSpend',FloatType(),True),\n",
    "               StructField('WindDirectionIndex',DoubleType(),True),\n",
    "               StructField('stationIndex',DoubleType(),True),\n",
    "               StructField('NQRIndex',DoubleType(),True),\n",
    "               StructField('SeasonIndex',DoubleType(),True),\n",
    "                ])"
   ]
  },
  {
   "cell_type": "code",
   "execution_count": 3,
   "metadata": {},
   "outputs": [],
   "source": [
    "file = spark.read.format(\"csv\") \\\n",
    "      .option(\"header\", True) \\\n",
    "      .schema(schema) \\\n",
    "      .load(\"../final_dataset/after_feature.csv\")"
   ]
  },
  {
   "cell_type": "code",
   "execution_count": 4,
   "metadata": {},
   "outputs": [
    {
     "data": {
      "text/plain": [
       "214201"
      ]
     },
     "execution_count": 4,
     "metadata": {},
     "output_type": "execute_result"
    }
   ],
   "source": [
    "file.count()"
   ]
  },
  {
   "cell_type": "code",
   "execution_count": 5,
   "metadata": {},
   "outputs": [],
   "source": [
    "from pyspark.ml.feature import RFormula\n",
    "formula = RFormula(\n",
    "    formula=\"NQRIndex ~ .\",\n",
    "    featuresCol=\"features\",\n",
    "    labelCol=\"label\")\n",
    "\n",
    "output = formula.fit(file).transform(file)\n",
    "vectorformat2 = output.select(\"features\", \"label\")"
   ]
  },
  {
   "cell_type": "code",
   "execution_count": 6,
   "metadata": {},
   "outputs": [
    {
     "name": "stdout",
     "output_type": "stream",
     "text": [
      "+--------------------+-----+\n",
      "|            features|label|\n",
      "+--------------------+-----+\n",
      "|[1.0,10.0,16.0,40...|  0.0|\n",
      "|[1.0,11.0,17.0,40...|  0.0|\n",
      "|[1.0,10.0,15.0,40...|  0.0|\n",
      "|[1.0,13.0,13.0,40...|  0.0|\n",
      "|[1.0,15.0,12.0,40...|  0.0|\n",
      "|[1.0,13.0,15.0,50...|  0.0|\n",
      "|[1.0,10.0,30.0,50...|  0.0|\n",
      "|[1.0,10.0,41.0,60...|  0.0|\n",
      "|[1.0,10.0,55.0,60...|  0.0|\n",
      "|[1.0,11.0,56.0,60...|  0.0|\n",
      "|[1.0,15.0,56.0,90...|  0.0|\n",
      "|[1.0,26.0,64.0,13...|  0.0|\n",
      "|[1.0,42.0,76.0,17...|  0.0|\n",
      "|[1.0,37.0,70.0,15...|  1.0|\n",
      "|[1.0,29.0,59.0,13...|  0.0|\n",
      "|[1.0,18.0,33.0,90...|  0.0|\n",
      "|[1.0,19.0,39.0,10...|  0.0|\n",
      "|[1.0,23.0,58.0,13...|  0.0|\n",
      "|[1.0,35.0,89.0,18...|  1.0|\n",
      "|[1.0,43.0,106.0,2...|  1.0|\n",
      "+--------------------+-----+\n",
      "only showing top 20 rows\n",
      "\n"
     ]
    }
   ],
   "source": [
    "vectorformat2.show()"
   ]
  },
  {
   "cell_type": "code",
   "execution_count": 7,
   "metadata": {},
   "outputs": [],
   "source": [
    "(trainingData, testData) = vectorformat2.randomSplit([0.7, 0.3])"
   ]
  },
  {
   "cell_type": "code",
   "execution_count": null,
   "metadata": {},
   "outputs": [],
   "source": []
  }
 ],
 "metadata": {
  "kernelspec": {
   "display_name": "Python 3",
   "language": "python",
   "name": "python3"
  },
  "language_info": {
   "codemirror_mode": {
    "name": "ipython",
    "version": 3
   },
   "file_extension": ".py",
   "mimetype": "text/x-python",
   "name": "python",
   "nbconvert_exporter": "python",
   "pygments_lexer": "ipython3",
   "version": "3.5.2"
  }
 },
 "nbformat": 4,
 "nbformat_minor": 2
}
