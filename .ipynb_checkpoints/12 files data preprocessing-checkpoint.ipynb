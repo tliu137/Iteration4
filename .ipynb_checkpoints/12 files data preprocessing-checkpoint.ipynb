{
 "cells": [
  {
   "cell_type": "code",
   "execution_count": 2,
   "metadata": {},
   "outputs": [],
   "source": [
    "# Must be included at the beginning of each new notebook. Remember to change the app name.\n",
    "import findspark\n",
    "findspark.init('/home/ubuntu/spark-2.1.1-bin-hadoop2.7')\n",
    "import pyspark\n",
    "from pyspark.sql import SparkSession\n",
    "spark = SparkSession.builder.appName('BDAS').getOrCreate()"
   ]
  },
  {
   "cell_type": "code",
   "execution_count": 24,
   "metadata": {},
   "outputs": [],
   "source": [
    "mutiplefile = spark.read.format(\"csv\") \\\n",
    "      .option(\"header\", True) \\\n",
    "      .load(\"../DataSet/*.csv\")\n"
   ]
  },
  {
   "cell_type": "code",
   "execution_count": 25,
   "metadata": {},
   "outputs": [
    {
     "name": "stdout",
     "output_type": "stream",
     "text": [
      "+---+----+-----+---+----+-----+----+---+---+---+---+----+------+-----+----+---+----+-------------+\n",
      "| No|year|month|day|hour|PM2.5|PM10|SO2|NO2| CO| O3|TEMP|  PRES| DEWP|RAIN| wd|WSPM|      station|\n",
      "+---+----+-----+---+----+-----+----+---+---+---+---+----+------+-----+----+---+----+-------------+\n",
      "|  1|2013|    3|  1|   0|    9|   9|  6| 17|200| 62| 0.3|1021.9|  -19|   0|WNW|   2|Wanshouxigong|\n",
      "|  2|2013|    3|  1|   1|   11|  11|  7| 14|200| 66|-0.1|1022.4|-19.3|   0|WNW| 4.4|Wanshouxigong|\n",
      "|  3|2013|    3|  1|   2|    8|   8| NA| 16|200| 59|-0.6|1022.6|-19.7|   0|WNW| 4.7|Wanshouxigong|\n",
      "|  4|2013|    3|  1|   3|    8|   8|  3| 16| NA| NA|-0.7|1023.5|-20.9|   0| NW| 2.6|Wanshouxigong|\n",
      "|  5|2013|    3|  1|   4|    8|   8|  3| NA|300| 36|-0.9|1024.1|-21.7|   0|WNW| 2.5|Wanshouxigong|\n",
      "|  6|2013|    3|  1|   5|   10|  10|  4|  8|200| 64|-1.6|1024.7|-21.1|   0| NE|   2|Wanshouxigong|\n",
      "|  7|2013|    3|  1|   6|    8|   8|  6| 13|300| 61|-2.4|1025.4|-20.3|   0| NE| 2.3|Wanshouxigong|\n",
      "|  8|2013|    3|  1|   7|    8|   8|  8| 20|300| 54|-0.8|1026.7|-19.9|   0|NNE|   2|Wanshouxigong|\n",
      "|  9|2013|    3|  1|   8|    3|   6|  9| 23|300| 50| 0.4|1027.3|-19.4|   0| NE| 2.7|Wanshouxigong|\n",
      "| 10|2013|    3|  1|   9|    3|   6| 10| 18|300| 56| 1.5|1027.4|-19.7|   0|ENE| 2.9|Wanshouxigong|\n",
      "| 11|2013|    3|  1|  10|    3|   6| 11| 15|300| 61| 2.1|1027.3|-21.2|   0|NNE| 4.8|Wanshouxigong|\n",
      "| 12|2013|    3|  1|  11|    3|   6|  9| 14|300| 62| 3.1|1027.2|-21.1|   0|  N| 4.1|Wanshouxigong|\n",
      "| 13|2013|    3|  1|  12|    3|   6|  8| 10|300| 67| 4.7|1026.3|-20.6|   0|ESE| 1.6|Wanshouxigong|\n",
      "| 14|2013|    3|  1|  13|    3|   9|  7|  9|300| 70| 5.5|1025.2|  -20|   0| NE| 3.1|Wanshouxigong|\n",
      "| 15|2013|    3|  1|  14|    3|  14|  7|  8|300| 72| 6.6|1024.9|-19.9|   0| NW| 2.1|Wanshouxigong|\n",
      "| 16|2013|    3|  1|  15|   12|  14|  5|  7|200| 73| 6.1|1024.7|-19.5|   0| NE| 2.4|Wanshouxigong|\n",
      "| 17|2013|    3|  1|  16|   11|  17|  7|  9|300| 72| 5.9|1024.7|-18.8|   0|  N| 3.3|Wanshouxigong|\n",
      "| 18|2013|    3|  1|  17|   13|  18|  8| 14|300| 67| 5.3|1025.3|-19.3|   0|NNW|   2|Wanshouxigong|\n",
      "| 19|2013|    3|  1|  18|   10|  18|  9| 20|400| 58| 4.1|1026.4|-19.5|   0|NNE| 2.2|Wanshouxigong|\n",
      "| 20|2013|    3|  1|  19|   10|  16|  7| 29|500| 50| 3.2|1027.2|-18.9|   0| NE| 2.1|Wanshouxigong|\n",
      "+---+----+-----+---+----+-----+----+---+---+---+---+----+------+-----+----+---+----+-------------+\n",
      "only showing top 20 rows\n",
      "\n",
      "Size of the data: 420768\n"
     ]
    }
   ],
   "source": [
    "mutiplefile.show()\n",
    "print(\"Size of the data:\",mutiplefile.count())"
   ]
  },
  {
   "cell_type": "code",
   "execution_count": 26,
   "metadata": {},
   "outputs": [
    {
     "name": "stdout",
     "output_type": "stream",
     "text": [
      "+-----+----+-----+---+----+-----+----+---+---+----+---+----+----+-----+----+---+----+-------------+\n",
      "|   No|year|month|day|hour|PM2.5|PM10|SO2|NO2|  CO| O3|TEMP|PRES| DEWP|RAIN| wd|WSPM|      station|\n",
      "+-----+----+-----+---+----+-----+----+---+---+----+---+----+----+-----+----+---+----+-------------+\n",
      "|16105|2015|    1|  1|   0|    3|  21| 10| 16| 400| 54|  -1|1027|  -23|   0| NW| 0.9|Wanshouxigong|\n",
      "|16106|2015|    1|  1|   1|    3|  13| 11| 17| 400| 53|   0|1025|-22.9|   0| NW| 2.7|Wanshouxigong|\n",
      "|16107|2015|    1|  1|   2|    3|  13| 10| 15| 400| 55|   0|1027|-22.9|   0| NW| 2.4|Wanshouxigong|\n",
      "|16108|2015|    1|  1|   3|    4|  18| 13| 13| 400| 57|   0|1028|-24.4|   0| NW| 2.4|Wanshouxigong|\n",
      "|16109|2015|    1|  1|   4|    4|  15| 15| 12| 400| 58|   0|1030|-24.4|   0| NW| 2.4|Wanshouxigong|\n",
      "|16110|2015|    1|  1|   5|    3|  15| 13| 15| 500| 55|  -1|1024|-24.4|   0|WNW| 3.2|Wanshouxigong|\n",
      "|16111|2015|    1|  1|   6|    3|  18| 10| 30| 500| 39|  -4|1029|-24.3|   0|  W| 0.9|Wanshouxigong|\n",
      "|16112|2015|    1|  1|   7|    3|  18| 10| 41| 600| 30|  -2|1029|-23.9|   0|WNW| 4.2|Wanshouxigong|\n",
      "|16113|2015|    1|  1|   8|    7|  19| 10| 55| 600| 16|  -2|1027|-23.9|   0|WNW| 1.9|Wanshouxigong|\n",
      "|16114|2015|    1|  1|   9|    7|  20| 11| 56| 600| 17|  -1|1026|  -23|   0|SSW| 1.5|Wanshouxigong|\n",
      "|16115|2015|    1|  1|  10|    6|  18| 15| 56| 900| 21|   0|1025|-22.9|   0| SW| 2.1|Wanshouxigong|\n",
      "|16116|2015|    1|  1|  11|   18|  50| 26| 64|1300| 23|   1|1029|-22.8|   0| SW| 1.4|Wanshouxigong|\n",
      "|16117|2015|    1|  1|  12|   50| 112| 42| 76|1700| 27|   1|1025|-22.8|   0| SW| 2.5|Wanshouxigong|\n",
      "|16118|2015|    1|  1|  13|   57| 111| 37| 70|1500| 37|   2|1025|-22.8|   0|SSW| 1.8|Wanshouxigong|\n",
      "|16119|2015|    1|  1|  14|   50|  95| 29| 59|1300| 49|   3|1022|-22.8|   0| SW|   2|Wanshouxigong|\n",
      "|16120|2015|    1|  1|  15|   35|  67| 18| 33| 900| 64|   3|1020|-22.8|   0| SW| 2.4|Wanshouxigong|\n",
      "|16121|2015|    1|  1|  16|   36|  73| 19| 39|1000| 60|   3|1020|  -22|   0| SW| 2.7|Wanshouxigong|\n",
      "|16122|2015|    1|  1|  17|   38|  83| 23| 58|1300| 46|   1|1021|-22.1|   0| SW| 1.1|Wanshouxigong|\n",
      "|16123|2015|    1|  1|  18|   67| 128| 35| 89|1800| 25|  -1|1017|-20.1|   0|SSW| 1.2|Wanshouxigong|\n",
      "|16124|2015|    1|  1|  19|   76| 146| 43|106|2000| 11|  -2|1021|-19.9|   0|  W| 1.1|Wanshouxigong|\n",
      "+-----+----+-----+---+----+-----+----+---+---+----+---+----+----+-----+----+---+----+-------------+\n",
      "only showing top 20 rows\n",
      "\n"
     ]
    },
    {
     "data": {
      "text/plain": [
       "227520"
      ]
     },
     "execution_count": 26,
     "metadata": {},
     "output_type": "execute_result"
    }
   ],
   "source": [
    "mutiplefile.createOrReplaceTempView('dataset')\n",
    "results = spark.sql(\"SELECT * FROM dataset WHERE year > 2014\")\n",
    "results.show()\n",
    "results.count()"
   ]
  },
  {
   "cell_type": "code",
   "execution_count": 27,
   "metadata": {},
   "outputs": [
    {
     "name": "stdout",
     "output_type": "stream",
     "text": [
      "+-----+----+-----+---+----+----+----+---+---+----+---+----+----+------------------+----+-------------+---------+-------------+\n",
      "|   No|year|month|day|hour|PM25|PM10|SO2|NO2|  CO| O3|TEMP|PRES|DewPointTempeature|RAIN|WindDirection|WindSpend|      station|\n",
      "+-----+----+-----+---+----+----+----+---+---+----+---+----+----+------------------+----+-------------+---------+-------------+\n",
      "|16105|2015|    1|  1|   0|   3|  21| 10| 16| 400| 54|  -1|1027|               -23|   0|           NW|      0.9|Wanshouxigong|\n",
      "|16106|2015|    1|  1|   1|   3|  13| 11| 17| 400| 53|   0|1025|             -22.9|   0|           NW|      2.7|Wanshouxigong|\n",
      "|16107|2015|    1|  1|   2|   3|  13| 10| 15| 400| 55|   0|1027|             -22.9|   0|           NW|      2.4|Wanshouxigong|\n",
      "|16108|2015|    1|  1|   3|   4|  18| 13| 13| 400| 57|   0|1028|             -24.4|   0|           NW|      2.4|Wanshouxigong|\n",
      "|16109|2015|    1|  1|   4|   4|  15| 15| 12| 400| 58|   0|1030|             -24.4|   0|           NW|      2.4|Wanshouxigong|\n",
      "|16110|2015|    1|  1|   5|   3|  15| 13| 15| 500| 55|  -1|1024|             -24.4|   0|          WNW|      3.2|Wanshouxigong|\n",
      "|16111|2015|    1|  1|   6|   3|  18| 10| 30| 500| 39|  -4|1029|             -24.3|   0|            W|      0.9|Wanshouxigong|\n",
      "|16112|2015|    1|  1|   7|   3|  18| 10| 41| 600| 30|  -2|1029|             -23.9|   0|          WNW|      4.2|Wanshouxigong|\n",
      "|16113|2015|    1|  1|   8|   7|  19| 10| 55| 600| 16|  -2|1027|             -23.9|   0|          WNW|      1.9|Wanshouxigong|\n",
      "|16114|2015|    1|  1|   9|   7|  20| 11| 56| 600| 17|  -1|1026|               -23|   0|          SSW|      1.5|Wanshouxigong|\n",
      "|16115|2015|    1|  1|  10|   6|  18| 15| 56| 900| 21|   0|1025|             -22.9|   0|           SW|      2.1|Wanshouxigong|\n",
      "|16116|2015|    1|  1|  11|  18|  50| 26| 64|1300| 23|   1|1029|             -22.8|   0|           SW|      1.4|Wanshouxigong|\n",
      "|16117|2015|    1|  1|  12|  50| 112| 42| 76|1700| 27|   1|1025|             -22.8|   0|           SW|      2.5|Wanshouxigong|\n",
      "|16118|2015|    1|  1|  13|  57| 111| 37| 70|1500| 37|   2|1025|             -22.8|   0|          SSW|      1.8|Wanshouxigong|\n",
      "|16119|2015|    1|  1|  14|  50|  95| 29| 59|1300| 49|   3|1022|             -22.8|   0|           SW|        2|Wanshouxigong|\n",
      "|16120|2015|    1|  1|  15|  35|  67| 18| 33| 900| 64|   3|1020|             -22.8|   0|           SW|      2.4|Wanshouxigong|\n",
      "|16121|2015|    1|  1|  16|  36|  73| 19| 39|1000| 60|   3|1020|               -22|   0|           SW|      2.7|Wanshouxigong|\n",
      "|16122|2015|    1|  1|  17|  38|  83| 23| 58|1300| 46|   1|1021|             -22.1|   0|           SW|      1.1|Wanshouxigong|\n",
      "|16123|2015|    1|  1|  18|  67| 128| 35| 89|1800| 25|  -1|1017|             -20.1|   0|          SSW|      1.2|Wanshouxigong|\n",
      "|16124|2015|    1|  1|  19|  76| 146| 43|106|2000| 11|  -2|1021|             -19.9|   0|            W|      1.1|Wanshouxigong|\n",
      "+-----+----+-----+---+----+----+----+---+---+----+---+----+----+------------------+----+-------------+---------+-------------+\n",
      "only showing top 20 rows\n",
      "\n"
     ]
    }
   ],
   "source": [
    "df = results.withColumnRenamed(\"DEWP\",\"DewPointTempeature\") \\\n",
    "    .withColumnRenamed(\"wd\",\"WindDirection\")\\\n",
    "    .withColumnRenamed(\"WSPM\",\"WindSpend\")\\\n",
    "    .withColumnRenamed(\"PM2.5\",\"PM25\")\n",
    "df.show()"
   ]
  },
  {
   "cell_type": "code",
   "execution_count": 28,
   "metadata": {},
   "outputs": [],
   "source": [
    "from pyspark.sql.functions import col, when\n",
    "new_df = df\n",
    "for i in df.columns:\n",
    "    new_df = df.withColumn(i,when((col(i)=='NA'),None).otherwise(col(i)))\n",
    "    df = new_df"
   ]
  },
  {
   "cell_type": "code",
   "execution_count": 29,
   "metadata": {},
   "outputs": [],
   "source": [
    "deleted_np = df.na.drop()"
   ]
  },
  {
   "cell_type": "code",
   "execution_count": 31,
   "metadata": {},
   "outputs": [
    {
     "name": "stdout",
     "output_type": "stream",
     "text": [
      "+-----+----+-----+---+----+----+----+---+---+----+---+----+----+------------------+----+-------------+---------+-------------+\n",
      "|   No|year|month|day|hour|PM25|PM10|SO2|NO2|  CO| O3|TEMP|PRES|DewPointTempeature|RAIN|WindDirection|WindSpend|      station|\n",
      "+-----+----+-----+---+----+----+----+---+---+----+---+----+----+------------------+----+-------------+---------+-------------+\n",
      "|16105|2015|    1|  1|   0|   3|  21| 10| 16| 400| 54|  -1|1027|               -23|   0|           NW|      0.9|Wanshouxigong|\n",
      "|16106|2015|    1|  1|   1|   3|  13| 11| 17| 400| 53|   0|1025|             -22.9|   0|           NW|      2.7|Wanshouxigong|\n",
      "|16107|2015|    1|  1|   2|   3|  13| 10| 15| 400| 55|   0|1027|             -22.9|   0|           NW|      2.4|Wanshouxigong|\n",
      "|16108|2015|    1|  1|   3|   4|  18| 13| 13| 400| 57|   0|1028|             -24.4|   0|           NW|      2.4|Wanshouxigong|\n",
      "|16109|2015|    1|  1|   4|   4|  15| 15| 12| 400| 58|   0|1030|             -24.4|   0|           NW|      2.4|Wanshouxigong|\n",
      "|16110|2015|    1|  1|   5|   3|  15| 13| 15| 500| 55|  -1|1024|             -24.4|   0|          WNW|      3.2|Wanshouxigong|\n",
      "|16111|2015|    1|  1|   6|   3|  18| 10| 30| 500| 39|  -4|1029|             -24.3|   0|            W|      0.9|Wanshouxigong|\n",
      "|16112|2015|    1|  1|   7|   3|  18| 10| 41| 600| 30|  -2|1029|             -23.9|   0|          WNW|      4.2|Wanshouxigong|\n",
      "|16113|2015|    1|  1|   8|   7|  19| 10| 55| 600| 16|  -2|1027|             -23.9|   0|          WNW|      1.9|Wanshouxigong|\n",
      "|16114|2015|    1|  1|   9|   7|  20| 11| 56| 600| 17|  -1|1026|               -23|   0|          SSW|      1.5|Wanshouxigong|\n",
      "|16115|2015|    1|  1|  10|   6|  18| 15| 56| 900| 21|   0|1025|             -22.9|   0|           SW|      2.1|Wanshouxigong|\n",
      "|16116|2015|    1|  1|  11|  18|  50| 26| 64|1300| 23|   1|1029|             -22.8|   0|           SW|      1.4|Wanshouxigong|\n",
      "|16117|2015|    1|  1|  12|  50| 112| 42| 76|1700| 27|   1|1025|             -22.8|   0|           SW|      2.5|Wanshouxigong|\n",
      "|16118|2015|    1|  1|  13|  57| 111| 37| 70|1500| 37|   2|1025|             -22.8|   0|          SSW|      1.8|Wanshouxigong|\n",
      "|16119|2015|    1|  1|  14|  50|  95| 29| 59|1300| 49|   3|1022|             -22.8|   0|           SW|        2|Wanshouxigong|\n",
      "|16120|2015|    1|  1|  15|  35|  67| 18| 33| 900| 64|   3|1020|             -22.8|   0|           SW|      2.4|Wanshouxigong|\n",
      "|16121|2015|    1|  1|  16|  36|  73| 19| 39|1000| 60|   3|1020|               -22|   0|           SW|      2.7|Wanshouxigong|\n",
      "|16122|2015|    1|  1|  17|  38|  83| 23| 58|1300| 46|   1|1021|             -22.1|   0|           SW|      1.1|Wanshouxigong|\n",
      "|16123|2015|    1|  1|  18|  67| 128| 35| 89|1800| 25|  -1|1017|             -20.1|   0|          SSW|      1.2|Wanshouxigong|\n",
      "|16124|2015|    1|  1|  19|  76| 146| 43|106|2000| 11|  -2|1021|             -19.9|   0|            W|      1.1|Wanshouxigong|\n",
      "+-----+----+-----+---+----+----+----+---+---+----+---+----+----+------------------+----+-------------+---------+-------------+\n",
      "only showing top 20 rows\n",
      "\n"
     ]
    },
    {
     "data": {
      "text/plain": [
       "214201"
      ]
     },
     "execution_count": 31,
     "metadata": {},
     "output_type": "execute_result"
    }
   ],
   "source": [
    "deleted_np.show()\n",
    "deleted_np.count()"
   ]
  },
  {
   "cell_type": "code",
   "execution_count": null,
   "metadata": {},
   "outputs": [],
   "source": [
    "deleted_np.write.csv(\"../final_dataset/final.csv\")"
   ]
  },
  {
   "cell_type": "code",
   "execution_count": 3,
   "metadata": {},
   "outputs": [],
   "source": [
    "# create correct data schema.\n",
    "from pyspark.sql.types import *\n",
    "schema = StructType([StructField('No',IntegerType(),True),\n",
    "               StructField('year',IntegerType(),True),\n",
    "               StructField('month',IntegerType(),True),\n",
    "               StructField('day',IntegerType(),True),\n",
    "               StructField('hour',IntegerType(),True),\n",
    "               StructField('PM25',FloatType(),True),\n",
    "               StructField('PM10',FloatType(),True),\n",
    "               StructField('SO2',FloatType(),True),\n",
    "               StructField('NO2',FloatType(),True),\n",
    "               StructField('CO',FloatType(),True),\n",
    "               StructField('O3',FloatType(),True),\n",
    "               StructField('TEMP',FloatType(),True),\n",
    "               StructField('PRES',FloatType(),True),\n",
    "               StructField('DewPointTempeature',FloatType(),True),\n",
    "               StructField('RAIN',FloatType(),True),\n",
    "               StructField('WindDirection',StringType(),True),\n",
    "               StructField('WindSpend',FloatType(),True),\n",
    "               StructField('station',StringType(),True)])"
   ]
  },
  {
   "cell_type": "code",
   "execution_count": 4,
   "metadata": {},
   "outputs": [],
   "source": [
    "df_with_schema = spark.read.format(\"csv\") \\\n",
    "      .option(\"header\", True) \\\n",
    "      .schema(schema) \\\n",
    "      .load(\"../final_dataset/Summary.csv\")\n"
   ]
  },
  {
   "cell_type": "code",
   "execution_count": 5,
   "metadata": {},
   "outputs": [
    {
     "data": {
      "text/plain": [
       "214200"
      ]
     },
     "execution_count": 5,
     "metadata": {},
     "output_type": "execute_result"
    }
   ],
   "source": [
    "df_with_schema.count()"
   ]
  },
  {
   "cell_type": "code",
   "execution_count": 6,
   "metadata": {},
   "outputs": [],
   "source": [
    "from pyspark import SparkContext\n",
    "from pyspark.sql.session import SparkSession"
   ]
  },
  {
   "cell_type": "code",
   "execution_count": 7,
   "metadata": {},
   "outputs": [],
   "source": [
    "cols = ['PM25','SO2','NO2','CO','O3','TEMP','PRES','DewPointTempeature','RAIN','WindSpend']\n",
    "bounds = {}\n",
    "\n",
    "for col in cols:\n",
    "    quantiles = df_with_schema.approxQuantile(\n",
    "        col, [0.25, 0.75], 0.05\n",
    "    )\n",
    "    \n",
    "    IQR = quantiles[1] - quantiles[0]\n",
    "    \n",
    "    bounds[col] = [\n",
    "        quantiles[0] - 1.5 * IQR,\n",
    "        quantiles[1] + 1.5 * IQR\n",
    "    ]"
   ]
  },
  {
   "cell_type": "code",
   "execution_count": 8,
   "metadata": {},
   "outputs": [
    {
     "name": "stdout",
     "output_type": "stream",
     "text": [
      "+---+------+-----+-----+-----+-----+------+------+--------------------+------+-----------+\n",
      "| No|PM25_0|SO2_0|NO2_0| CO_0| O3_0|TEMP_0|PRES_0|DewPointTempeature_0|RAIN_0|WindSpend_0|\n",
      "+---+------+-----+-----+-----+-----+------+------+--------------------+------+-----------+\n",
      "|  2| false|false|false|false|false| false| false|               false| false|      false|\n",
      "|  3| false|false|false|false|false| false| false|               false| false|      false|\n",
      "|  4| false|false|false|false|false| false| false|               false| false|      false|\n",
      "|  5| false|false|false|false|false| false| false|               false| false|      false|\n",
      "|  6| false|false|false|false|false| false| false|               false| false|      false|\n",
      "|  7| false|false|false|false|false| false| false|               false| false|      false|\n",
      "|  8| false|false|false|false|false| false| false|               false| false|       true|\n",
      "|  9| false|false|false|false|false| false| false|               false| false|      false|\n",
      "| 10| false|false|false|false|false| false| false|               false| false|      false|\n",
      "| 11| false|false|false|false|false| false| false|               false| false|      false|\n",
      "| 12| false|false|false|false|false| false| false|               false| false|      false|\n",
      "| 13| false| true|false|false|false| false| false|               false| false|      false|\n",
      "| 14| false| true|false|false|false| false| false|               false| false|      false|\n",
      "| 15| false|false|false|false|false| false| false|               false| false|      false|\n",
      "| 16| false|false|false|false|false| false| false|               false| false|      false|\n",
      "| 17| false|false|false|false|false| false| false|               false| false|      false|\n",
      "| 18| false|false|false|false|false| false| false|               false| false|      false|\n",
      "| 19| false| true|false|false|false| false| false|               false| false|      false|\n",
      "| 20| false| true|false|false|false| false| false|               false| false|      false|\n",
      "| 21| false| true|false|false|false| false| false|               false| false|      false|\n",
      "+---+------+-----+-----+-----+-----+------+------+--------------------+------+-----------+\n",
      "only showing top 20 rows\n",
      "\n"
     ]
    }
   ],
   "source": [
    "outliers = df_with_schema.select(*['No'] + [\n",
    "    (\n",
    "        (df_with_schema[c] < bounds[c][0]) | (df_with_schema[c] > bounds[c][1])\n",
    "    ).alias(c + '_0') for c in cols\n",
    "])\n",
    "\n",
    "outliers.show()"
   ]
  },
  {
   "cell_type": "code",
   "execution_count": 9,
   "metadata": {},
   "outputs": [],
   "source": [
    "df_outliers = df_with_schema.join(outliers, on='No')\n"
   ]
  },
  {
   "cell_type": "code",
   "execution_count": 10,
   "metadata": {},
   "outputs": [
    {
     "name": "stdout",
     "output_type": "stream",
     "text": [
      "+---+----+-----+---+----+----+-----+----+-----+------+----+----+------+------------------+----+-------------+---------+-------------+------+-----+-----+-----+-----+------+------+--------------------+------+-----------+\n",
      "| No|year|month|day|hour|PM25| PM10| SO2|  NO2|    CO|  O3|TEMP|  PRES|DewPointTempeature|RAIN|WindDirection|WindSpend|      station|PM25_0|SO2_0|NO2_0| CO_0| O3_0|TEMP_0|PRES_0|DewPointTempeature_0|RAIN_0|WindSpend_0|\n",
      "+---+----+-----+---+----+----+-----+----+-----+------+----+----+------+------------------+----+-------------+---------+-------------+------+-----+-----+-----+-----+------+------+--------------------+------+-----------+\n",
      "|  2|2015|    1|  1|   1| 3.0| 13.0|11.0| 17.0| 400.0|53.0| 0.0|1025.0|             -22.9| 0.0|           NW|      2.7|Wanshouxigong| false|false|false|false|false| false| false|               false| false|      false|\n",
      "|  3|2015|    1|  1|   2| 3.0| 13.0|10.0| 15.0| 400.0|55.0| 0.0|1027.0|             -22.9| 0.0|           NW|      2.4|Wanshouxigong| false|false|false|false|false| false| false|               false| false|      false|\n",
      "|  4|2015|    1|  1|   3| 4.0| 18.0|13.0| 13.0| 400.0|57.0| 0.0|1028.0|             -24.4| 0.0|           NW|      2.4|Wanshouxigong| false|false|false|false|false| false| false|               false| false|      false|\n",
      "|  5|2015|    1|  1|   4| 4.0| 15.0|15.0| 12.0| 400.0|58.0| 0.0|1030.0|             -24.4| 0.0|           NW|      2.4|Wanshouxigong| false|false|false|false|false| false| false|               false| false|      false|\n",
      "|  6|2015|    1|  1|   5| 3.0| 15.0|13.0| 15.0| 500.0|55.0|-1.0|1024.0|             -24.4| 0.0|          WNW|      3.2|Wanshouxigong| false|false|false|false|false| false| false|               false| false|      false|\n",
      "|  7|2015|    1|  1|   6| 3.0| 18.0|10.0| 30.0| 500.0|39.0|-4.0|1029.0|             -24.3| 0.0|            W|      0.9|Wanshouxigong| false|false|false|false|false| false| false|               false| false|      false|\n",
      "|  8|2015|    1|  1|   7| 3.0| 18.0|10.0| 41.0| 600.0|30.0|-2.0|1029.0|             -23.9| 0.0|          WNW|      4.2|Wanshouxigong| false|false|false|false|false| false| false|               false| false|       true|\n",
      "|  9|2015|    1|  1|   8| 7.0| 19.0|10.0| 55.0| 600.0|16.0|-2.0|1027.0|             -23.9| 0.0|          WNW|      1.9|Wanshouxigong| false|false|false|false|false| false| false|               false| false|      false|\n",
      "| 10|2015|    1|  1|   9| 7.0| 20.0|11.0| 56.0| 600.0|17.0|-1.0|1026.0|             -23.0| 0.0|          SSW|      1.5|Wanshouxigong| false|false|false|false|false| false| false|               false| false|      false|\n",
      "| 11|2015|    1|  1|  10| 6.0| 18.0|15.0| 56.0| 900.0|21.0| 0.0|1025.0|             -22.9| 0.0|           SW|      2.1|Wanshouxigong| false|false|false|false|false| false| false|               false| false|      false|\n",
      "| 12|2015|    1|  1|  11|18.0| 50.0|26.0| 64.0|1300.0|23.0| 1.0|1029.0|             -22.8| 0.0|           SW|      1.4|Wanshouxigong| false|false|false|false|false| false| false|               false| false|      false|\n",
      "| 13|2015|    1|  1|  12|50.0|112.0|42.0| 76.0|1700.0|27.0| 1.0|1025.0|             -22.8| 0.0|           SW|      2.5|Wanshouxigong| false| true|false|false|false| false| false|               false| false|      false|\n",
      "| 14|2015|    1|  1|  13|57.0|111.0|37.0| 70.0|1500.0|37.0| 2.0|1025.0|             -22.8| 0.0|          SSW|      1.8|Wanshouxigong| false| true|false|false|false| false| false|               false| false|      false|\n",
      "| 15|2015|    1|  1|  14|50.0| 95.0|29.0| 59.0|1300.0|49.0| 3.0|1022.0|             -22.8| 0.0|           SW|      2.0|Wanshouxigong| false|false|false|false|false| false| false|               false| false|      false|\n",
      "| 16|2015|    1|  1|  15|35.0| 67.0|18.0| 33.0| 900.0|64.0| 3.0|1020.0|             -22.8| 0.0|           SW|      2.4|Wanshouxigong| false|false|false|false|false| false| false|               false| false|      false|\n",
      "| 17|2015|    1|  1|  16|36.0| 73.0|19.0| 39.0|1000.0|60.0| 3.0|1020.0|             -22.0| 0.0|           SW|      2.7|Wanshouxigong| false|false|false|false|false| false| false|               false| false|      false|\n",
      "| 18|2015|    1|  1|  17|38.0| 83.0|23.0| 58.0|1300.0|46.0| 1.0|1021.0|             -22.1| 0.0|           SW|      1.1|Wanshouxigong| false|false|false|false|false| false| false|               false| false|      false|\n",
      "| 19|2015|    1|  1|  18|67.0|128.0|35.0| 89.0|1800.0|25.0|-1.0|1017.0|             -20.1| 0.0|          SSW|      1.2|Wanshouxigong| false| true|false|false|false| false| false|               false| false|      false|\n",
      "| 20|2015|    1|  1|  19|76.0|146.0|43.0|106.0|2000.0|11.0|-2.0|1021.0|             -19.9| 0.0|            W|      1.1|Wanshouxigong| false| true|false|false|false| false| false|               false| false|      false|\n",
      "| 21|2015|    1|  1|  20|93.0|173.0|50.0|111.0|2300.0| 8.0|-4.0|1018.0|             -19.1| 0.0|          WNW|      1.4|Wanshouxigong| false| true|false|false|false| false| false|               false| false|      false|\n",
      "+---+----+-----+---+----+----+-----+----+-----+------+----+----+------+------------------+----+-------------+---------+-------------+------+-----+-----+-----+-----+------+------+--------------------+------+-----------+\n",
      "only showing top 20 rows\n",
      "\n"
     ]
    }
   ],
   "source": [
    "df_outliers.show()"
   ]
  },
  {
   "cell_type": "code",
   "execution_count": 11,
   "metadata": {},
   "outputs": [],
   "source": [
    "clean_df  = df_outliers.filter(~df_outliers['PM25_0'] & \n",
    "                   ~df_outliers['SO2_0'] & \n",
    "                   ~df_outliers['NO2_0'] & \n",
    "                   ~df_outliers['CO_0'] & \n",
    "                   ~df_outliers['O3_0'] & \n",
    "                   ~df_outliers['TEMP_0'] & \n",
    "                   ~df_outliers['PRES_0'] &\n",
    "                   ~df_outliers['DewPointTempeature_0']&\n",
    "                   ~df_outliers['RAIN_0']&\n",
    "                   ~df_outliers['WindSpend_0'])"
   ]
  },
  {
   "cell_type": "code",
   "execution_count": 12,
   "metadata": {},
   "outputs": [
    {
     "name": "stdout",
     "output_type": "stream",
     "text": [
      "+---+----+-----+---+----+----+----+----+----+------+----+----+------+------------------+----+-------------+---------+-------------+------+-----+-----+-----+-----+------+------+--------------------+------+-----------+\n",
      "| No|year|month|day|hour|PM25|PM10| SO2| NO2|    CO|  O3|TEMP|  PRES|DewPointTempeature|RAIN|WindDirection|WindSpend|      station|PM25_0|SO2_0|NO2_0| CO_0| O3_0|TEMP_0|PRES_0|DewPointTempeature_0|RAIN_0|WindSpend_0|\n",
      "+---+----+-----+---+----+----+----+----+----+------+----+----+------+------------------+----+-------------+---------+-------------+------+-----+-----+-----+-----+------+------+--------------------+------+-----------+\n",
      "|  2|2015|    1|  1|   1| 3.0|13.0|11.0|17.0| 400.0|53.0| 0.0|1025.0|             -22.9| 0.0|           NW|      2.7|Wanshouxigong| false|false|false|false|false| false| false|               false| false|      false|\n",
      "|  3|2015|    1|  1|   2| 3.0|13.0|10.0|15.0| 400.0|55.0| 0.0|1027.0|             -22.9| 0.0|           NW|      2.4|Wanshouxigong| false|false|false|false|false| false| false|               false| false|      false|\n",
      "|  4|2015|    1|  1|   3| 4.0|18.0|13.0|13.0| 400.0|57.0| 0.0|1028.0|             -24.4| 0.0|           NW|      2.4|Wanshouxigong| false|false|false|false|false| false| false|               false| false|      false|\n",
      "|  5|2015|    1|  1|   4| 4.0|15.0|15.0|12.0| 400.0|58.0| 0.0|1030.0|             -24.4| 0.0|           NW|      2.4|Wanshouxigong| false|false|false|false|false| false| false|               false| false|      false|\n",
      "|  6|2015|    1|  1|   5| 3.0|15.0|13.0|15.0| 500.0|55.0|-1.0|1024.0|             -24.4| 0.0|          WNW|      3.2|Wanshouxigong| false|false|false|false|false| false| false|               false| false|      false|\n",
      "|  7|2015|    1|  1|   6| 3.0|18.0|10.0|30.0| 500.0|39.0|-4.0|1029.0|             -24.3| 0.0|            W|      0.9|Wanshouxigong| false|false|false|false|false| false| false|               false| false|      false|\n",
      "|  9|2015|    1|  1|   8| 7.0|19.0|10.0|55.0| 600.0|16.0|-2.0|1027.0|             -23.9| 0.0|          WNW|      1.9|Wanshouxigong| false|false|false|false|false| false| false|               false| false|      false|\n",
      "| 10|2015|    1|  1|   9| 7.0|20.0|11.0|56.0| 600.0|17.0|-1.0|1026.0|             -23.0| 0.0|          SSW|      1.5|Wanshouxigong| false|false|false|false|false| false| false|               false| false|      false|\n",
      "| 11|2015|    1|  1|  10| 6.0|18.0|15.0|56.0| 900.0|21.0| 0.0|1025.0|             -22.9| 0.0|           SW|      2.1|Wanshouxigong| false|false|false|false|false| false| false|               false| false|      false|\n",
      "| 12|2015|    1|  1|  11|18.0|50.0|26.0|64.0|1300.0|23.0| 1.0|1029.0|             -22.8| 0.0|           SW|      1.4|Wanshouxigong| false|false|false|false|false| false| false|               false| false|      false|\n",
      "| 15|2015|    1|  1|  14|50.0|95.0|29.0|59.0|1300.0|49.0| 3.0|1022.0|             -22.8| 0.0|           SW|      2.0|Wanshouxigong| false|false|false|false|false| false| false|               false| false|      false|\n",
      "| 16|2015|    1|  1|  15|35.0|67.0|18.0|33.0| 900.0|64.0| 3.0|1020.0|             -22.8| 0.0|           SW|      2.4|Wanshouxigong| false|false|false|false|false| false| false|               false| false|      false|\n",
      "| 17|2015|    1|  1|  16|36.0|73.0|19.0|39.0|1000.0|60.0| 3.0|1020.0|             -22.0| 0.0|           SW|      2.7|Wanshouxigong| false|false|false|false|false| false| false|               false| false|      false|\n",
      "| 18|2015|    1|  1|  17|38.0|83.0|23.0|58.0|1300.0|46.0| 1.0|1021.0|             -22.1| 0.0|           SW|      1.1|Wanshouxigong| false|false|false|false|false| false| false|               false| false|      false|\n",
      "| 29|2015|    1|  2|   4|46.0|99.0|28.0|91.0|1500.0| 4.0|-1.0|1024.0|             -18.1| 0.0|           SW|      1.8|Wanshouxigong| false|false|false|false|false| false| false|               false| false|      false|\n",
      "| 30|2015|    1|  2|   5|34.0|78.0|23.0|86.0|1500.0| 3.0|-4.0|1021.0|             -16.6| 0.0|           SW|      0.7|Wanshouxigong| false|false|false|false|false| false| false|               false| false|      false|\n",
      "| 31|2015|    1|  2|   6|17.0|38.0|17.0|62.0|1000.0|16.0|-1.0|1020.0|             -18.1| 0.0|          WSW|      3.5|Wanshouxigong| false|false|false|false|false| false| false|               false| false|      false|\n",
      "| 32|2015|    1|  2|   7|12.0|21.0|13.0|60.0| 900.0|18.0|-1.0|1022.0|             -18.1| 0.0|            W|      3.7|Wanshouxigong| false|false|false|false|false| false| false|               false| false|      false|\n",
      "| 33|2015|    1|  2|   8| 9.0|22.0|11.0|73.0| 900.0|10.0|-1.0|1023.0|             -17.7| 0.0|          WNW|      2.7|Wanshouxigong| false|false|false|false|false| false| false|               false| false|      false|\n",
      "| 34|2015|    1|  2|   9|10.0|21.0|11.0|68.0| 800.0|16.0| 0.0|1027.0|             -17.7| 0.0|            W|      1.1|Wanshouxigong| false|false|false|false|false| false| false|               false| false|      false|\n",
      "+---+----+-----+---+----+----+----+----+----+------+----+----+------+------------------+----+-------------+---------+-------------+------+-----+-----+-----+-----+------+------+--------------------+------+-----------+\n",
      "only showing top 20 rows\n",
      "\n"
     ]
    },
    {
     "data": {
      "text/plain": [
       "143796"
      ]
     },
     "execution_count": 12,
     "metadata": {},
     "output_type": "execute_result"
    }
   ],
   "source": [
    "clean_df.show()\n",
    "clean_df.count()"
   ]
  },
  {
   "cell_type": "code",
   "execution_count": 13,
   "metadata": {},
   "outputs": [],
   "source": [
    "final_data = clean_df.drop(*[\"PM25_0\",\"SO2_0\",'NO2_0','CO_0','O3_0','TEMP_0','PRES_0','DewPointTempeature_0','RAIN_0','WindSpend_0',\"No\",\"PM10\"])"
   ]
  },
  {
   "cell_type": "code",
   "execution_count": 14,
   "metadata": {},
   "outputs": [
    {
     "name": "stdout",
     "output_type": "stream",
     "text": [
      "+----+-----+---+----+----+----+----+------+----+----+------+------------------+----+-------------+---------+-------------+\n",
      "|year|month|day|hour|PM25| SO2| NO2|    CO|  O3|TEMP|  PRES|DewPointTempeature|RAIN|WindDirection|WindSpend|      station|\n",
      "+----+-----+---+----+----+----+----+------+----+----+------+------------------+----+-------------+---------+-------------+\n",
      "|2015|    1|  1|   1| 3.0|11.0|17.0| 400.0|53.0| 0.0|1025.0|             -22.9| 0.0|           NW|      2.7|Wanshouxigong|\n",
      "|2015|    1|  1|   2| 3.0|10.0|15.0| 400.0|55.0| 0.0|1027.0|             -22.9| 0.0|           NW|      2.4|Wanshouxigong|\n",
      "|2015|    1|  1|   3| 4.0|13.0|13.0| 400.0|57.0| 0.0|1028.0|             -24.4| 0.0|           NW|      2.4|Wanshouxigong|\n",
      "|2015|    1|  1|   4| 4.0|15.0|12.0| 400.0|58.0| 0.0|1030.0|             -24.4| 0.0|           NW|      2.4|Wanshouxigong|\n",
      "|2015|    1|  1|   5| 3.0|13.0|15.0| 500.0|55.0|-1.0|1024.0|             -24.4| 0.0|          WNW|      3.2|Wanshouxigong|\n",
      "|2015|    1|  1|   6| 3.0|10.0|30.0| 500.0|39.0|-4.0|1029.0|             -24.3| 0.0|            W|      0.9|Wanshouxigong|\n",
      "|2015|    1|  1|   8| 7.0|10.0|55.0| 600.0|16.0|-2.0|1027.0|             -23.9| 0.0|          WNW|      1.9|Wanshouxigong|\n",
      "|2015|    1|  1|   9| 7.0|11.0|56.0| 600.0|17.0|-1.0|1026.0|             -23.0| 0.0|          SSW|      1.5|Wanshouxigong|\n",
      "|2015|    1|  1|  10| 6.0|15.0|56.0| 900.0|21.0| 0.0|1025.0|             -22.9| 0.0|           SW|      2.1|Wanshouxigong|\n",
      "|2015|    1|  1|  11|18.0|26.0|64.0|1300.0|23.0| 1.0|1029.0|             -22.8| 0.0|           SW|      1.4|Wanshouxigong|\n",
      "|2015|    1|  1|  14|50.0|29.0|59.0|1300.0|49.0| 3.0|1022.0|             -22.8| 0.0|           SW|      2.0|Wanshouxigong|\n",
      "|2015|    1|  1|  15|35.0|18.0|33.0| 900.0|64.0| 3.0|1020.0|             -22.8| 0.0|           SW|      2.4|Wanshouxigong|\n",
      "|2015|    1|  1|  16|36.0|19.0|39.0|1000.0|60.0| 3.0|1020.0|             -22.0| 0.0|           SW|      2.7|Wanshouxigong|\n",
      "|2015|    1|  1|  17|38.0|23.0|58.0|1300.0|46.0| 1.0|1021.0|             -22.1| 0.0|           SW|      1.1|Wanshouxigong|\n",
      "|2015|    1|  2|   4|46.0|28.0|91.0|1500.0| 4.0|-1.0|1024.0|             -18.1| 0.0|           SW|      1.8|Wanshouxigong|\n",
      "|2015|    1|  2|   5|34.0|23.0|86.0|1500.0| 3.0|-4.0|1021.0|             -16.6| 0.0|           SW|      0.7|Wanshouxigong|\n",
      "|2015|    1|  2|   6|17.0|17.0|62.0|1000.0|16.0|-1.0|1020.0|             -18.1| 0.0|          WSW|      3.5|Wanshouxigong|\n",
      "|2015|    1|  2|   7|12.0|13.0|60.0| 900.0|18.0|-1.0|1022.0|             -18.1| 0.0|            W|      3.7|Wanshouxigong|\n",
      "|2015|    1|  2|   8| 9.0|11.0|73.0| 900.0|10.0|-1.0|1023.0|             -17.7| 0.0|          WNW|      2.7|Wanshouxigong|\n",
      "|2015|    1|  2|   9|10.0|11.0|68.0| 800.0|16.0| 0.0|1027.0|             -17.7| 0.0|            W|      1.1|Wanshouxigong|\n",
      "+----+-----+---+----+----+----+----+------+----+----+------+------------------+----+-------------+---------+-------------+\n",
      "only showing top 20 rows\n",
      "\n"
     ]
    }
   ],
   "source": [
    "final_data.show()"
   ]
  },
  {
   "cell_type": "code",
   "execution_count": 15,
   "metadata": {},
   "outputs": [],
   "source": [
    "import pyspark.sql.functions as F\n",
    "from pyspark.sql.types import *\n",
    "def NationalQuanlityRemark(value):\n",
    "    if   value <= 50: \n",
    "        return 'Good'\n",
    "    elif value > 50 and value <= 100:\n",
    "        return \"Satisfactory\"\n",
    "    elif value > 100 and value <= 200:\n",
    "        return 'Moderate'\n",
    "    elif value > 200 and value <= 300:\n",
    "        return 'Poor'\n",
    "    elif value > 300 and value <=400:\n",
    "        return 'Very Poor'\n",
    "    else:\n",
    "        return 'Severe'"
   ]
  },
  {
   "cell_type": "code",
   "execution_count": 16,
   "metadata": {},
   "outputs": [
    {
     "name": "stdout",
     "output_type": "stream",
     "text": [
      "+----+-----+---+----+----+----+----+------+----+----+------+------------------+----+-------------+---------+-------------+----+\n",
      "|year|month|day|hour|PM25| SO2| NO2|    CO|  O3|TEMP|  PRES|DewPointTempeature|RAIN|WindDirection|WindSpend|      station| NQR|\n",
      "+----+-----+---+----+----+----+----+------+----+----+------+------------------+----+-------------+---------+-------------+----+\n",
      "|2015|    1|  1|   1| 3.0|11.0|17.0| 400.0|53.0| 0.0|1025.0|             -22.9| 0.0|           NW|      2.7|Wanshouxigong|Good|\n",
      "|2015|    1|  1|   2| 3.0|10.0|15.0| 400.0|55.0| 0.0|1027.0|             -22.9| 0.0|           NW|      2.4|Wanshouxigong|Good|\n",
      "|2015|    1|  1|   3| 4.0|13.0|13.0| 400.0|57.0| 0.0|1028.0|             -24.4| 0.0|           NW|      2.4|Wanshouxigong|Good|\n",
      "|2015|    1|  1|   4| 4.0|15.0|12.0| 400.0|58.0| 0.0|1030.0|             -24.4| 0.0|           NW|      2.4|Wanshouxigong|Good|\n",
      "|2015|    1|  1|   5| 3.0|13.0|15.0| 500.0|55.0|-1.0|1024.0|             -24.4| 0.0|          WNW|      3.2|Wanshouxigong|Good|\n",
      "|2015|    1|  1|   6| 3.0|10.0|30.0| 500.0|39.0|-4.0|1029.0|             -24.3| 0.0|            W|      0.9|Wanshouxigong|Good|\n",
      "|2015|    1|  1|   8| 7.0|10.0|55.0| 600.0|16.0|-2.0|1027.0|             -23.9| 0.0|          WNW|      1.9|Wanshouxigong|Good|\n",
      "|2015|    1|  1|   9| 7.0|11.0|56.0| 600.0|17.0|-1.0|1026.0|             -23.0| 0.0|          SSW|      1.5|Wanshouxigong|Good|\n",
      "|2015|    1|  1|  10| 6.0|15.0|56.0| 900.0|21.0| 0.0|1025.0|             -22.9| 0.0|           SW|      2.1|Wanshouxigong|Good|\n",
      "|2015|    1|  1|  11|18.0|26.0|64.0|1300.0|23.0| 1.0|1029.0|             -22.8| 0.0|           SW|      1.4|Wanshouxigong|Good|\n",
      "|2015|    1|  1|  14|50.0|29.0|59.0|1300.0|49.0| 3.0|1022.0|             -22.8| 0.0|           SW|      2.0|Wanshouxigong|Good|\n",
      "|2015|    1|  1|  15|35.0|18.0|33.0| 900.0|64.0| 3.0|1020.0|             -22.8| 0.0|           SW|      2.4|Wanshouxigong|Good|\n",
      "|2015|    1|  1|  16|36.0|19.0|39.0|1000.0|60.0| 3.0|1020.0|             -22.0| 0.0|           SW|      2.7|Wanshouxigong|Good|\n",
      "|2015|    1|  1|  17|38.0|23.0|58.0|1300.0|46.0| 1.0|1021.0|             -22.1| 0.0|           SW|      1.1|Wanshouxigong|Good|\n",
      "|2015|    1|  2|   4|46.0|28.0|91.0|1500.0| 4.0|-1.0|1024.0|             -18.1| 0.0|           SW|      1.8|Wanshouxigong|Good|\n",
      "|2015|    1|  2|   5|34.0|23.0|86.0|1500.0| 3.0|-4.0|1021.0|             -16.6| 0.0|           SW|      0.7|Wanshouxigong|Good|\n",
      "|2015|    1|  2|   6|17.0|17.0|62.0|1000.0|16.0|-1.0|1020.0|             -18.1| 0.0|          WSW|      3.5|Wanshouxigong|Good|\n",
      "|2015|    1|  2|   7|12.0|13.0|60.0| 900.0|18.0|-1.0|1022.0|             -18.1| 0.0|            W|      3.7|Wanshouxigong|Good|\n",
      "|2015|    1|  2|   8| 9.0|11.0|73.0| 900.0|10.0|-1.0|1023.0|             -17.7| 0.0|          WNW|      2.7|Wanshouxigong|Good|\n",
      "|2015|    1|  2|   9|10.0|11.0|68.0| 800.0|16.0| 0.0|1027.0|             -17.7| 0.0|            W|      1.1|Wanshouxigong|Good|\n",
      "+----+-----+---+----+----+----+----+------+----+----+------+------------------+----+-------------+---------+-------------+----+\n",
      "only showing top 20 rows\n",
      "\n"
     ]
    }
   ],
   "source": [
    "udfsomefunc = F.udf(NationalQuanlityRemark, StringType())\n",
    "NQR = final_data.withColumn(\"NQR\", udfsomefunc(\"PM25\"))\n",
    "NQR.show()"
   ]
  },
  {
   "cell_type": "code",
   "execution_count": 17,
   "metadata": {},
   "outputs": [],
   "source": [
    "def season(value):\n",
    "    if   value >=4 and value <6: \n",
    "        return 'Spring'\n",
    "    elif value >=6 and value<9:\n",
    "        return \"Summer\"\n",
    "    elif value > 9 and value <= 11:\n",
    "        return 'Autumn'\n",
    "    else:\n",
    "        return 'Winter'"
   ]
  },
  {
   "cell_type": "code",
   "execution_count": 18,
   "metadata": {},
   "outputs": [
    {
     "name": "stdout",
     "output_type": "stream",
     "text": [
      "+----+-----+---+----+----+----+----+------+----+----+------+------------------+----+-------------+---------+-------------+----+------+\n",
      "|year|month|day|hour|PM25| SO2| NO2|    CO|  O3|TEMP|  PRES|DewPointTempeature|RAIN|WindDirection|WindSpend|      station| NQR|Season|\n",
      "+----+-----+---+----+----+----+----+------+----+----+------+------------------+----+-------------+---------+-------------+----+------+\n",
      "|2015|    1|  1|   1| 3.0|11.0|17.0| 400.0|53.0| 0.0|1025.0|             -22.9| 0.0|           NW|      2.7|Wanshouxigong|Good|Winter|\n",
      "|2015|    1|  1|   2| 3.0|10.0|15.0| 400.0|55.0| 0.0|1027.0|             -22.9| 0.0|           NW|      2.4|Wanshouxigong|Good|Winter|\n",
      "|2015|    1|  1|   3| 4.0|13.0|13.0| 400.0|57.0| 0.0|1028.0|             -24.4| 0.0|           NW|      2.4|Wanshouxigong|Good|Winter|\n",
      "|2015|    1|  1|   4| 4.0|15.0|12.0| 400.0|58.0| 0.0|1030.0|             -24.4| 0.0|           NW|      2.4|Wanshouxigong|Good|Winter|\n",
      "|2015|    1|  1|   5| 3.0|13.0|15.0| 500.0|55.0|-1.0|1024.0|             -24.4| 0.0|          WNW|      3.2|Wanshouxigong|Good|Winter|\n",
      "|2015|    1|  1|   6| 3.0|10.0|30.0| 500.0|39.0|-4.0|1029.0|             -24.3| 0.0|            W|      0.9|Wanshouxigong|Good|Winter|\n",
      "|2015|    1|  1|   8| 7.0|10.0|55.0| 600.0|16.0|-2.0|1027.0|             -23.9| 0.0|          WNW|      1.9|Wanshouxigong|Good|Winter|\n",
      "|2015|    1|  1|   9| 7.0|11.0|56.0| 600.0|17.0|-1.0|1026.0|             -23.0| 0.0|          SSW|      1.5|Wanshouxigong|Good|Winter|\n",
      "|2015|    1|  1|  10| 6.0|15.0|56.0| 900.0|21.0| 0.0|1025.0|             -22.9| 0.0|           SW|      2.1|Wanshouxigong|Good|Winter|\n",
      "|2015|    1|  1|  11|18.0|26.0|64.0|1300.0|23.0| 1.0|1029.0|             -22.8| 0.0|           SW|      1.4|Wanshouxigong|Good|Winter|\n",
      "|2015|    1|  1|  14|50.0|29.0|59.0|1300.0|49.0| 3.0|1022.0|             -22.8| 0.0|           SW|      2.0|Wanshouxigong|Good|Winter|\n",
      "|2015|    1|  1|  15|35.0|18.0|33.0| 900.0|64.0| 3.0|1020.0|             -22.8| 0.0|           SW|      2.4|Wanshouxigong|Good|Winter|\n",
      "|2015|    1|  1|  16|36.0|19.0|39.0|1000.0|60.0| 3.0|1020.0|             -22.0| 0.0|           SW|      2.7|Wanshouxigong|Good|Winter|\n",
      "|2015|    1|  1|  17|38.0|23.0|58.0|1300.0|46.0| 1.0|1021.0|             -22.1| 0.0|           SW|      1.1|Wanshouxigong|Good|Winter|\n",
      "|2015|    1|  2|   4|46.0|28.0|91.0|1500.0| 4.0|-1.0|1024.0|             -18.1| 0.0|           SW|      1.8|Wanshouxigong|Good|Winter|\n",
      "|2015|    1|  2|   5|34.0|23.0|86.0|1500.0| 3.0|-4.0|1021.0|             -16.6| 0.0|           SW|      0.7|Wanshouxigong|Good|Winter|\n",
      "|2015|    1|  2|   6|17.0|17.0|62.0|1000.0|16.0|-1.0|1020.0|             -18.1| 0.0|          WSW|      3.5|Wanshouxigong|Good|Winter|\n",
      "|2015|    1|  2|   7|12.0|13.0|60.0| 900.0|18.0|-1.0|1022.0|             -18.1| 0.0|            W|      3.7|Wanshouxigong|Good|Winter|\n",
      "|2015|    1|  2|   8| 9.0|11.0|73.0| 900.0|10.0|-1.0|1023.0|             -17.7| 0.0|          WNW|      2.7|Wanshouxigong|Good|Winter|\n",
      "|2015|    1|  2|   9|10.0|11.0|68.0| 800.0|16.0| 0.0|1027.0|             -17.7| 0.0|            W|      1.1|Wanshouxigong|Good|Winter|\n",
      "+----+-----+---+----+----+----+----+------+----+----+------+------------------+----+-------------+---------+-------------+----+------+\n",
      "only showing top 20 rows\n",
      "\n"
     ]
    }
   ],
   "source": [
    "Seasonfunc = F.udf(season, StringType())\n",
    "new_df = NQR.withColumn(\"Season\", Seasonfunc(\"year\"))\n",
    "new_df.show()"
   ]
  },
  {
   "cell_type": "code",
   "execution_count": 19,
   "metadata": {},
   "outputs": [],
   "source": [
    "new_df.write.csv(\"../final_dataset/final.csv\")"
   ]
  },
  {
   "cell_type": "code",
   "execution_count": 20,
   "metadata": {},
   "outputs": [
    {
     "data": {
      "text/plain": [
       "143796"
      ]
     },
     "execution_count": 20,
     "metadata": {},
     "output_type": "execute_result"
    }
   ],
   "source": [
    "new_df.count()"
   ]
  },
  {
   "cell_type": "code",
   "execution_count": 21,
   "metadata": {},
   "outputs": [
    {
     "name": "stdout",
     "output_type": "stream",
     "text": [
      "root\n",
      " |-- year: integer (nullable = true)\n",
      " |-- month: integer (nullable = true)\n",
      " |-- day: integer (nullable = true)\n",
      " |-- hour: integer (nullable = true)\n",
      " |-- PM25: float (nullable = true)\n",
      " |-- SO2: float (nullable = true)\n",
      " |-- NO2: float (nullable = true)\n",
      " |-- CO: float (nullable = true)\n",
      " |-- O3: float (nullable = true)\n",
      " |-- TEMP: float (nullable = true)\n",
      " |-- PRES: float (nullable = true)\n",
      " |-- DewPointTempeature: float (nullable = true)\n",
      " |-- RAIN: float (nullable = true)\n",
      " |-- WindDirection: string (nullable = true)\n",
      " |-- WindSpend: float (nullable = true)\n",
      " |-- station: string (nullable = true)\n",
      " |-- NQR: string (nullable = true)\n",
      " |-- Season: string (nullable = true)\n",
      "\n"
     ]
    }
   ],
   "source": [
    "new_df.printSchema()"
   ]
  },
  {
   "cell_type": "code",
   "execution_count": null,
   "metadata": {},
   "outputs": [],
   "source": []
  }
 ],
 "metadata": {
  "kernelspec": {
   "display_name": "Python 3",
   "language": "python",
   "name": "python3"
  },
  "language_info": {
   "codemirror_mode": {
    "name": "ipython",
    "version": 3
   },
   "file_extension": ".py",
   "mimetype": "text/x-python",
   "name": "python",
   "nbconvert_exporter": "python",
   "pygments_lexer": "ipython3",
   "version": "3.5.2"
  }
 },
 "nbformat": 4,
 "nbformat_minor": 2
}
