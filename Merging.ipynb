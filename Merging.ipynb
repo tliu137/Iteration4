{
 "cells": [
  {
   "cell_type": "code",
   "execution_count": 1,
   "metadata": {},
   "outputs": [],
   "source": [
    "# Must be included at the beginning of each new notebook. Remember to change the app name.\n",
    "import findspark\n",
    "findspark.init('/home/ubuntu/spark-2.1.1-bin-hadoop2.7')\n",
    "import pyspark\n",
    "from pyspark.sql import SparkSession\n",
    "spark = SparkSession.builder.appName('BDAS').getOrCreate()"
   ]
  },
  {
   "cell_type": "code",
   "execution_count": 2,
   "metadata": {},
   "outputs": [],
   "source": [
    "df = spark.read.csv('../ExampleDataset/test1.csv', header=True, inferSchema=True)\n",
    "df2 = spark.read.csv('../ExampleDataset/test2.csv', header=True, inferSchema=True)"
   ]
  },
  {
   "cell_type": "code",
   "execution_count": 3,
   "metadata": {},
   "outputs": [
    {
     "name": "stdout",
     "output_type": "stream",
     "text": [
      "+---+----+-----+---+----+-----+----+---+---+---+---+\n",
      "| No|year|month|day|hour|PM2.5|PM10|SO2|NO2| CO| O3|\n",
      "+---+----+-----+---+----+-----+----+---+---+---+---+\n",
      "|  1|2013|    3|  1|   0|    4|   4|  4|  7|300| 77|\n",
      "|  2|2013|    3|  1|   1|    8|   8|  4|  7|300| 77|\n",
      "|  3|2013|    3|  1|   2|    7|   7|  5| 10|300| 73|\n",
      "|  4|2013|    3|  1|   3|    6|   6| 11| 11|300| 72|\n",
      "|  5|2013|    3|  1|   4|    3|   3| 12| 12|300| 72|\n",
      "|  6|2013|    3|  1|   5|    5|   5| 18| 18|400| 66|\n",
      "|  7|2013|    3|  1|   6|    3|   3| 18| 32|500| 50|\n",
      "|  8|2013|    3|  1|   7|    3|   6| 19| 41|500| 43|\n",
      "|  9|2013|    3|  1|   8|    3|   6| 16| 43|500| 45|\n",
      "| 10|2013|    3|  1|   9|    3|   8| 12| 28|400| 59|\n",
      "| 11|2013|    3|  1|  10|    3|   6|  9| 12|400| 72|\n",
      "| 12|2013|    3|  1|  11|    3|   6|  9| 14|400| 71|\n",
      "| 13|2013|    3|  1|  12|    3|   6|  7| 13|300| 74|\n",
      "| 14|2013|    3|  1|  13|    3|   6|  7| 12|400| 76|\n",
      "| 15|2013|    3|  1|  14|    6|   9|  7| 11|400| 77|\n",
      "| 16|2013|    3|  1|  15|    8|  15|  7| 14|400| 76|\n",
      "| 17|2013|    3|  1|  16|    9|  19|  9| 13|400| 76|\n",
      "| 18|2013|    3|  1|  17|   10|  23| 11| 15|400| 74|\n",
      "| 19|2013|    3|  1|  18|   11|  20|  8| 20|500| 70|\n",
      "| 20|2013|    3|  1|  19|    8|  14| 12| 30|500| 60|\n",
      "+---+----+-----+---+----+-----+----+---+---+---+---+\n",
      "only showing top 20 rows\n",
      "\n"
     ]
    }
   ],
   "source": [
    "df.show()"
   ]
  },
  {
   "cell_type": "code",
   "execution_count": 4,
   "metadata": {},
   "outputs": [
    {
     "name": "stdout",
     "output_type": "stream",
     "text": [
      "+---+----+------+-----+----+---+----+------------+\n",
      "| No|TEMP|  PRES| DEWP|RAIN| wd|WSPM|     station|\n",
      "+---+----+------+-----+----+---+----+------------+\n",
      "|  1|-0.7|1023.0|-18.8|   0|NNW| 4.4|Aotizhongxin|\n",
      "|  2|-1.1|1023.2|-18.2|   0|  N| 4.7|Aotizhongxin|\n",
      "|  3|-1.1|1023.5|-18.2|   0|NNW| 5.6|Aotizhongxin|\n",
      "|  4|-1.4|1024.5|-19.4|   0| NW| 3.1|Aotizhongxin|\n",
      "|  5|-2.0|1025.2|-19.5|   0|  N| 2.0|Aotizhongxin|\n",
      "|  6|-2.2|1025.6|-19.6|   0|  N| 3.7|Aotizhongxin|\n",
      "|  7|-2.6|1026.5|-19.1|   0|NNE| 2.5|Aotizhongxin|\n",
      "|  8|-1.6|1027.4|-19.1|   0|NNW| 3.8|Aotizhongxin|\n",
      "|  9| 0.1|1028.3|-19.2|   0|NNW| 4.1|Aotizhongxin|\n",
      "| 10| 1.2|1028.5|-19.3|   0|  N| 2.6|Aotizhongxin|\n",
      "| 11| 1.9|1028.2|-19.4|   0|NNW| 3.6|Aotizhongxin|\n",
      "| 12| 2.9|1028.2|-20.5|   0|  N| 3.7|Aotizhongxin|\n",
      "| 13| 3.9|1027.3|-19.7|   0|NNW| 5.1|Aotizhongxin|\n",
      "| 14| 5.3|1026.2|-19.3|   0| NW| 4.3|Aotizhongxin|\n",
      "| 15| 6.0|1025.9|-19.6|   0| NW| 4.4|Aotizhongxin|\n",
      "| 16| 6.2|1025.7|-18.6|   0|NNE| 2.8|Aotizhongxin|\n",
      "| 17| 5.9|1025.6|-18.1|   0|NNW| 3.9|Aotizhongxin|\n",
      "| 18| 4.3|1026.3|-18.7|   0|NNE| 2.8|Aotizhongxin|\n",
      "| 19| 3.1|1027.4|-18.4|   0|NNE| 2.1|Aotizhongxin|\n",
      "| 20| 2.3|1028.3|-18.4|   0|  N| 2.8|Aotizhongxin|\n",
      "+---+----+------+-----+----+---+----+------------+\n",
      "only showing top 20 rows\n",
      "\n"
     ]
    }
   ],
   "source": [
    "df2.show()"
   ]
  },
  {
   "cell_type": "code",
   "execution_count": 5,
   "metadata": {},
   "outputs": [],
   "source": [
    "new_df = df.join(df2, on='No')"
   ]
  },
  {
   "cell_type": "code",
   "execution_count": 6,
   "metadata": {},
   "outputs": [
    {
     "name": "stdout",
     "output_type": "stream",
     "text": [
      "+---+----+-----+---+----+-----+----+---+---+---+---+----+------+-----+----+---+----+------------+\n",
      "| No|year|month|day|hour|PM2.5|PM10|SO2|NO2| CO| O3|TEMP|  PRES| DEWP|RAIN| wd|WSPM|     station|\n",
      "+---+----+-----+---+----+-----+----+---+---+---+---+----+------+-----+----+---+----+------------+\n",
      "|  1|2013|    3|  1|   0|    4|   4|  4|  7|300| 77|-0.7|1023.0|-18.8|   0|NNW| 4.4|Aotizhongxin|\n",
      "|  2|2013|    3|  1|   1|    8|   8|  4|  7|300| 77|-1.1|1023.2|-18.2|   0|  N| 4.7|Aotizhongxin|\n",
      "|  3|2013|    3|  1|   2|    7|   7|  5| 10|300| 73|-1.1|1023.5|-18.2|   0|NNW| 5.6|Aotizhongxin|\n",
      "|  4|2013|    3|  1|   3|    6|   6| 11| 11|300| 72|-1.4|1024.5|-19.4|   0| NW| 3.1|Aotizhongxin|\n",
      "|  5|2013|    3|  1|   4|    3|   3| 12| 12|300| 72|-2.0|1025.2|-19.5|   0|  N| 2.0|Aotizhongxin|\n",
      "|  6|2013|    3|  1|   5|    5|   5| 18| 18|400| 66|-2.2|1025.6|-19.6|   0|  N| 3.7|Aotizhongxin|\n",
      "|  7|2013|    3|  1|   6|    3|   3| 18| 32|500| 50|-2.6|1026.5|-19.1|   0|NNE| 2.5|Aotizhongxin|\n",
      "|  8|2013|    3|  1|   7|    3|   6| 19| 41|500| 43|-1.6|1027.4|-19.1|   0|NNW| 3.8|Aotizhongxin|\n",
      "|  9|2013|    3|  1|   8|    3|   6| 16| 43|500| 45| 0.1|1028.3|-19.2|   0|NNW| 4.1|Aotizhongxin|\n",
      "| 10|2013|    3|  1|   9|    3|   8| 12| 28|400| 59| 1.2|1028.5|-19.3|   0|  N| 2.6|Aotizhongxin|\n",
      "| 11|2013|    3|  1|  10|    3|   6|  9| 12|400| 72| 1.9|1028.2|-19.4|   0|NNW| 3.6|Aotizhongxin|\n",
      "| 12|2013|    3|  1|  11|    3|   6|  9| 14|400| 71| 2.9|1028.2|-20.5|   0|  N| 3.7|Aotizhongxin|\n",
      "| 13|2013|    3|  1|  12|    3|   6|  7| 13|300| 74| 3.9|1027.3|-19.7|   0|NNW| 5.1|Aotizhongxin|\n",
      "| 14|2013|    3|  1|  13|    3|   6|  7| 12|400| 76| 5.3|1026.2|-19.3|   0| NW| 4.3|Aotizhongxin|\n",
      "| 15|2013|    3|  1|  14|    6|   9|  7| 11|400| 77| 6.0|1025.9|-19.6|   0| NW| 4.4|Aotizhongxin|\n",
      "| 16|2013|    3|  1|  15|    8|  15|  7| 14|400| 76| 6.2|1025.7|-18.6|   0|NNE| 2.8|Aotizhongxin|\n",
      "| 17|2013|    3|  1|  16|    9|  19|  9| 13|400| 76| 5.9|1025.6|-18.1|   0|NNW| 3.9|Aotizhongxin|\n",
      "| 18|2013|    3|  1|  17|   10|  23| 11| 15|400| 74| 4.3|1026.3|-18.7|   0|NNE| 2.8|Aotizhongxin|\n",
      "| 19|2013|    3|  1|  18|   11|  20|  8| 20|500| 70| 3.1|1027.4|-18.4|   0|NNE| 2.1|Aotizhongxin|\n",
      "| 20|2013|    3|  1|  19|    8|  14| 12| 30|500| 60| 2.3|1028.3|-18.4|   0|  N| 2.8|Aotizhongxin|\n",
      "+---+----+-----+---+----+-----+----+---+---+---+---+----+------+-----+----+---+----+------------+\n",
      "only showing top 20 rows\n",
      "\n"
     ]
    }
   ],
   "source": [
    "new_df.show()"
   ]
  },
  {
   "cell_type": "code",
   "execution_count": null,
   "metadata": {},
   "outputs": [],
   "source": []
  }
 ],
 "metadata": {
  "kernelspec": {
   "display_name": "Python 3",
   "language": "python",
   "name": "python3"
  },
  "language_info": {
   "codemirror_mode": {
    "name": "ipython",
    "version": 3
   },
   "file_extension": ".py",
   "mimetype": "text/x-python",
   "name": "python",
   "nbconvert_exporter": "python",
   "pygments_lexer": "ipython3",
   "version": "3.5.2"
  }
 },
 "nbformat": 4,
 "nbformat_minor": 2
}
